{
  "nbformat": 4,
  "nbformat_minor": 0,
  "metadata": {
    "colab": {
      "name": "3.Data Type Operations.ipynb",
      "provenance": [],
      "collapsed_sections": [],
      "toc_visible": true,
      "authorship_tag": "ABX9TyMjA1gi1RjT4j+WfSWcnTAs",
      "include_colab_link": true
    },
    "kernelspec": {
      "name": "python3",
      "display_name": "Python 3"
    }
  },
  "cells": [
    {
      "cell_type": "markdown",
      "metadata": {
        "id": "view-in-github",
        "colab_type": "text"
      },
      "source": [
        "<a href=\"https://colab.research.google.com/github/jungmin0710/K-digital-PythonDataAnalytics/blob/main/3_Data_Type_Operations.ipynb\" target=\"_parent\"><img src=\"https://colab.research.google.com/assets/colab-badge.svg\" alt=\"Open In Colab\"/></a>"
      ]
    },
    {
      "cell_type": "markdown",
      "metadata": {
        "id": "TUfim_n62-iu"
      },
      "source": [
        "Chapter 3(실습은 3부터 시작합니다.)"
      ]
    },
    {
      "cell_type": "markdown",
      "metadata": {
        "id": "3gzrElXLuwZa"
      },
      "source": [
        "#Python Data Type과 Operation"
      ]
    },
    {
      "cell_type": "code",
      "metadata": {
        "id": "Ivm5LBrxuus6"
      },
      "source": [
        "import warnings\r\n",
        "warnings.filterwarnings('ignore')"
      ],
      "execution_count": 1,
      "outputs": []
    },
    {
      "cell_type": "markdown",
      "metadata": {
        "id": "vthnFF5xKtGp"
      },
      "source": [
        "현재 코드에서 경고가 뜨지 않게 설정해두었다."
      ]
    },
    {
      "cell_type": "markdown",
      "metadata": {
        "id": "KPfSruszuvhu"
      },
      "source": [
        "## 1. Python Function()"
      ]
    },
    {
      "cell_type": "code",
      "metadata": {
        "colab": {
          "base_uri": "https://localhost:8080/"
        },
        "id": "I72w-GxevAvQ",
        "outputId": "f4694c24-12b6-4041-bb78-ec51e3781751"
      },
      "source": [
        "print('Hello World')"
      ],
      "execution_count": 2,
      "outputs": [
        {
          "output_type": "stream",
          "text": [
            "Hello World\n"
          ],
          "name": "stdout"
        }
      ]
    },
    {
      "cell_type": "code",
      "metadata": {
        "colab": {
          "base_uri": "https://localhost:8080/"
        },
        "id": "mYvstvOfvEky",
        "outputId": "58a45b07-6c31-4199-caef-94f29dadba97"
      },
      "source": [
        "print('Hello World', end = '\\t')"
      ],
      "execution_count": 3,
      "outputs": [
        {
          "output_type": "stream",
          "text": [
            "Hello World\t"
          ],
          "name": "stdout"
        }
      ]
    },
    {
      "cell_type": "code",
      "metadata": {
        "colab": {
          "base_uri": "https://localhost:8080/"
        },
        "id": "lrQ5CeQSvH56",
        "outputId": "df21e18b-c1c9-4f01-a2b9-7f97da94799b"
      },
      "source": [
        "print('Hello','World', sep = '-')"
      ],
      "execution_count": 4,
      "outputs": [
        {
          "output_type": "stream",
          "text": [
            "Hello-World\n"
          ],
          "name": "stdout"
        }
      ]
    },
    {
      "cell_type": "code",
      "metadata": {
        "colab": {
          "base_uri": "https://localhost:8080/"
        },
        "id": "gr-Jx0fCvL_h",
        "outputId": "0d055b38-303f-4ef4-c232-98a338d4fb13"
      },
      "source": [
        "koo = 'Data Analytics'\r\n",
        "print(koo)"
      ],
      "execution_count": 5,
      "outputs": [
        {
          "output_type": "stream",
          "text": [
            "Data Analytics\n"
          ],
          "name": "stdout"
        }
      ]
    },
    {
      "cell_type": "code",
      "metadata": {
        "colab": {
          "base_uri": "https://localhost:8080/"
        },
        "id": "xxOeYX2bvPZ-",
        "outputId": "61e95a6d-23f2-40ae-d704-9f9a265351b1"
      },
      "source": [
        "type(koo)"
      ],
      "execution_count": 6,
      "outputs": [
        {
          "output_type": "execute_result",
          "data": {
            "text/plain": [
              "str"
            ]
          },
          "metadata": {
            "tags": []
          },
          "execution_count": 6
        }
      ]
    },
    {
      "cell_type": "code",
      "metadata": {
        "colab": {
          "base_uri": "https://localhost:8080/"
        },
        "id": "i1vnl0PSvQpi",
        "outputId": "24eca4fa-9337-46c6-db6f-761060f09873"
      },
      "source": [
        "help(print)"
      ],
      "execution_count": 7,
      "outputs": [
        {
          "output_type": "stream",
          "text": [
            "Help on built-in function print in module builtins:\n",
            "\n",
            "print(...)\n",
            "    print(value, ..., sep=' ', end='\\n', file=sys.stdout, flush=False)\n",
            "    \n",
            "    Prints the values to a stream, or to sys.stdout by default.\n",
            "    Optional keyword arguments:\n",
            "    file:  a file-like object (stream); defaults to the current sys.stdout.\n",
            "    sep:   string inserted between values, default a space.\n",
            "    end:   string appended after the last value, default a newline.\n",
            "    flush: whether to forcibly flush the stream.\n",
            "\n"
          ],
          "name": "stdout"
        }
      ]
    },
    {
      "cell_type": "markdown",
      "metadata": {
        "id": "xI78MwtmvT1b"
      },
      "source": [
        "## 2. python Data Type\r\n",
        "> 1)Numeric : 숫자형\r\n",
        " * 정수형(int)\r\n",
        " * 실수형(float)\r\n",
        " * 복소수형(complex)"
      ]
    },
    {
      "cell_type": "code",
      "metadata": {
        "colab": {
          "base_uri": "https://localhost:8080/"
        },
        "id": "odkdLWuEvSEl",
        "outputId": "5727bcab-0e53-4e80-821d-919fd877d965"
      },
      "source": [
        "type(888)"
      ],
      "execution_count": 8,
      "outputs": [
        {
          "output_type": "execute_result",
          "data": {
            "text/plain": [
              "int"
            ]
          },
          "metadata": {
            "tags": []
          },
          "execution_count": 8
        }
      ]
    },
    {
      "cell_type": "code",
      "metadata": {
        "colab": {
          "base_uri": "https://localhost:8080/"
        },
        "id": "HecYD7ravdcB",
        "outputId": "b71ad467-0081-473b-a6ff-c60706c890b4"
      },
      "source": [
        "type(0o77)"
      ],
      "execution_count": 11,
      "outputs": [
        {
          "output_type": "execute_result",
          "data": {
            "text/plain": [
              "int"
            ]
          },
          "metadata": {
            "tags": []
          },
          "execution_count": 11
        }
      ]
    },
    {
      "cell_type": "code",
      "metadata": {
        "colab": {
          "base_uri": "https://localhost:8080/"
        },
        "id": "pRGcRiUSvgCm",
        "outputId": "9f086547-7bcc-43b7-8903-8d59dacbc13e"
      },
      "source": [
        "type(0xff)"
      ],
      "execution_count": 12,
      "outputs": [
        {
          "output_type": "execute_result",
          "data": {
            "text/plain": [
              "int"
            ]
          },
          "metadata": {
            "tags": []
          },
          "execution_count": 12
        }
      ]
    },
    {
      "cell_type": "code",
      "metadata": {
        "colab": {
          "base_uri": "https://localhost:8080/"
        },
        "id": "_TZARZzWvn4X",
        "outputId": "6851dbf1-6cef-4ee5-b62b-d75c12db1c94"
      },
      "source": [
        "type(0b1001)"
      ],
      "execution_count": 13,
      "outputs": [
        {
          "output_type": "execute_result",
          "data": {
            "text/plain": [
              "int"
            ]
          },
          "metadata": {
            "tags": []
          },
          "execution_count": 13
        }
      ]
    },
    {
      "cell_type": "code",
      "metadata": {
        "colab": {
          "base_uri": "https://localhost:8080/"
        },
        "id": "8Vc2Su4-vsKo",
        "outputId": "591187b6-44d6-45b2-8ffe-e671c3006944"
      },
      "source": [
        "type(3.14)"
      ],
      "execution_count": 14,
      "outputs": [
        {
          "output_type": "execute_result",
          "data": {
            "text/plain": [
              "float"
            ]
          },
          "metadata": {
            "tags": []
          },
          "execution_count": 14
        }
      ]
    },
    {
      "cell_type": "code",
      "metadata": {
        "colab": {
          "base_uri": "https://localhost:8080/"
        },
        "id": "M1Wd90nRvuA8",
        "outputId": "43d82dfa-4cb4-45ac-9bf0-5ee0e82b7bb2"
      },
      "source": [
        "type(5e-9) #5 * 10의-9승"
      ],
      "execution_count": 15,
      "outputs": [
        {
          "output_type": "execute_result",
          "data": {
            "text/plain": [
              "float"
            ]
          },
          "metadata": {
            "tags": []
          },
          "execution_count": 15
        }
      ]
    },
    {
      "cell_type": "code",
      "metadata": {
        "colab": {
          "base_uri": "https://localhost:8080/"
        },
        "id": "AeIshdznvwzK",
        "outputId": "2147bcac-e839-40a1-b876-9591a5241dc2"
      },
      "source": [
        "type(5e+8) #5 * 10의8승"
      ],
      "execution_count": 16,
      "outputs": [
        {
          "output_type": "execute_result",
          "data": {
            "text/plain": [
              "float"
            ]
          },
          "metadata": {
            "tags": []
          },
          "execution_count": 16
        }
      ]
    },
    {
      "cell_type": "code",
      "metadata": {
        "colab": {
          "base_uri": "https://localhost:8080/"
        },
        "id": "VeeTAjxevzNO",
        "outputId": "8ddc3a38-ef52-4219-a711-efcad7f3c64f"
      },
      "source": [
        "type(8+9j)"
      ],
      "execution_count": 17,
      "outputs": [
        {
          "output_type": "execute_result",
          "data": {
            "text/plain": [
              "complex"
            ]
          },
          "metadata": {
            "tags": []
          },
          "execution_count": 17
        }
      ]
    },
    {
      "cell_type": "markdown",
      "metadata": {
        "id": "vu5tzlLUMj6_"
      },
      "source": [
        "일반 데이터분석이나 머신러닝에서는 신경쓰지 않아도 되지만, 만약 딥러닝에서 숫자 타입을 쓸 경우, 정수인지 실수인지 구분을 잘 해줘야 한다."
      ]
    },
    {
      "cell_type": "markdown",
      "metadata": {
        "id": "bt4mHr5Qv6Xb"
      },
      "source": [
        "> 2)String : 문자형"
      ]
    },
    {
      "cell_type": "code",
      "metadata": {
        "colab": {
          "base_uri": "https://localhost:8080/"
        },
        "id": "9bI-mOjsv19F",
        "outputId": "dddff554-5e27-4f48-8b9d-8eec72c23c11"
      },
      "source": [
        "type('A')"
      ],
      "execution_count": 18,
      "outputs": [
        {
          "output_type": "execute_result",
          "data": {
            "text/plain": [
              "str"
            ]
          },
          "metadata": {
            "tags": []
          },
          "execution_count": 18
        }
      ]
    },
    {
      "cell_type": "code",
      "metadata": {
        "colab": {
          "base_uri": "https://localhost:8080/"
        },
        "id": "Wl0ImwtLv9VS",
        "outputId": "d3f23187-86ea-468d-c9ab-29148dcdfac0"
      },
      "source": [
        "type('Data Analytics')"
      ],
      "execution_count": 19,
      "outputs": [
        {
          "output_type": "execute_result",
          "data": {
            "text/plain": [
              "str"
            ]
          },
          "metadata": {
            "tags": []
          },
          "execution_count": 19
        }
      ]
    },
    {
      "cell_type": "markdown",
      "metadata": {
        "id": "hlb-LRHLwB5d"
      },
      "source": [
        "> 3)Logical : 논리형"
      ]
    },
    {
      "cell_type": "code",
      "metadata": {
        "colab": {
          "base_uri": "https://localhost:8080/"
        },
        "id": "uw7Fqdnbv_sI",
        "outputId": "b25d838c-1a27-4770-de5e-96f53c46fa6c"
      },
      "source": [
        "type(True)"
      ],
      "execution_count": 20,
      "outputs": [
        {
          "output_type": "execute_result",
          "data": {
            "text/plain": [
              "bool"
            ]
          },
          "metadata": {
            "tags": []
          },
          "execution_count": 20
        }
      ]
    },
    {
      "cell_type": "code",
      "metadata": {
        "colab": {
          "base_uri": "https://localhost:8080/"
        },
        "id": "xL_kIQzCwFH-",
        "outputId": "c3417916-fa5a-4c94-c8ce-b137723d7f28"
      },
      "source": [
        "type(False)"
      ],
      "execution_count": 21,
      "outputs": [
        {
          "output_type": "execute_result",
          "data": {
            "text/plain": [
              "bool"
            ]
          },
          "metadata": {
            "tags": []
          },
          "execution_count": 21
        }
      ]
    },
    {
      "cell_type": "markdown",
      "metadata": {
        "id": "temeLHqZwSNx"
      },
      "source": [
        "## 3.산술연산(Arithmetic Operators)\r\n",
        "> 1)사칙연산 : 숫자 데이터에만 가능한 연산이다"
      ]
    },
    {
      "cell_type": "code",
      "metadata": {
        "colab": {
          "base_uri": "https://localhost:8080/"
        },
        "id": "13u8kgUSwGok",
        "outputId": "44352ffa-69d3-46ea-a413-84bb9bfee9ca"
      },
      "source": [
        "8 + 9"
      ],
      "execution_count": 22,
      "outputs": [
        {
          "output_type": "execute_result",
          "data": {
            "text/plain": [
              "17"
            ]
          },
          "metadata": {
            "tags": []
          },
          "execution_count": 22
        }
      ]
    },
    {
      "cell_type": "code",
      "metadata": {
        "colab": {
          "base_uri": "https://localhost:8080/"
        },
        "id": "NjZympGIwRsJ",
        "outputId": "31164890-29c5-43dc-9c6a-dedd9876fb31"
      },
      "source": [
        "8 - 9"
      ],
      "execution_count": 23,
      "outputs": [
        {
          "output_type": "execute_result",
          "data": {
            "text/plain": [
              "-1"
            ]
          },
          "metadata": {
            "tags": []
          },
          "execution_count": 23
        }
      ]
    },
    {
      "cell_type": "code",
      "metadata": {
        "colab": {
          "base_uri": "https://localhost:8080/"
        },
        "id": "ezP5Dq47wWS_",
        "outputId": "d5f9ab28-f95c-4f57-aa1f-3d2fd2b4cf77"
      },
      "source": [
        "8 * 9"
      ],
      "execution_count": 24,
      "outputs": [
        {
          "output_type": "execute_result",
          "data": {
            "text/plain": [
              "72"
            ]
          },
          "metadata": {
            "tags": []
          },
          "execution_count": 24
        }
      ]
    },
    {
      "cell_type": "code",
      "metadata": {
        "colab": {
          "base_uri": "https://localhost:8080/"
        },
        "id": "-eauU1VEwXK_",
        "outputId": "23c21924-ed73-4d13-841a-9144376de901"
      },
      "source": [
        "10 / 3"
      ],
      "execution_count": 25,
      "outputs": [
        {
          "output_type": "execute_result",
          "data": {
            "text/plain": [
              "3.3333333333333335"
            ]
          },
          "metadata": {
            "tags": []
          },
          "execution_count": 25
        }
      ]
    },
    {
      "cell_type": "code",
      "metadata": {
        "colab": {
          "base_uri": "https://localhost:8080/"
        },
        "id": "q2hODdklwYaO",
        "outputId": "5f35f1ed-8db7-4b29-fcab-4a457ae7114a"
      },
      "source": [
        "10 // 3"
      ],
      "execution_count": 26,
      "outputs": [
        {
          "output_type": "execute_result",
          "data": {
            "text/plain": [
              "3"
            ]
          },
          "metadata": {
            "tags": []
          },
          "execution_count": 26
        }
      ]
    },
    {
      "cell_type": "code",
      "metadata": {
        "colab": {
          "base_uri": "https://localhost:8080/"
        },
        "id": "ZtIv9gc0wZnV",
        "outputId": "36745f32-9e9c-4a5d-9972-a4505059b2c9"
      },
      "source": [
        "10 % 3"
      ],
      "execution_count": 27,
      "outputs": [
        {
          "output_type": "execute_result",
          "data": {
            "text/plain": [
              "1"
            ]
          },
          "metadata": {
            "tags": []
          },
          "execution_count": 27
        }
      ]
    },
    {
      "cell_type": "code",
      "metadata": {
        "colab": {
          "base_uri": "https://localhost:8080/"
        },
        "id": "YObmPgHVwb0c",
        "outputId": "a531d3ed-b84e-41bb-bb97-c0c4339aaab4"
      },
      "source": [
        "9 ** 3"
      ],
      "execution_count": 28,
      "outputs": [
        {
          "output_type": "execute_result",
          "data": {
            "text/plain": [
              "729"
            ]
          },
          "metadata": {
            "tags": []
          },
          "execution_count": 28
        }
      ]
    },
    {
      "cell_type": "code",
      "metadata": {
        "colab": {
          "base_uri": "https://localhost:8080/"
        },
        "id": "NthPVVRqwfCd",
        "outputId": "f348daec-0cd5-44ce-acfe-bb8c2866ac76"
      },
      "source": [
        "pow(9, 2)"
      ],
      "execution_count": 29,
      "outputs": [
        {
          "output_type": "execute_result",
          "data": {
            "text/plain": [
              "81"
            ]
          },
          "metadata": {
            "tags": []
          },
          "execution_count": 29
        }
      ]
    },
    {
      "cell_type": "markdown",
      "metadata": {
        "id": "fvgJrwW4wi1p"
      },
      "source": [
        "> 2)절댓값"
      ]
    },
    {
      "cell_type": "code",
      "metadata": {
        "colab": {
          "base_uri": "https://localhost:8080/"
        },
        "id": "fj0t98nMwhHc",
        "outputId": "6e016722-c3bd-4e95-d43f-433d2bb2ee60"
      },
      "source": [
        "abs(-3)"
      ],
      "execution_count": 30,
      "outputs": [
        {
          "output_type": "execute_result",
          "data": {
            "text/plain": [
              "3"
            ]
          },
          "metadata": {
            "tags": []
          },
          "execution_count": 30
        }
      ]
    },
    {
      "cell_type": "markdown",
      "metadata": {
        "id": "KF_t8lShwnPh"
      },
      "source": [
        "> 3) 진법 변환"
      ]
    },
    {
      "cell_type": "code",
      "metadata": {
        "colab": {
          "base_uri": "https://localhost:8080/",
          "height": 35
        },
        "id": "nzeVJscgwmMm",
        "outputId": "8ff0e3c3-c0e6-4331-cbe0-ecfa18524471"
      },
      "source": [
        "hex(16)"
      ],
      "execution_count": 31,
      "outputs": [
        {
          "output_type": "execute_result",
          "data": {
            "application/vnd.google.colaboratory.intrinsic+json": {
              "type": "string"
            },
            "text/plain": [
              "'0x10'"
            ]
          },
          "metadata": {
            "tags": []
          },
          "execution_count": 31
        }
      ]
    },
    {
      "cell_type": "code",
      "metadata": {
        "colab": {
          "base_uri": "https://localhost:8080/",
          "height": 35
        },
        "id": "5mEUkJ0YwqoB",
        "outputId": "feb539bb-6f18-42ac-cfd2-c2fc2415d6eb"
      },
      "source": [
        "oct(8)"
      ],
      "execution_count": 32,
      "outputs": [
        {
          "output_type": "execute_result",
          "data": {
            "application/vnd.google.colaboratory.intrinsic+json": {
              "type": "string"
            },
            "text/plain": [
              "'0o10'"
            ]
          },
          "metadata": {
            "tags": []
          },
          "execution_count": 32
        }
      ]
    },
    {
      "cell_type": "code",
      "metadata": {
        "colab": {
          "base_uri": "https://localhost:8080/",
          "height": 35
        },
        "id": "3-2Na9anwr1C",
        "outputId": "9261f76f-de26-4474-b96f-f8c8fd494722"
      },
      "source": [
        "bin(9)"
      ],
      "execution_count": 33,
      "outputs": [
        {
          "output_type": "execute_result",
          "data": {
            "application/vnd.google.colaboratory.intrinsic+json": {
              "type": "string"
            },
            "text/plain": [
              "'0b1001'"
            ]
          },
          "metadata": {
            "tags": []
          },
          "execution_count": 33
        }
      ]
    },
    {
      "cell_type": "markdown",
      "metadata": {
        "id": "PPcA5T1JwufL"
      },
      "source": [
        "> 4)반올림"
      ]
    },
    {
      "cell_type": "code",
      "metadata": {
        "colab": {
          "base_uri": "https://localhost:8080/"
        },
        "id": "L89xU_ZCws90",
        "outputId": "8afa429f-2cf5-4a79-e260-56dad857a585"
      },
      "source": [
        "round(24.47)"
      ],
      "execution_count": 35,
      "outputs": [
        {
          "output_type": "execute_result",
          "data": {
            "text/plain": [
              "24"
            ]
          },
          "metadata": {
            "tags": []
          },
          "execution_count": 35
        }
      ]
    },
    {
      "cell_type": "code",
      "metadata": {
        "colab": {
          "base_uri": "https://localhost:8080/"
        },
        "id": "j6YGjXaswzPo",
        "outputId": "057af235-9ca5-471d-b031-b528c640b43c"
      },
      "source": [
        "round(24.57)"
      ],
      "execution_count": 36,
      "outputs": [
        {
          "output_type": "execute_result",
          "data": {
            "text/plain": [
              "25"
            ]
          },
          "metadata": {
            "tags": []
          },
          "execution_count": 36
        }
      ]
    },
    {
      "cell_type": "code",
      "metadata": {
        "colab": {
          "base_uri": "https://localhost:8080/"
        },
        "id": "mRFrdw6xw2fA",
        "outputId": "e1390d39-4580-4676-b675-d3a5b825ecb7"
      },
      "source": [
        "round(24.57, ndigits = 0)"
      ],
      "execution_count": 37,
      "outputs": [
        {
          "output_type": "execute_result",
          "data": {
            "text/plain": [
              "25.0"
            ]
          },
          "metadata": {
            "tags": []
          },
          "execution_count": 37
        }
      ]
    },
    {
      "cell_type": "code",
      "metadata": {
        "colab": {
          "base_uri": "https://localhost:8080/"
        },
        "id": "QD2PX8c-w4vN",
        "outputId": "67728725-67af-4b68-ccea-075b842c5da1"
      },
      "source": [
        "round(24.57, ndigits = 1)"
      ],
      "execution_count": 38,
      "outputs": [
        {
          "output_type": "execute_result",
          "data": {
            "text/plain": [
              "24.6"
            ]
          },
          "metadata": {
            "tags": []
          },
          "execution_count": 38
        }
      ]
    },
    {
      "cell_type": "code",
      "metadata": {
        "colab": {
          "base_uri": "https://localhost:8080/"
        },
        "id": "5abe-qd7w7hY",
        "outputId": "2804b714-a2eb-41b4-f00f-e9eceedcb414"
      },
      "source": [
        "round(24.57, ndigits = -1)"
      ],
      "execution_count": 39,
      "outputs": [
        {
          "output_type": "execute_result",
          "data": {
            "text/plain": [
              "20.0"
            ]
          },
          "metadata": {
            "tags": []
          },
          "execution_count": 39
        }
      ]
    },
    {
      "cell_type": "code",
      "metadata": {
        "colab": {
          "base_uri": "https://localhost:8080/"
        },
        "id": "ThRKJpKQw_eP",
        "outputId": "86dc70bd-334c-485f-e0d2-3211941cc07b"
      },
      "source": [
        "round(25.47, ndigits = -1)"
      ],
      "execution_count": 41,
      "outputs": [
        {
          "output_type": "execute_result",
          "data": {
            "text/plain": [
              "30.0"
            ]
          },
          "metadata": {
            "tags": []
          },
          "execution_count": 41
        }
      ]
    },
    {
      "cell_type": "code",
      "metadata": {
        "colab": {
          "base_uri": "https://localhost:8080/"
        },
        "id": "-Q1yWxMvxJa_",
        "outputId": "078192fd-56a5-4a7d-bc3c-2736db3527a7"
      },
      "source": [
        "round(25.478, ndigits = 2)"
      ],
      "execution_count": 42,
      "outputs": [
        {
          "output_type": "execute_result",
          "data": {
            "text/plain": [
              "25.48"
            ]
          },
          "metadata": {
            "tags": []
          },
          "execution_count": 42
        }
      ]
    },
    {
      "cell_type": "markdown",
      "metadata": {
        "id": "Ba1_epJsxRVq"
      },
      "source": [
        "## 4. 외부 모듈\r\n",
        "* import math"
      ]
    },
    {
      "cell_type": "code",
      "metadata": {
        "id": "50OPu6tQxNm2"
      },
      "source": [
        "import math"
      ],
      "execution_count": 43,
      "outputs": []
    },
    {
      "cell_type": "code",
      "metadata": {
        "colab": {
          "base_uri": "https://localhost:8080/"
        },
        "id": "XEgxf9tuxX8Q",
        "outputId": "fb436f38-3f49-4728-89b7-a459f958ceea"
      },
      "source": [
        "math.pi"
      ],
      "execution_count": 44,
      "outputs": [
        {
          "output_type": "execute_result",
          "data": {
            "text/plain": [
              "3.141592653589793"
            ]
          },
          "metadata": {
            "tags": []
          },
          "execution_count": 44
        }
      ]
    },
    {
      "cell_type": "code",
      "metadata": {
        "colab": {
          "base_uri": "https://localhost:8080/"
        },
        "id": "HirYKFX2xZIY",
        "outputId": "16661ab9-1f2d-4b99-bfce-1e13b3cf04e7"
      },
      "source": [
        "math.e"
      ],
      "execution_count": 45,
      "outputs": [
        {
          "output_type": "execute_result",
          "data": {
            "text/plain": [
              "2.718281828459045"
            ]
          },
          "metadata": {
            "tags": []
          },
          "execution_count": 45
        }
      ]
    },
    {
      "cell_type": "code",
      "metadata": {
        "colab": {
          "base_uri": "https://localhost:8080/"
        },
        "id": "ld-U9hVGxaS0",
        "outputId": "e3b29b29-47d9-4c65-a970-fc16f86c5708"
      },
      "source": [
        "math.ceil(24.99)"
      ],
      "execution_count": 47,
      "outputs": [
        {
          "output_type": "execute_result",
          "data": {
            "text/plain": [
              "25"
            ]
          },
          "metadata": {
            "tags": []
          },
          "execution_count": 47
        }
      ]
    },
    {
      "cell_type": "code",
      "metadata": {
        "colab": {
          "base_uri": "https://localhost:8080/"
        },
        "id": "SE0-fY2pxbaI",
        "outputId": "78d531ce-e7e1-4571-cb26-4f3e52ec35b9"
      },
      "source": [
        "math.floor(24.99)"
      ],
      "execution_count": 48,
      "outputs": [
        {
          "output_type": "execute_result",
          "data": {
            "text/plain": [
              "24"
            ]
          },
          "metadata": {
            "tags": []
          },
          "execution_count": 48
        }
      ]
    },
    {
      "cell_type": "code",
      "metadata": {
        "colab": {
          "base_uri": "https://localhost:8080/"
        },
        "id": "qJwgkHd1xgbx",
        "outputId": "0e61bb93-7e7b-49ce-fe82-07059a54f99f"
      },
      "source": [
        "math.trunc(24.99)"
      ],
      "execution_count": 49,
      "outputs": [
        {
          "output_type": "execute_result",
          "data": {
            "text/plain": [
              "24"
            ]
          },
          "metadata": {
            "tags": []
          },
          "execution_count": 49
        }
      ]
    },
    {
      "cell_type": "code",
      "metadata": {
        "colab": {
          "base_uri": "https://localhost:8080/"
        },
        "id": "beviSEJTxjbf",
        "outputId": "2375e611-d517-4dac-9bcc-d63a705ba641"
      },
      "source": [
        "math.log(100,10)"
      ],
      "execution_count": 50,
      "outputs": [
        {
          "output_type": "execute_result",
          "data": {
            "text/plain": [
              "2.0"
            ]
          },
          "metadata": {
            "tags": []
          },
          "execution_count": 50
        }
      ]
    },
    {
      "cell_type": "code",
      "metadata": {
        "colab": {
          "base_uri": "https://localhost:8080/"
        },
        "id": "Ws_HEPhcxls3",
        "outputId": "cbe3a347-294a-4636-d678-a876a9af0ab0"
      },
      "source": [
        "math.log10(100)"
      ],
      "execution_count": 51,
      "outputs": [
        {
          "output_type": "execute_result",
          "data": {
            "text/plain": [
              "2.0"
            ]
          },
          "metadata": {
            "tags": []
          },
          "execution_count": 51
        }
      ]
    },
    {
      "cell_type": "code",
      "metadata": {
        "colab": {
          "base_uri": "https://localhost:8080/"
        },
        "id": "VUZRCfTWxogG",
        "outputId": "b457752f-b12e-45bf-e0af-75f8449b26a7"
      },
      "source": [
        "math.log(100,2) "
      ],
      "execution_count": 52,
      "outputs": [
        {
          "output_type": "execute_result",
          "data": {
            "text/plain": [
              "6.643856189774725"
            ]
          },
          "metadata": {
            "tags": []
          },
          "execution_count": 52
        }
      ]
    },
    {
      "cell_type": "code",
      "metadata": {
        "colab": {
          "base_uri": "https://localhost:8080/"
        },
        "id": "6cNlav0Hxqwm",
        "outputId": "10384d0d-91e6-43b4-e32d-44066a5a9b37"
      },
      "source": [
        "math.log2(100)"
      ],
      "execution_count": 53,
      "outputs": [
        {
          "output_type": "execute_result",
          "data": {
            "text/plain": [
              "6.643856189774724"
            ]
          },
          "metadata": {
            "tags": []
          },
          "execution_count": 53
        }
      ]
    },
    {
      "cell_type": "code",
      "metadata": {
        "colab": {
          "base_uri": "https://localhost:8080/"
        },
        "id": "abzY4x3vyBbl",
        "outputId": "a3d533be-ad79-49fd-84d4-5d82a6ed25d7"
      },
      "source": [
        "math.log(100) #밑을 주지 않으면 자연로그"
      ],
      "execution_count": 54,
      "outputs": [
        {
          "output_type": "execute_result",
          "data": {
            "text/plain": [
              "4.605170185988092"
            ]
          },
          "metadata": {
            "tags": []
          },
          "execution_count": 54
        }
      ]
    },
    {
      "cell_type": "code",
      "metadata": {
        "colab": {
          "base_uri": "https://localhost:8080/"
        },
        "id": "f6PfjDUtyC1Z",
        "outputId": "b0573415-ef18-42ab-82ca-b39949222912"
      },
      "source": [
        "math.pow(9,2)"
      ],
      "execution_count": 55,
      "outputs": [
        {
          "output_type": "execute_result",
          "data": {
            "text/plain": [
              "81.0"
            ]
          },
          "metadata": {
            "tags": []
          },
          "execution_count": 55
        }
      ]
    },
    {
      "cell_type": "code",
      "metadata": {
        "colab": {
          "base_uri": "https://localhost:8080/"
        },
        "id": "kx6ICWqgyGj8",
        "outputId": "7759f739-83c5-4c20-aea3-efc591b4958e"
      },
      "source": [
        "math.sqrt(81)"
      ],
      "execution_count": 56,
      "outputs": [
        {
          "output_type": "execute_result",
          "data": {
            "text/plain": [
              "9.0"
            ]
          },
          "metadata": {
            "tags": []
          },
          "execution_count": 56
        }
      ]
    },
    {
      "cell_type": "code",
      "metadata": {
        "colab": {
          "base_uri": "https://localhost:8080/"
        },
        "id": "C__tI7X1yH_7",
        "outputId": "dfc51b7a-d51d-45ed-dd58-1c213b9b3b18"
      },
      "source": [
        "math.sin(45)"
      ],
      "execution_count": 57,
      "outputs": [
        {
          "output_type": "execute_result",
          "data": {
            "text/plain": [
              "0.8509035245341184"
            ]
          },
          "metadata": {
            "tags": []
          },
          "execution_count": 57
        }
      ]
    },
    {
      "cell_type": "code",
      "metadata": {
        "colab": {
          "base_uri": "https://localhost:8080/"
        },
        "id": "AGOPZ2r_yJ-R",
        "outputId": "8077b55c-cbea-463b-b474-aa3e008f29c2"
      },
      "source": [
        "math.cos(45)"
      ],
      "execution_count": 58,
      "outputs": [
        {
          "output_type": "execute_result",
          "data": {
            "text/plain": [
              "0.5253219888177297"
            ]
          },
          "metadata": {
            "tags": []
          },
          "execution_count": 58
        }
      ]
    },
    {
      "cell_type": "code",
      "metadata": {
        "colab": {
          "base_uri": "https://localhost:8080/"
        },
        "id": "dvcpFkkbyLUo",
        "outputId": "824be343-9a11-4e24-9439-1b400a093e0b"
      },
      "source": [
        "math.tan(45)"
      ],
      "execution_count": 59,
      "outputs": [
        {
          "output_type": "execute_result",
          "data": {
            "text/plain": [
              "1.6197751905438615"
            ]
          },
          "metadata": {
            "tags": []
          },
          "execution_count": 59
        }
      ]
    },
    {
      "cell_type": "markdown",
      "metadata": {
        "id": "A-3XOwfsyN9O"
      },
      "source": [
        "## 5. 할당 연산자(Assignment Operators)"
      ]
    },
    {
      "cell_type": "code",
      "metadata": {
        "colab": {
          "base_uri": "https://localhost:8080/"
        },
        "id": "0wBV27ILyMqF",
        "outputId": "6281748e-9a2f-4b18-8026-16bf5ecce0fe"
      },
      "source": [
        "koo = 88\r\n",
        "print(koo)"
      ],
      "execution_count": 60,
      "outputs": [
        {
          "output_type": "stream",
          "text": [
            "88\n"
          ],
          "name": "stdout"
        }
      ]
    },
    {
      "cell_type": "markdown",
      "metadata": {
        "id": "Pw6LW5_vyV2j"
      },
      "source": [
        "> 1) +="
      ]
    },
    {
      "cell_type": "code",
      "metadata": {
        "colab": {
          "base_uri": "https://localhost:8080/"
        },
        "id": "BpGEBF_FyTnB",
        "outputId": "148c8777-9e6d-4ea5-f905-dcd3dcd5a4cb"
      },
      "source": [
        "#koo = koo + 11\r\n",
        "\r\n",
        "koo += 11\r\n",
        "print(koo)"
      ],
      "execution_count": 61,
      "outputs": [
        {
          "output_type": "stream",
          "text": [
            "99\n"
          ],
          "name": "stdout"
        }
      ]
    },
    {
      "cell_type": "markdown",
      "metadata": {
        "id": "lU5ia_WoycRe"
      },
      "source": [
        "> 2) -="
      ]
    },
    {
      "cell_type": "code",
      "metadata": {
        "colab": {
          "base_uri": "https://localhost:8080/"
        },
        "id": "WoJuSxo0ya9g",
        "outputId": "baf8f886-15b7-42c9-febb-17f81117338a"
      },
      "source": [
        "#koo = koo - 11\r\n",
        "\r\n",
        "koo -= 11\r\n",
        "print(koo)"
      ],
      "execution_count": 62,
      "outputs": [
        {
          "output_type": "stream",
          "text": [
            "88\n"
          ],
          "name": "stdout"
        }
      ]
    },
    {
      "cell_type": "markdown",
      "metadata": {
        "id": "JJqAQZtMyihO"
      },
      "source": [
        "> 3) *="
      ]
    },
    {
      "cell_type": "code",
      "metadata": {
        "colab": {
          "base_uri": "https://localhost:8080/"
        },
        "id": "t8T8dGCcyhpq",
        "outputId": "a31056df-f88e-447a-b098-04400aaa2fbd"
      },
      "source": [
        "#koo = koo * 10\r\n",
        "\r\n",
        "koo *= 10\r\n",
        "print(koo)"
      ],
      "execution_count": 63,
      "outputs": [
        {
          "output_type": "stream",
          "text": [
            "880\n"
          ],
          "name": "stdout"
        }
      ]
    },
    {
      "cell_type": "markdown",
      "metadata": {
        "id": "ThahsNZVyp2Q"
      },
      "source": [
        "> 4) /="
      ]
    },
    {
      "cell_type": "code",
      "metadata": {
        "colab": {
          "base_uri": "https://localhost:8080/"
        },
        "id": "HUjEB2u4yoaV",
        "outputId": "f2a79231-b925-4527-d054-5d05c363894e"
      },
      "source": [
        "# koo = koo / 10\r\n",
        "\r\n",
        "koo /= 10\r\n",
        "print(koo)"
      ],
      "execution_count": 64,
      "outputs": [
        {
          "output_type": "stream",
          "text": [
            "88.0\n"
          ],
          "name": "stdout"
        }
      ]
    },
    {
      "cell_type": "markdown",
      "metadata": {
        "id": "RQkOn3cjyyLC"
      },
      "source": [
        "> 5) //="
      ]
    },
    {
      "cell_type": "code",
      "metadata": {
        "colab": {
          "base_uri": "https://localhost:8080/"
        },
        "id": "D8ODLDHGyw54",
        "outputId": "7169bc60-3ff3-482e-ce9a-3f8420298403"
      },
      "source": [
        "# koo = koo // 10\r\n",
        "\r\n",
        "koo //= 10\r\n",
        "print(koo)"
      ],
      "execution_count": 65,
      "outputs": [
        {
          "output_type": "stream",
          "text": [
            "8.0\n"
          ],
          "name": "stdout"
        }
      ]
    },
    {
      "cell_type": "markdown",
      "metadata": {
        "id": "NtZAi7pZy6Nw"
      },
      "source": [
        "> 6) %="
      ]
    },
    {
      "cell_type": "code",
      "metadata": {
        "colab": {
          "base_uri": "https://localhost:8080/"
        },
        "id": "4V2HOYiry4h9",
        "outputId": "e5a53fd6-e910-4365-89cb-8737a6274f1a"
      },
      "source": [
        "# koo = koo % 3\r\n",
        "\r\n",
        "koo %= 3\r\n",
        "print(koo)"
      ],
      "execution_count": 66,
      "outputs": [
        {
          "output_type": "stream",
          "text": [
            "2.0\n"
          ],
          "name": "stdout"
        }
      ]
    },
    {
      "cell_type": "markdown",
      "metadata": {
        "id": "mWgtO0nYzCzG"
      },
      "source": [
        "> 7) **="
      ]
    },
    {
      "cell_type": "code",
      "metadata": {
        "colab": {
          "base_uri": "https://localhost:8080/"
        },
        "id": "qAvIJXouzBJJ",
        "outputId": "0605fb34-5867-4e77-a6bb-c64a3c25a13a"
      },
      "source": [
        "# koo = koo ** 2\r\n",
        "\r\n",
        "koo **= 2\r\n",
        "print(koo)"
      ],
      "execution_count": 67,
      "outputs": [
        {
          "output_type": "stream",
          "text": [
            "4.0\n"
          ],
          "name": "stdout"
        }
      ]
    },
    {
      "cell_type": "markdown",
      "metadata": {
        "id": "Ew8RKqvwzKsq"
      },
      "source": [
        "## 6. 비교 연산자(Comparison Operators)\r\n",
        "> 1)Numeric"
      ]
    },
    {
      "cell_type": "code",
      "metadata": {
        "colab": {
          "base_uri": "https://localhost:8080/"
        },
        "id": "NRajMzT9zJJd",
        "outputId": "3bad7b6f-463a-4b18-db71-659b43381271"
      },
      "source": [
        "8 > 9"
      ],
      "execution_count": 68,
      "outputs": [
        {
          "output_type": "execute_result",
          "data": {
            "text/plain": [
              "False"
            ]
          },
          "metadata": {
            "tags": []
          },
          "execution_count": 68
        }
      ]
    },
    {
      "cell_type": "code",
      "metadata": {
        "colab": {
          "base_uri": "https://localhost:8080/"
        },
        "id": "lbfI8VmWzSqS",
        "outputId": "6fb35ded-2b41-48cd-b7a0-3d7cc51525b3"
      },
      "source": [
        "8 < 9"
      ],
      "execution_count": 69,
      "outputs": [
        {
          "output_type": "execute_result",
          "data": {
            "text/plain": [
              "True"
            ]
          },
          "metadata": {
            "tags": []
          },
          "execution_count": 69
        }
      ]
    },
    {
      "cell_type": "code",
      "metadata": {
        "colab": {
          "base_uri": "https://localhost:8080/"
        },
        "id": "OUfeMwykzTfk",
        "outputId": "a7ada64a-2070-416d-8817-3fe0ba911e9f"
      },
      "source": [
        "8 >= 9"
      ],
      "execution_count": 70,
      "outputs": [
        {
          "output_type": "execute_result",
          "data": {
            "text/plain": [
              "False"
            ]
          },
          "metadata": {
            "tags": []
          },
          "execution_count": 70
        }
      ]
    },
    {
      "cell_type": "code",
      "metadata": {
        "colab": {
          "base_uri": "https://localhost:8080/"
        },
        "id": "jTbpXmLkzU2w",
        "outputId": "a3adbe96-4ec5-441f-dcda-93d7bdf84e2a"
      },
      "source": [
        "8 <= 9"
      ],
      "execution_count": 71,
      "outputs": [
        {
          "output_type": "execute_result",
          "data": {
            "text/plain": [
              "True"
            ]
          },
          "metadata": {
            "tags": []
          },
          "execution_count": 71
        }
      ]
    },
    {
      "cell_type": "code",
      "metadata": {
        "colab": {
          "base_uri": "https://localhost:8080/"
        },
        "id": "HvbgT9C6zV8U",
        "outputId": "d6863f6c-8a42-410a-9b39-274767088031"
      },
      "source": [
        "8 == 9"
      ],
      "execution_count": 72,
      "outputs": [
        {
          "output_type": "execute_result",
          "data": {
            "text/plain": [
              "False"
            ]
          },
          "metadata": {
            "tags": []
          },
          "execution_count": 72
        }
      ]
    },
    {
      "cell_type": "code",
      "metadata": {
        "colab": {
          "base_uri": "https://localhost:8080/"
        },
        "id": "A40g3CMMzXLm",
        "outputId": "5cfc1bc0-e924-435f-d018-a7be520b820d"
      },
      "source": [
        "8 != 9"
      ],
      "execution_count": 73,
      "outputs": [
        {
          "output_type": "execute_result",
          "data": {
            "text/plain": [
              "True"
            ]
          },
          "metadata": {
            "tags": []
          },
          "execution_count": 73
        }
      ]
    },
    {
      "cell_type": "markdown",
      "metadata": {
        "id": "Zksz-iMvzZjv"
      },
      "source": [
        "> 2)Character"
      ]
    },
    {
      "cell_type": "code",
      "metadata": {
        "colab": {
          "base_uri": "https://localhost:8080/"
        },
        "id": "GVy50wKhzYR4",
        "outputId": "903dd0f9-1dfa-434a-d17f-fdf2c334649b"
      },
      "source": [
        "'A' > 'B'"
      ],
      "execution_count": 74,
      "outputs": [
        {
          "output_type": "execute_result",
          "data": {
            "text/plain": [
              "False"
            ]
          },
          "metadata": {
            "tags": []
          },
          "execution_count": 74
        }
      ]
    },
    {
      "cell_type": "code",
      "metadata": {
        "colab": {
          "base_uri": "https://localhost:8080/"
        },
        "id": "E6Bw8nV-zeHj",
        "outputId": "2a99971d-5b4b-456d-b75b-d9681a56f055"
      },
      "source": [
        "'A' < 'B'"
      ],
      "execution_count": 75,
      "outputs": [
        {
          "output_type": "execute_result",
          "data": {
            "text/plain": [
              "True"
            ]
          },
          "metadata": {
            "tags": []
          },
          "execution_count": 75
        }
      ]
    },
    {
      "cell_type": "code",
      "metadata": {
        "colab": {
          "base_uri": "https://localhost:8080/"
        },
        "id": "lBYeIXnuzfpb",
        "outputId": "fc97253f-e07a-46fd-8298-aa49451bafb5"
      },
      "source": [
        "'A' == 'B'"
      ],
      "execution_count": 76,
      "outputs": [
        {
          "output_type": "execute_result",
          "data": {
            "text/plain": [
              "False"
            ]
          },
          "metadata": {
            "tags": []
          },
          "execution_count": 76
        }
      ]
    },
    {
      "cell_type": "code",
      "metadata": {
        "colab": {
          "base_uri": "https://localhost:8080/"
        },
        "id": "QHjjAj61zhW-",
        "outputId": "bed3f500-1b83-42fb-b9ef-2e667754492b"
      },
      "source": [
        "'A' != \"B\""
      ],
      "execution_count": 77,
      "outputs": [
        {
          "output_type": "execute_result",
          "data": {
            "text/plain": [
              "True"
            ]
          },
          "metadata": {
            "tags": []
          },
          "execution_count": 77
        }
      ]
    },
    {
      "cell_type": "code",
      "metadata": {
        "colab": {
          "base_uri": "https://localhost:8080/",
          "height": 170
        },
        "id": "5Ee0xi-DzkgR",
        "outputId": "916096db-7390-4015-eafa-1173c82156a6"
      },
      "source": [
        "'팔' > 9"
      ],
      "execution_count": 78,
      "outputs": [
        {
          "output_type": "error",
          "ename": "TypeError",
          "evalue": "ignored",
          "traceback": [
            "\u001b[0;31m---------------------------------------------------------------------------\u001b[0m",
            "\u001b[0;31mTypeError\u001b[0m                                 Traceback (most recent call last)",
            "\u001b[0;32m<ipython-input-78-8dbbd53735b8>\u001b[0m in \u001b[0;36m<module>\u001b[0;34m()\u001b[0m\n\u001b[0;32m----> 1\u001b[0;31m \u001b[0;34m'팔'\u001b[0m \u001b[0;34m>\u001b[0m \u001b[0;36m9\u001b[0m\u001b[0;34m\u001b[0m\u001b[0;34m\u001b[0m\u001b[0m\n\u001b[0m",
            "\u001b[0;31mTypeError\u001b[0m: '>' not supported between instances of 'str' and 'int'"
          ]
        }
      ]
    },
    {
      "cell_type": "code",
      "metadata": {
        "colab": {
          "base_uri": "https://localhost:8080/",
          "height": 170
        },
        "id": "6dppX5oIznFz",
        "outputId": "1c64a042-f5ff-4c19-ab62-aece38f8eab7"
      },
      "source": [
        "'A' > 9"
      ],
      "execution_count": 79,
      "outputs": [
        {
          "output_type": "error",
          "ename": "TypeError",
          "evalue": "ignored",
          "traceback": [
            "\u001b[0;31m---------------------------------------------------------------------------\u001b[0m",
            "\u001b[0;31mTypeError\u001b[0m                                 Traceback (most recent call last)",
            "\u001b[0;32m<ipython-input-79-41e11a074f7f>\u001b[0m in \u001b[0;36m<module>\u001b[0;34m()\u001b[0m\n\u001b[0;32m----> 1\u001b[0;31m \u001b[0;34m'A'\u001b[0m \u001b[0;34m>\u001b[0m \u001b[0;36m9\u001b[0m\u001b[0;34m\u001b[0m\u001b[0;34m\u001b[0m\u001b[0m\n\u001b[0m",
            "\u001b[0;31mTypeError\u001b[0m: '>' not supported between instances of 'str' and 'int'"
          ]
        }
      ]
    },
    {
      "cell_type": "markdown",
      "metadata": {
        "id": "Rnfcke0WztKK"
      },
      "source": [
        "## 7. 논리 연산자(Logical Operators)"
      ]
    },
    {
      "cell_type": "code",
      "metadata": {
        "colab": {
          "base_uri": "https://localhost:8080/"
        },
        "id": "vTMjpJ7lzrTT",
        "outputId": "87250eb5-2eb8-430e-c35b-230499ad25ff"
      },
      "source": [
        "X = True\r\n",
        "Y = False\r\n",
        "Z = True\r\n",
        "\r\n",
        "print(X,Y,Z)"
      ],
      "execution_count": 80,
      "outputs": [
        {
          "output_type": "stream",
          "text": [
            "True False True\n"
          ],
          "name": "stdout"
        }
      ]
    },
    {
      "cell_type": "markdown",
      "metadata": {
        "id": "TRXwfn7Iz51L"
      },
      "source": [
        "> 1) AND"
      ]
    },
    {
      "cell_type": "code",
      "metadata": {
        "colab": {
          "base_uri": "https://localhost:8080/"
        },
        "id": "RuDRcrbAz4Na",
        "outputId": "1620487f-4d7f-4a50-e54e-ae154bb6bdf7"
      },
      "source": [
        "X and Y"
      ],
      "execution_count": 81,
      "outputs": [
        {
          "output_type": "execute_result",
          "data": {
            "text/plain": [
              "False"
            ]
          },
          "metadata": {
            "tags": []
          },
          "execution_count": 81
        }
      ]
    },
    {
      "cell_type": "markdown",
      "metadata": {
        "id": "627ukTvZz_bU"
      },
      "source": [
        "> 2) OR"
      ]
    },
    {
      "cell_type": "code",
      "metadata": {
        "colab": {
          "base_uri": "https://localhost:8080/"
        },
        "id": "r9UXjMNkz-Rg",
        "outputId": "739ad9e2-b01c-466c-f9c5-51e1b1c25aae"
      },
      "source": [
        "X or Y"
      ],
      "execution_count": 82,
      "outputs": [
        {
          "output_type": "execute_result",
          "data": {
            "text/plain": [
              "True"
            ]
          },
          "metadata": {
            "tags": []
          },
          "execution_count": 82
        }
      ]
    },
    {
      "cell_type": "markdown",
      "metadata": {
        "id": "lvg5jv5m0DPa"
      },
      "source": [
        "> 3) NOT"
      ]
    },
    {
      "cell_type": "code",
      "metadata": {
        "colab": {
          "base_uri": "https://localhost:8080/"
        },
        "id": "4WkZOA4o0CFq",
        "outputId": "6d13727b-5bb7-422c-fd02-0de88e751885"
      },
      "source": [
        "not X"
      ],
      "execution_count": 83,
      "outputs": [
        {
          "output_type": "execute_result",
          "data": {
            "text/plain": [
              "False"
            ]
          },
          "metadata": {
            "tags": []
          },
          "execution_count": 83
        }
      ]
    },
    {
      "cell_type": "markdown",
      "metadata": {
        "id": "8PS9ulFl0HLe"
      },
      "source": [
        "> 4) 괄호 연산자"
      ]
    },
    {
      "cell_type": "code",
      "metadata": {
        "colab": {
          "base_uri": "https://localhost:8080/"
        },
        "id": "Qi-1cb_U0F2C",
        "outputId": "f7ecfdb8-4cea-4f4d-f456-3035a94f8a0e"
      },
      "source": [
        "(X and Y) and (Y or Z)"
      ],
      "execution_count": 84,
      "outputs": [
        {
          "output_type": "execute_result",
          "data": {
            "text/plain": [
              "False"
            ]
          },
          "metadata": {
            "tags": []
          },
          "execution_count": 84
        }
      ]
    },
    {
      "cell_type": "markdown",
      "metadata": {
        "id": "p-MCQTJu0NT8"
      },
      "source": [
        "## 8. 식별 연산자(Identity Operators)"
      ]
    },
    {
      "cell_type": "code",
      "metadata": {
        "id": "YMKmibNY0LpK"
      },
      "source": [
        "n = 8\r\n",
        "m = 9"
      ],
      "execution_count": 85,
      "outputs": []
    },
    {
      "cell_type": "markdown",
      "metadata": {
        "id": "BkTEl5xl0UAa"
      },
      "source": [
        "> 1) is, is not"
      ]
    },
    {
      "cell_type": "code",
      "metadata": {
        "colab": {
          "base_uri": "https://localhost:8080/"
        },
        "id": "tEGuiIo30TXs",
        "outputId": "6480226a-afc1-4e22-a46b-22d10c2d4a50"
      },
      "source": [
        "n is m"
      ],
      "execution_count": 86,
      "outputs": [
        {
          "output_type": "execute_result",
          "data": {
            "text/plain": [
              "False"
            ]
          },
          "metadata": {
            "tags": []
          },
          "execution_count": 86
        }
      ]
    },
    {
      "cell_type": "code",
      "metadata": {
        "colab": {
          "base_uri": "https://localhost:8080/"
        },
        "id": "Jb3Xkq_n0YaT",
        "outputId": "eea69818-2d01-4604-e116-b34b11e4f9f2"
      },
      "source": [
        "n is not m"
      ],
      "execution_count": 87,
      "outputs": [
        {
          "output_type": "execute_result",
          "data": {
            "text/plain": [
              "True"
            ]
          },
          "metadata": {
            "tags": []
          },
          "execution_count": 87
        }
      ]
    },
    {
      "cell_type": "markdown",
      "metadata": {
        "id": "6RgEUTnc0bo2"
      },
      "source": [
        "> 2) in, not in"
      ]
    },
    {
      "cell_type": "code",
      "metadata": {
        "colab": {
          "base_uri": "https://localhost:8080/"
        },
        "id": "8NqDZ0My0ZdU",
        "outputId": "4a3042de-75c7-4798-be39-2123a82c3db4"
      },
      "source": [
        "'o' in 'koo'"
      ],
      "execution_count": 88,
      "outputs": [
        {
          "output_type": "execute_result",
          "data": {
            "text/plain": [
              "True"
            ]
          },
          "metadata": {
            "tags": []
          },
          "execution_count": 88
        }
      ]
    },
    {
      "cell_type": "code",
      "metadata": {
        "colab": {
          "base_uri": "https://localhost:8080/"
        },
        "id": "huN_OG3V0fHl",
        "outputId": "2c167cec-f55e-4320-f684-575f16737c95"
      },
      "source": [
        "'J' not in 'koo'"
      ],
      "execution_count": 89,
      "outputs": [
        {
          "output_type": "execute_result",
          "data": {
            "text/plain": [
              "True"
            ]
          },
          "metadata": {
            "tags": []
          },
          "execution_count": 89
        }
      ]
    },
    {
      "cell_type": "markdown",
      "metadata": {
        "id": "HDox2HHV0izG"
      },
      "source": [
        "본 내용은 데이터분석 1일차 학습 내용입니다.\r\n",
        "\r\n",
        "2021/02/19 "
      ]
    }
  ]
}