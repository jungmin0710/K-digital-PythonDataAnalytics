{
  "nbformat": 4,
  "nbformat_minor": 0,
  "metadata": {
    "colab": {
      "name": "6.Control Statement.ipynb",
      "provenance": [],
      "collapsed_sections": [],
      "authorship_tag": "ABX9TyPdNyxfPp2OCxYlFuNVzyu5",
      "include_colab_link": true
    },
    "kernelspec": {
      "name": "python3",
      "display_name": "Python 3"
    }
  },
  "cells": [
    {
      "cell_type": "markdown",
      "metadata": {
        "id": "view-in-github",
        "colab_type": "text"
      },
      "source": [
        "<a href=\"https://colab.research.google.com/github/jungmin0710/K-digital-PythonDataAnalytics/blob/main/6_Control_Statement.ipynb\" target=\"_parent\"><img src=\"https://colab.research.google.com/assets/colab-badge.svg\" alt=\"Open In Colab\"/></a>"
      ]
    },
    {
      "cell_type": "markdown",
      "metadata": {
        "id": "SvXcWoxqUAON"
      },
      "source": [
        "# Control Statement : 조건문, 반복문, 예외처리\r\n",
        "* if ~ else, for ~ in, while, try ~ except"
      ]
    },
    {
      "cell_type": "code",
      "metadata": {
        "id": "cShHuUGOT_ZH"
      },
      "source": [
        "import warnings\r\n",
        "warnings.filterwarnings('ignore')"
      ],
      "execution_count": 1,
      "outputs": []
    },
    {
      "cell_type": "markdown",
      "metadata": {
        "id": "Gyz3eQ7EUThT"
      },
      "source": [
        "## 1. if else"
      ]
    },
    {
      "cell_type": "code",
      "metadata": {
        "id": "ibnhD4qxUS7_"
      },
      "source": [
        "n = 3"
      ],
      "execution_count": 2,
      "outputs": []
    },
    {
      "cell_type": "markdown",
      "metadata": {
        "id": "eVUU-Q9jWO0I"
      },
      "source": [
        "> 1) if"
      ]
    },
    {
      "cell_type": "code",
      "metadata": {
        "colab": {
          "base_uri": "https://localhost:8080/"
        },
        "id": "Bbpq4EofWN-b",
        "outputId": "6003b10c-6ad7-43d1-cdaf-c6312a8b4b2f"
      },
      "source": [
        "if n==3:\r\n",
        "  print('n은 3')"
      ],
      "execution_count": 3,
      "outputs": [
        {
          "output_type": "stream",
          "text": [
            "n은 3\n"
          ],
          "name": "stdout"
        }
      ]
    },
    {
      "cell_type": "markdown",
      "metadata": {
        "id": "8LWU1dyBWVBL"
      },
      "source": [
        "> 2) if else"
      ]
    },
    {
      "cell_type": "code",
      "metadata": {
        "colab": {
          "base_uri": "https://localhost:8080/"
        },
        "id": "PdToPYScWTfR",
        "outputId": "f70262c3-9dc4-4d85-90fe-443d93291c38"
      },
      "source": [
        "if n != 3:\r\n",
        "  print('Bye')\r\n",
        "else:\r\n",
        "  print('n은 3')"
      ],
      "execution_count": 4,
      "outputs": [
        {
          "output_type": "stream",
          "text": [
            "n은 3\n"
          ],
          "name": "stdout"
        }
      ]
    },
    {
      "cell_type": "markdown",
      "metadata": {
        "id": "8lG7YoP2Wea1"
      },
      "source": [
        "> 3) if elif else"
      ]
    },
    {
      "cell_type": "code",
      "metadata": {
        "colab": {
          "base_uri": "https://localhost:8080/"
        },
        "id": "TrXMBerAWcn5",
        "outputId": "192f7036-89fe-4e3d-8eb9-ea71410e6722"
      },
      "source": [
        "if n < 2:\r\n",
        "  print('A')\r\n",
        "elif n < 5:\r\n",
        "  print('B')\r\n",
        "else:\r\n",
        "  print('C')"
      ],
      "execution_count": 5,
      "outputs": [
        {
          "output_type": "stream",
          "text": [
            "B\n"
          ],
          "name": "stdout"
        }
      ]
    },
    {
      "cell_type": "markdown",
      "metadata": {
        "id": "454XUn-pWpFV"
      },
      "source": [
        "## 2. for in\r\n",
        "> 1) for in with range()"
      ]
    },
    {
      "cell_type": "code",
      "metadata": {
        "colab": {
          "base_uri": "https://localhost:8080/"
        },
        "id": "a9a5tD9EWm8c",
        "outputId": "34733f4b-856d-4941-a022-35721c965a42"
      },
      "source": [
        "for i in range(1, 10):\r\n",
        "  print(i)"
      ],
      "execution_count": 6,
      "outputs": [
        {
          "output_type": "stream",
          "text": [
            "1\n",
            "2\n",
            "3\n",
            "4\n",
            "5\n",
            "6\n",
            "7\n",
            "8\n",
            "9\n"
          ],
          "name": "stdout"
        }
      ]
    },
    {
      "cell_type": "markdown",
      "metadata": {
        "id": "3UswjqfNWxh9"
      },
      "source": [
        "> 2) for in with List_1"
      ]
    },
    {
      "cell_type": "code",
      "metadata": {
        "colab": {
          "base_uri": "https://localhost:8080/"
        },
        "id": "Y5BVnqeEWv2W",
        "outputId": "f35ed11b-93ec-4c25-ddb2-dc43ac3e26ea"
      },
      "source": [
        "L1 = ['A','B','C','D','E']\r\n",
        "\r\n",
        "for i in L1:\r\n",
        "  print(i)"
      ],
      "execution_count": 7,
      "outputs": [
        {
          "output_type": "stream",
          "text": [
            "A\n",
            "B\n",
            "C\n",
            "D\n",
            "E\n"
          ],
          "name": "stdout"
        }
      ]
    },
    {
      "cell_type": "markdown",
      "metadata": {
        "id": "LLxoiVEdW5o_"
      },
      "source": [
        "> for in with List_2"
      ]
    },
    {
      "cell_type": "code",
      "metadata": {
        "colab": {
          "base_uri": "https://localhost:8080/"
        },
        "id": "GOkYeqgfW4LK",
        "outputId": "f5b3f882-4aed-47d7-b200-c3e12283a4fc"
      },
      "source": [
        "L2 = [['A',11],['B',22],['C',33]]\r\n",
        "\r\n",
        "for i, j in L2:\r\n",
        "  print(i)\r\n",
        "  print(j)"
      ],
      "execution_count": 8,
      "outputs": [
        {
          "output_type": "stream",
          "text": [
            "A\n",
            "11\n",
            "B\n",
            "22\n",
            "C\n",
            "33\n"
          ],
          "name": "stdout"
        }
      ]
    },
    {
      "cell_type": "markdown",
      "metadata": {
        "id": "OQ4y9JE5XJIz"
      },
      "source": [
        "> 4)for in with break"
      ]
    },
    {
      "cell_type": "code",
      "metadata": {
        "colab": {
          "base_uri": "https://localhost:8080/"
        },
        "id": "Ktjtrx96XFx4",
        "outputId": "9d3788f4-a469-4c79-8c23-ccef7f3d8587"
      },
      "source": [
        "for i in range(1,10):\r\n",
        "  if i > 5: break\r\n",
        "  print(i)"
      ],
      "execution_count": 9,
      "outputs": [
        {
          "output_type": "stream",
          "text": [
            "1\n",
            "2\n",
            "3\n",
            "4\n",
            "5\n"
          ],
          "name": "stdout"
        }
      ]
    },
    {
      "cell_type": "markdown",
      "metadata": {
        "id": "JO2S6YSsXaMl"
      },
      "source": [
        "## 3.while"
      ]
    },
    {
      "cell_type": "code",
      "metadata": {
        "id": "rA8fwy5BXY1o"
      },
      "source": [
        "i = 1"
      ],
      "execution_count": 10,
      "outputs": []
    },
    {
      "cell_type": "markdown",
      "metadata": {
        "id": "ga05UteYX-R0"
      },
      "source": [
        "> 1) while else"
      ]
    },
    {
      "cell_type": "code",
      "metadata": {
        "colab": {
          "base_uri": "https://localhost:8080/"
        },
        "id": "mylzutlpX9Yt",
        "outputId": "b43ffb79-8dfa-4ef9-d9eb-d7fbc91adbd5"
      },
      "source": [
        "while i < 10:\r\n",
        "  print(i)\r\n",
        "  i += 1\r\n",
        "else:\r\n",
        "  print('Fin')"
      ],
      "execution_count": 11,
      "outputs": [
        {
          "output_type": "stream",
          "text": [
            "1\n",
            "2\n",
            "3\n",
            "4\n",
            "5\n",
            "6\n",
            "7\n",
            "8\n",
            "9\n",
            "Fin\n"
          ],
          "name": "stdout"
        }
      ]
    },
    {
      "cell_type": "code",
      "metadata": {
        "id": "z8-XD5iSYHLK"
      },
      "source": [
        "i = 1"
      ],
      "execution_count": 12,
      "outputs": []
    },
    {
      "cell_type": "markdown",
      "metadata": {
        "id": "q84tGv1SYJ9w"
      },
      "source": [
        "> 2) while if break"
      ]
    },
    {
      "cell_type": "code",
      "metadata": {
        "colab": {
          "base_uri": "https://localhost:8080/"
        },
        "id": "z-dkFhWHYItc",
        "outputId": "570aeedd-af06-436a-9479-2e10c7b8361a"
      },
      "source": [
        "while i < 10:\r\n",
        "  print(i)\r\n",
        "  if i == 5:\r\n",
        "    break\r\n",
        "  i += 1"
      ],
      "execution_count": 13,
      "outputs": [
        {
          "output_type": "stream",
          "text": [
            "1\n",
            "2\n",
            "3\n",
            "4\n",
            "5\n"
          ],
          "name": "stdout"
        }
      ]
    },
    {
      "cell_type": "markdown",
      "metadata": {
        "id": "5XQktUaHYS-u"
      },
      "source": [
        "## 4. try except\r\n",
        "* 파이썬 스크립트 실행 중 오류 발생에 대한 예외처리\r\n",
        "> 1) try : ~ except:\r\n",
        "* 실행 중 오류 발생 시 except: 부분 실행"
      ]
    },
    {
      "cell_type": "code",
      "metadata": {
        "colab": {
          "base_uri": "https://localhost:8080/"
        },
        "id": "SG3ytRV-YQiK",
        "outputId": "5bcca3c2-04cb-4f4a-e54e-37f93d52b2a2"
      },
      "source": [
        "try:\r\n",
        "  print('파이썬 스크립트 실행 시작')\r\n",
        "  print(QQQ)\r\n",
        "except:\r\n",
        "  print('파이썬 스크립트 실행 중 QQQ객체가 선언되지 않은 오류 발생')"
      ],
      "execution_count": 14,
      "outputs": [
        {
          "output_type": "stream",
          "text": [
            "파이썬 스크립트 실행 시작\n",
            "파이썬 스크립트 실행 중 QQQ객체가 선언되지 않은 오류 발생\n"
          ],
          "name": "stdout"
        }
      ]
    },
    {
      "cell_type": "markdown",
      "metadata": {
        "id": "sCTKQGOZYrLp"
      },
      "source": [
        "> 2) try : ~ except: ~ else:\r\n",
        "* 실행 중 오류 발생 시 except: 부분 실행\r\n",
        "* 정상 종료시 else: 부분 실행"
      ]
    },
    {
      "cell_type": "code",
      "metadata": {
        "colab": {
          "base_uri": "https://localhost:8080/"
        },
        "id": "9G5QeQYNYpuv",
        "outputId": "b6656e8d-689a-40b7-e193-d54c8b6d0f31"
      },
      "source": [
        "try:\r\n",
        "  print('파이썬 스크립트 실행 시작')\r\n",
        "  print('QQQ')\r\n",
        "except:\r\n",
        "  print('파이썬 스크립트 실행 중 에러 발생')\r\n",
        "else:\r\n",
        "  print('파이썬 스크립트가 정상 종료')"
      ],
      "execution_count": 15,
      "outputs": [
        {
          "output_type": "stream",
          "text": [
            "파이썬 스크립트 실행 시작\n",
            "QQQ\n",
            "파이썬 스크립트가 정상 종료\n"
          ],
          "name": "stdout"
        }
      ]
    },
    {
      "cell_type": "markdown",
      "metadata": {
        "id": "VjPGSBgYZA6e"
      },
      "source": [
        "> 3) try: ~ except: ~ finally:\r\n",
        "* 스크립트 마지막에 무조건 finally: 부분 실행"
      ]
    },
    {
      "cell_type": "code",
      "metadata": {
        "colab": {
          "base_uri": "https://localhost:8080/"
        },
        "id": "Z5FororcY_QT",
        "outputId": "8a6ca797-cb78-47e2-f6a7-eebaefe80dab"
      },
      "source": [
        "try:\r\n",
        "  print('파이썬 스크립트 실행 시작')\r\n",
        "  print(QQQ)\r\n",
        "except:\r\n",
        "  print('파이썬 스크립트 실행 중 QQQ 객체가 선언되지 않은 오류 발생')\r\n",
        "finally:\r\n",
        "  print('파이썬 스크립트 종료 시 무조건 실행')"
      ],
      "execution_count": 16,
      "outputs": [
        {
          "output_type": "stream",
          "text": [
            "파이썬 스크립트 실행 시작\n",
            "파이썬 스크립트 실행 중 QQQ 객체가 선언되지 않은 오류 발생\n",
            "파이썬 스크립트 종료 시 무조건 실행\n"
          ],
          "name": "stdout"
        }
      ]
    },
    {
      "cell_type": "markdown",
      "metadata": {
        "id": "O7ukMaMoZW4Y"
      },
      "source": [
        "본 내용은 2021/02/22(월) 학습한 내용입니다."
      ]
    },
    {
      "cell_type": "markdown",
      "metadata": {
        "id": "LvPnVsIaZb2f"
      },
      "source": [
        ""
      ]
    }
  ]
}