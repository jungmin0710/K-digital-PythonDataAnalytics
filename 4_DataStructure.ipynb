{
  "nbformat": 4,
  "nbformat_minor": 0,
  "metadata": {
    "colab": {
      "name": "4.DataStructure.ipynb",
      "provenance": [],
      "collapsed_sections": [],
      "authorship_tag": "ABX9TyNKqAz8VmYdcN95XPECWQ0h",
      "include_colab_link": true
    },
    "kernelspec": {
      "name": "python3",
      "display_name": "Python 3"
    }
  },
  "cells": [
    {
      "cell_type": "markdown",
      "metadata": {
        "id": "view-in-github",
        "colab_type": "text"
      },
      "source": [
        "<a href=\"https://colab.research.google.com/github/jungmin0710/K-digital-PythonDataAnalytics/blob/main/4_DataStructure.ipynb\" target=\"_parent\"><img src=\"https://colab.research.google.com/assets/colab-badge.svg\" alt=\"Open In Colab\"/></a>"
      ]
    },
    {
      "cell_type": "markdown",
      "metadata": {
        "id": "i_RI4E6nCcly"
      },
      "source": [
        "# Python Data Structure"
      ]
    },
    {
      "cell_type": "code",
      "metadata": {
        "id": "4hX70lwjCOrN"
      },
      "source": [
        "import warnings\r\n",
        "warnings.filterwarnings('ignore')"
      ],
      "execution_count": 1,
      "outputs": []
    },
    {
      "cell_type": "markdown",
      "metadata": {
        "id": "2BQmDnWJCrN1"
      },
      "source": [
        "## 1. String"
      ]
    },
    {
      "cell_type": "code",
      "metadata": {
        "colab": {
          "base_uri": "https://localhost:8080/"
        },
        "id": "PNgb057ZCvzd",
        "outputId": "27db5f26-4d4b-45de-ba5c-8293305d76a2"
      },
      "source": [
        "S1 = 'The truth is out there.'\r\n",
        "print(S1)"
      ],
      "execution_count": 2,
      "outputs": [
        {
          "output_type": "stream",
          "text": [
            "The truth is out there.\n"
          ],
          "name": "stdout"
        }
      ]
    },
    {
      "cell_type": "markdown",
      "metadata": {
        "id": "Gyr2tGOGC4-F"
      },
      "source": [
        "> 1)Concatenation"
      ]
    },
    {
      "cell_type": "code",
      "metadata": {
        "colab": {
          "base_uri": "https://localhost:8080/"
        },
        "id": "FY1v-qE7C3nd",
        "outputId": "01576820-60f4-4005-c9c6-971f6c1ad8de"
      },
      "source": [
        "print('=' * 40)\r\n",
        "print('\\t', S1)\r\n",
        "print('=' * 40)"
      ],
      "execution_count": 3,
      "outputs": [
        {
          "output_type": "stream",
          "text": [
            "========================================\n",
            "\t The truth is out there.\n",
            "========================================\n"
          ],
          "name": "stdout"
        }
      ]
    },
    {
      "cell_type": "code",
      "metadata": {
        "id": "jAfITwlWDGoT"
      },
      "source": [
        "S2 = 'The truth is'\r\n",
        "S3 = ' out there. '"
      ],
      "execution_count": 4,
      "outputs": []
    },
    {
      "cell_type": "code",
      "metadata": {
        "colab": {
          "base_uri": "https://localhost:8080/",
          "height": 35
        },
        "id": "X5Ourx9VDKqD",
        "outputId": "9074a4fb-c222-44ef-c2d4-3e95da1d4c42"
      },
      "source": [
        "S2 + S3"
      ],
      "execution_count": 5,
      "outputs": [
        {
          "output_type": "execute_result",
          "data": {
            "application/vnd.google.colaboratory.intrinsic+json": {
              "type": "string"
            },
            "text/plain": [
              "'The truth is out there. '"
            ]
          },
          "metadata": {
            "tags": []
          },
          "execution_count": 5
        }
      ]
    },
    {
      "cell_type": "code",
      "metadata": {
        "colab": {
          "base_uri": "https://localhost:8080/",
          "height": 35
        },
        "id": "pF99yMm1DMPV",
        "outputId": "830b4841-a2dc-4fad-f318-37fca5d091d5"
      },
      "source": [
        "S2 * 3"
      ],
      "execution_count": 6,
      "outputs": [
        {
          "output_type": "execute_result",
          "data": {
            "application/vnd.google.colaboratory.intrinsic+json": {
              "type": "string"
            },
            "text/plain": [
              "'The truth isThe truth isThe truth is'"
            ]
          },
          "metadata": {
            "tags": []
          },
          "execution_count": 6
        }
      ]
    },
    {
      "cell_type": "code",
      "metadata": {
        "colab": {
          "base_uri": "https://localhost:8080/",
          "height": 35
        },
        "id": "-u9s9UEFDN8T",
        "outputId": "8f10db46-88a2-4232-90dc-eae042c14f1c"
      },
      "source": [
        "S3 * 3"
      ],
      "execution_count": 7,
      "outputs": [
        {
          "output_type": "execute_result",
          "data": {
            "application/vnd.google.colaboratory.intrinsic+json": {
              "type": "string"
            },
            "text/plain": [
              "' out there.  out there.  out there. '"
            ]
          },
          "metadata": {
            "tags": []
          },
          "execution_count": 7
        }
      ]
    },
    {
      "cell_type": "markdown",
      "metadata": {
        "id": "TwbDYE4TDZX1"
      },
      "source": [
        "> 2) Indexing"
      ]
    },
    {
      "cell_type": "code",
      "metadata": {
        "colab": {
          "base_uri": "https://localhost:8080/"
        },
        "id": "hrA9DggyDQDr",
        "outputId": "dbe774ff-55b3-496f-84fa-7ba42db78bdb"
      },
      "source": [
        "print(S1)"
      ],
      "execution_count": 8,
      "outputs": [
        {
          "output_type": "stream",
          "text": [
            "The truth is out there.\n"
          ],
          "name": "stdout"
        }
      ]
    },
    {
      "cell_type": "code",
      "metadata": {
        "colab": {
          "base_uri": "https://localhost:8080/",
          "height": 35
        },
        "id": "Ri1uD5R8Dbci",
        "outputId": "9f5699ed-f78a-4f91-a7b2-053b5617db34"
      },
      "source": [
        "S1[1]"
      ],
      "execution_count": 9,
      "outputs": [
        {
          "output_type": "execute_result",
          "data": {
            "application/vnd.google.colaboratory.intrinsic+json": {
              "type": "string"
            },
            "text/plain": [
              "'h'"
            ]
          },
          "metadata": {
            "tags": []
          },
          "execution_count": 9
        }
      ]
    },
    {
      "cell_type": "code",
      "metadata": {
        "colab": {
          "base_uri": "https://localhost:8080/",
          "height": 35
        },
        "id": "7AS2xjm1Dc_y",
        "outputId": "5c4a3af3-480d-4613-8cc8-998559f51e82"
      },
      "source": [
        "S1[5]"
      ],
      "execution_count": 10,
      "outputs": [
        {
          "output_type": "execute_result",
          "data": {
            "application/vnd.google.colaboratory.intrinsic+json": {
              "type": "string"
            },
            "text/plain": [
              "'r'"
            ]
          },
          "metadata": {
            "tags": []
          },
          "execution_count": 10
        }
      ]
    },
    {
      "cell_type": "code",
      "metadata": {
        "colab": {
          "base_uri": "https://localhost:8080/",
          "height": 35
        },
        "id": "d2IITfUODedK",
        "outputId": "f6714f2d-41b0-4d80-92d1-390a5924ad70"
      },
      "source": [
        "S1[0]"
      ],
      "execution_count": 11,
      "outputs": [
        {
          "output_type": "execute_result",
          "data": {
            "application/vnd.google.colaboratory.intrinsic+json": {
              "type": "string"
            },
            "text/plain": [
              "'T'"
            ]
          },
          "metadata": {
            "tags": []
          },
          "execution_count": 11
        }
      ]
    },
    {
      "cell_type": "code",
      "metadata": {
        "colab": {
          "base_uri": "https://localhost:8080/",
          "height": 35
        },
        "id": "wT9tq3qwDfo6",
        "outputId": "805ff692-4c14-4e4e-8f40-4a4f1a5f9bac"
      },
      "source": [
        "S1[-1]"
      ],
      "execution_count": 12,
      "outputs": [
        {
          "output_type": "execute_result",
          "data": {
            "application/vnd.google.colaboratory.intrinsic+json": {
              "type": "string"
            },
            "text/plain": [
              "'.'"
            ]
          },
          "metadata": {
            "tags": []
          },
          "execution_count": 12
        }
      ]
    },
    {
      "cell_type": "code",
      "metadata": {
        "colab": {
          "base_uri": "https://localhost:8080/",
          "height": 35
        },
        "id": "HqNiyhfjDg9M",
        "outputId": "7473cb6b-c4dd-42fa-b0b7-7d4eba1d1d85"
      },
      "source": [
        "S1[-13]"
      ],
      "execution_count": 13,
      "outputs": [
        {
          "output_type": "execute_result",
          "data": {
            "application/vnd.google.colaboratory.intrinsic+json": {
              "type": "string"
            },
            "text/plain": [
              "'i'"
            ]
          },
          "metadata": {
            "tags": []
          },
          "execution_count": 13
        }
      ]
    },
    {
      "cell_type": "code",
      "metadata": {
        "colab": {
          "base_uri": "https://localhost:8080/",
          "height": 35
        },
        "id": "4p4K0LKcDiFE",
        "outputId": "f9b21e07-b97f-42e9-e053-dc0f69e8d066"
      },
      "source": [
        "S1[-18]"
      ],
      "execution_count": 14,
      "outputs": [
        {
          "output_type": "execute_result",
          "data": {
            "application/vnd.google.colaboratory.intrinsic+json": {
              "type": "string"
            },
            "text/plain": [
              "'r'"
            ]
          },
          "metadata": {
            "tags": []
          },
          "execution_count": 14
        }
      ]
    },
    {
      "cell_type": "markdown",
      "metadata": {
        "id": "3w6Q_-UDDl3V"
      },
      "source": [
        "> 3) Slicing"
      ]
    },
    {
      "cell_type": "code",
      "metadata": {
        "colab": {
          "base_uri": "https://localhost:8080/"
        },
        "id": "2aoYu_cSDk_0",
        "outputId": "97aa1581-bf3e-40f5-c8e9-39f99c1d85b1"
      },
      "source": [
        "print(S1)"
      ],
      "execution_count": 15,
      "outputs": [
        {
          "output_type": "stream",
          "text": [
            "The truth is out there.\n"
          ],
          "name": "stdout"
        }
      ]
    },
    {
      "cell_type": "markdown",
      "metadata": {
        "id": "_PBSpPOGDsY2"
      },
      "source": [
        "* with Indexing"
      ]
    },
    {
      "cell_type": "code",
      "metadata": {
        "colab": {
          "base_uri": "https://localhost:8080/",
          "height": 35
        },
        "id": "nBjbGrtFDrhD",
        "outputId": "31df8e3f-6ea2-4ced-a2a6-869bb8992e0c"
      },
      "source": [
        "S1[4] + S1[5] + S1[6] + S1[7] + S1[8]"
      ],
      "execution_count": 16,
      "outputs": [
        {
          "output_type": "execute_result",
          "data": {
            "application/vnd.google.colaboratory.intrinsic+json": {
              "type": "string"
            },
            "text/plain": [
              "'truth'"
            ]
          },
          "metadata": {
            "tags": []
          },
          "execution_count": 16
        }
      ]
    },
    {
      "cell_type": "code",
      "metadata": {
        "colab": {
          "base_uri": "https://localhost:8080/",
          "height": 35
        },
        "id": "upY0McV4D0Zy",
        "outputId": "ab6bf8f3-ddc2-4340-d66f-3b446b45a056"
      },
      "source": [
        "S1[10:12]"
      ],
      "execution_count": 17,
      "outputs": [
        {
          "output_type": "execute_result",
          "data": {
            "application/vnd.google.colaboratory.intrinsic+json": {
              "type": "string"
            },
            "text/plain": [
              "'is'"
            ]
          },
          "metadata": {
            "tags": []
          },
          "execution_count": 17
        }
      ]
    },
    {
      "cell_type": "code",
      "metadata": {
        "colab": {
          "base_uri": "https://localhost:8080/",
          "height": 35
        },
        "id": "qqiIWwbpD6zK",
        "outputId": "144265b7-aae8-4a14-f413-beb83cf9e113"
      },
      "source": [
        "S1[:12]"
      ],
      "execution_count": 18,
      "outputs": [
        {
          "output_type": "execute_result",
          "data": {
            "application/vnd.google.colaboratory.intrinsic+json": {
              "type": "string"
            },
            "text/plain": [
              "'The truth is'"
            ]
          },
          "metadata": {
            "tags": []
          },
          "execution_count": 18
        }
      ]
    },
    {
      "cell_type": "code",
      "metadata": {
        "colab": {
          "base_uri": "https://localhost:8080/",
          "height": 35
        },
        "id": "bIrWDTZaD9rr",
        "outputId": "9fa5f1dc-77f5-4334-cc7d-fc6c20e35573"
      },
      "source": [
        "S1[13:]"
      ],
      "execution_count": 19,
      "outputs": [
        {
          "output_type": "execute_result",
          "data": {
            "application/vnd.google.colaboratory.intrinsic+json": {
              "type": "string"
            },
            "text/plain": [
              "'out there.'"
            ]
          },
          "metadata": {
            "tags": []
          },
          "execution_count": 19
        }
      ]
    },
    {
      "cell_type": "code",
      "metadata": {
        "colab": {
          "base_uri": "https://localhost:8080/",
          "height": 35
        },
        "id": "HUQSbSt7D_BL",
        "outputId": "ba5babe7-2c05-46ae-84a3-862811b475d3"
      },
      "source": [
        "S1[13:-7]"
      ],
      "execution_count": 20,
      "outputs": [
        {
          "output_type": "execute_result",
          "data": {
            "application/vnd.google.colaboratory.intrinsic+json": {
              "type": "string"
            },
            "text/plain": [
              "'out'"
            ]
          },
          "metadata": {
            "tags": []
          },
          "execution_count": 20
        }
      ]
    },
    {
      "cell_type": "markdown",
      "metadata": {
        "id": "WqYyySboECZd"
      },
      "source": [
        "## 2.List\r\n",
        "> 1) []기호로 선언"
      ]
    },
    {
      "cell_type": "markdown",
      "metadata": {
        "id": "VMgSX8-pEG7f"
      },
      "source": [
        "* 값 변경 가능"
      ]
    },
    {
      "cell_type": "code",
      "metadata": {
        "colab": {
          "base_uri": "https://localhost:8080/"
        },
        "id": "d1tapiHAEI40",
        "outputId": "884ae3da-d81b-426f-ecf0-8d84fcb70efd"
      },
      "source": [
        " L1 = [1,3,5,7,9]\r\n",
        " print(L1)"
      ],
      "execution_count": 22,
      "outputs": [
        {
          "output_type": "stream",
          "text": [
            "[1, 3, 5, 7, 9]\n"
          ],
          "name": "stdout"
        }
      ]
    },
    {
      "cell_type": "code",
      "metadata": {
        "colab": {
          "base_uri": "https://localhost:8080/"
        },
        "id": "GgOXVOgjEMya",
        "outputId": "a5af78dc-7c30-4b58-c352-4faf8d3bfa4b"
      },
      "source": [
        "print(type(L1))"
      ],
      "execution_count": 23,
      "outputs": [
        {
          "output_type": "stream",
          "text": [
            "<class 'list'>\n"
          ],
          "name": "stdout"
        }
      ]
    },
    {
      "cell_type": "code",
      "metadata": {
        "colab": {
          "base_uri": "https://localhost:8080/"
        },
        "id": "YysleKiHEO0q",
        "outputId": "6d77e852-76fd-468f-888b-03d62ccd8b6c"
      },
      "source": [
        "print(type(L1[0]))"
      ],
      "execution_count": 24,
      "outputs": [
        {
          "output_type": "stream",
          "text": [
            "<class 'int'>\n"
          ],
          "name": "stdout"
        }
      ]
    },
    {
      "cell_type": "code",
      "metadata": {
        "id": "Rs9kb404ERmr"
      },
      "source": [
        "L2 = ['HP','IBM','DELL','EMC','MS']"
      ],
      "execution_count": 25,
      "outputs": []
    },
    {
      "cell_type": "code",
      "metadata": {
        "colab": {
          "base_uri": "https://localhost:8080/"
        },
        "id": "5fcH3Kx0EW-i",
        "outputId": "dd145988-3e1d-499d-ff2c-3173d68295fb"
      },
      "source": [
        "print(L2)"
      ],
      "execution_count": 26,
      "outputs": [
        {
          "output_type": "stream",
          "text": [
            "['HP', 'IBM', 'DELL', 'EMC', 'MS']\n"
          ],
          "name": "stdout"
        }
      ]
    },
    {
      "cell_type": "code",
      "metadata": {
        "colab": {
          "base_uri": "https://localhost:8080/"
        },
        "id": "WqtEFBd6EX3K",
        "outputId": "4a305ddf-3fa6-4c0a-fb0a-1c45a485d364"
      },
      "source": [
        "print(type(L2))"
      ],
      "execution_count": 27,
      "outputs": [
        {
          "output_type": "stream",
          "text": [
            "<class 'list'>\n"
          ],
          "name": "stdout"
        }
      ]
    },
    {
      "cell_type": "code",
      "metadata": {
        "colab": {
          "base_uri": "https://localhost:8080/"
        },
        "id": "7p3ewf5sEZmz",
        "outputId": "994b3534-785f-47b0-9479-03e189ef53e1"
      },
      "source": [
        "print(type(L2[0]))"
      ],
      "execution_count": 28,
      "outputs": [
        {
          "output_type": "stream",
          "text": [
            "<class 'str'>\n"
          ],
          "name": "stdout"
        }
      ]
    },
    {
      "cell_type": "code",
      "metadata": {
        "id": "gHGFBa7iEa9r"
      },
      "source": [
        "L3 = [1, '삼', '5', '칠', 9]"
      ],
      "execution_count": 29,
      "outputs": []
    },
    {
      "cell_type": "code",
      "metadata": {
        "colab": {
          "base_uri": "https://localhost:8080/"
        },
        "id": "svnEhvPYEhk7",
        "outputId": "2f5e0b19-b21b-41a4-d4ec-feba2329f45c"
      },
      "source": [
        "print(type(L3))\r\n",
        "print(type(L3[0]))\r\n",
        "print(type(L3[1]))"
      ],
      "execution_count": 30,
      "outputs": [
        {
          "output_type": "stream",
          "text": [
            "<class 'list'>\n",
            "<class 'int'>\n",
            "<class 'str'>\n"
          ],
          "name": "stdout"
        }
      ]
    },
    {
      "cell_type": "code",
      "metadata": {
        "colab": {
          "base_uri": "https://localhost:8080/"
        },
        "id": "mkuy-gVYEmMD",
        "outputId": "c26ab10f-6807-44d3-e561-ac73b4ab4e5d"
      },
      "source": [
        "L4 = [1, 3, ['HP', 'MS']]\r\n",
        "print(L4)"
      ],
      "execution_count": 31,
      "outputs": [
        {
          "output_type": "stream",
          "text": [
            "[1, 3, ['HP', 'MS']]\n"
          ],
          "name": "stdout"
        }
      ]
    },
    {
      "cell_type": "code",
      "metadata": {
        "colab": {
          "base_uri": "https://localhost:8080/"
        },
        "id": "nKuoB4A1E4mL",
        "outputId": "37fc329c-02c2-4c29-ea7f-77f1a829420f"
      },
      "source": [
        "print(type(L4))\r\n",
        "print(type(L4[1]))\r\n",
        "print(type(L4[2]))\r\n",
        "print(type(L4[2][0]))"
      ],
      "execution_count": 32,
      "outputs": [
        {
          "output_type": "stream",
          "text": [
            "<class 'list'>\n",
            "<class 'int'>\n",
            "<class 'list'>\n",
            "<class 'str'>\n"
          ],
          "name": "stdout"
        }
      ]
    },
    {
      "cell_type": "code",
      "metadata": {
        "id": "rqJmsENkE6am"
      },
      "source": [
        "L5 = [5,7,('ibm','emc')]"
      ],
      "execution_count": 33,
      "outputs": []
    },
    {
      "cell_type": "code",
      "metadata": {
        "colab": {
          "base_uri": "https://localhost:8080/"
        },
        "id": "NcdAuzZTFOrT",
        "outputId": "e595c8de-89cc-4b73-ec58-26e27417bec9"
      },
      "source": [
        "print(type(L5))\r\n",
        "print(type(L5[1]))\r\n",
        "print(type(L5[2]))\r\n",
        "print(type(L5[2][0]))"
      ],
      "execution_count": 34,
      "outputs": [
        {
          "output_type": "stream",
          "text": [
            "<class 'list'>\n",
            "<class 'int'>\n",
            "<class 'tuple'>\n",
            "<class 'str'>\n"
          ],
          "name": "stdout"
        }
      ]
    },
    {
      "cell_type": "markdown",
      "metadata": {
        "id": "eiA1v0HjFazl"
      },
      "source": [
        "> 2) Indexing\r\n",
        "* with L1"
      ]
    },
    {
      "cell_type": "code",
      "metadata": {
        "colab": {
          "base_uri": "https://localhost:8080/"
        },
        "id": "oUTBypQZFWc7",
        "outputId": "20e7ac15-8059-413e-c9bf-8087290cefe6"
      },
      "source": [
        "print(L1)"
      ],
      "execution_count": 35,
      "outputs": [
        {
          "output_type": "stream",
          "text": [
            "[1, 3, 5, 7, 9]\n"
          ],
          "name": "stdout"
        }
      ]
    },
    {
      "cell_type": "code",
      "metadata": {
        "colab": {
          "base_uri": "https://localhost:8080/"
        },
        "id": "HuwxZvDRFgUq",
        "outputId": "fa036747-6d66-41f2-9467-1539baef22b6"
      },
      "source": [
        "L1[2]"
      ],
      "execution_count": 36,
      "outputs": [
        {
          "output_type": "execute_result",
          "data": {
            "text/plain": [
              "5"
            ]
          },
          "metadata": {
            "tags": []
          },
          "execution_count": 36
        }
      ]
    },
    {
      "cell_type": "code",
      "metadata": {
        "colab": {
          "base_uri": "https://localhost:8080/"
        },
        "id": "6Ler2Q3QFi-z",
        "outputId": "affe7b8d-20be-4bfd-9e1b-3dc67edb7899"
      },
      "source": [
        "L1[2] + L1[4]"
      ],
      "execution_count": 37,
      "outputs": [
        {
          "output_type": "execute_result",
          "data": {
            "text/plain": [
              "14"
            ]
          },
          "metadata": {
            "tags": []
          },
          "execution_count": 37
        }
      ]
    },
    {
      "cell_type": "code",
      "metadata": {
        "colab": {
          "base_uri": "https://localhost:8080/"
        },
        "id": "BCIt7AHxFlid",
        "outputId": "a95f24f7-eaee-4c48-f528-469cba5eebdb"
      },
      "source": [
        "L1[-2]"
      ],
      "execution_count": 38,
      "outputs": [
        {
          "output_type": "execute_result",
          "data": {
            "text/plain": [
              "7"
            ]
          },
          "metadata": {
            "tags": []
          },
          "execution_count": 38
        }
      ]
    },
    {
      "cell_type": "markdown",
      "metadata": {
        "id": "ei5WyhwmFn1A"
      },
      "source": [
        "* with L4"
      ]
    },
    {
      "cell_type": "code",
      "metadata": {
        "colab": {
          "base_uri": "https://localhost:8080/"
        },
        "id": "iovFUMqLFqON",
        "outputId": "6ea3683d-bcc5-4d7f-fd89-3a161508c4aa"
      },
      "source": [
        "print(L4)"
      ],
      "execution_count": 39,
      "outputs": [
        {
          "output_type": "stream",
          "text": [
            "[1, 3, ['HP', 'MS']]\n"
          ],
          "name": "stdout"
        }
      ]
    },
    {
      "cell_type": "code",
      "metadata": {
        "colab": {
          "base_uri": "https://localhost:8080/"
        },
        "id": "aPUULDTGFrRk",
        "outputId": "bb7af1ea-a257-463c-f7ed-31e4a82669eb"
      },
      "source": [
        "L4[1]"
      ],
      "execution_count": 40,
      "outputs": [
        {
          "output_type": "execute_result",
          "data": {
            "text/plain": [
              "3"
            ]
          },
          "metadata": {
            "tags": []
          },
          "execution_count": 40
        }
      ]
    },
    {
      "cell_type": "code",
      "metadata": {
        "colab": {
          "base_uri": "https://localhost:8080/"
        },
        "id": "qFmVZIAMFsSa",
        "outputId": "2b18e559-0d08-48af-effa-e5382c89e432"
      },
      "source": [
        "L4[2]"
      ],
      "execution_count": 41,
      "outputs": [
        {
          "output_type": "execute_result",
          "data": {
            "text/plain": [
              "['HP', 'MS']"
            ]
          },
          "metadata": {
            "tags": []
          },
          "execution_count": 41
        }
      ]
    },
    {
      "cell_type": "code",
      "metadata": {
        "colab": {
          "base_uri": "https://localhost:8080/",
          "height": 35
        },
        "id": "3NXRHd1oFtmF",
        "outputId": "ae3f4e46-f34a-43c8-caa8-dda625ea4c29"
      },
      "source": [
        "L4[2][1]"
      ],
      "execution_count": 42,
      "outputs": [
        {
          "output_type": "execute_result",
          "data": {
            "application/vnd.google.colaboratory.intrinsic+json": {
              "type": "string"
            },
            "text/plain": [
              "'MS'"
            ]
          },
          "metadata": {
            "tags": []
          },
          "execution_count": 42
        }
      ]
    },
    {
      "cell_type": "code",
      "metadata": {
        "colab": {
          "base_uri": "https://localhost:8080/",
          "height": 35
        },
        "id": "1-6b0FZeFvLb",
        "outputId": "2a4ffd94-2a32-4770-c611-72b21ee08331"
      },
      "source": [
        "L4[2][0] + L4[2][1]"
      ],
      "execution_count": 43,
      "outputs": [
        {
          "output_type": "execute_result",
          "data": {
            "application/vnd.google.colaboratory.intrinsic+json": {
              "type": "string"
            },
            "text/plain": [
              "'HPMS'"
            ]
          },
          "metadata": {
            "tags": []
          },
          "execution_count": 43
        }
      ]
    },
    {
      "cell_type": "markdown",
      "metadata": {
        "id": "2xW5vlKFFzo3"
      },
      "source": [
        "> 3) Slicing\r\n",
        "* with L1"
      ]
    },
    {
      "cell_type": "code",
      "metadata": {
        "colab": {
          "base_uri": "https://localhost:8080/"
        },
        "id": "bA3X4q8eFyIy",
        "outputId": "657466b4-ac7d-4c00-e78b-7f668dbe3c1f"
      },
      "source": [
        "print(L1)"
      ],
      "execution_count": 44,
      "outputs": [
        {
          "output_type": "stream",
          "text": [
            "[1, 3, 5, 7, 9]\n"
          ],
          "name": "stdout"
        }
      ]
    },
    {
      "cell_type": "code",
      "metadata": {
        "colab": {
          "base_uri": "https://localhost:8080/"
        },
        "id": "O5AygUpHF6TN",
        "outputId": "3beef18f-b0cf-4041-9f60-ecabaecaa300"
      },
      "source": [
        "L1[1:4]"
      ],
      "execution_count": 45,
      "outputs": [
        {
          "output_type": "execute_result",
          "data": {
            "text/plain": [
              "[3, 5, 7]"
            ]
          },
          "metadata": {
            "tags": []
          },
          "execution_count": 45
        }
      ]
    },
    {
      "cell_type": "code",
      "metadata": {
        "colab": {
          "base_uri": "https://localhost:8080/"
        },
        "id": "Q2NwbTG4F8ay",
        "outputId": "a7e82fb7-09a0-4e6b-99ca-b12cd9eb7cbf"
      },
      "source": [
        "L1[:3]"
      ],
      "execution_count": 46,
      "outputs": [
        {
          "output_type": "execute_result",
          "data": {
            "text/plain": [
              "[1, 3, 5]"
            ]
          },
          "metadata": {
            "tags": []
          },
          "execution_count": 46
        }
      ]
    },
    {
      "cell_type": "code",
      "metadata": {
        "colab": {
          "base_uri": "https://localhost:8080/"
        },
        "id": "e5tgt8YhF90S",
        "outputId": "b5b1c51c-907c-470d-8f87-6ecfd8663d0f"
      },
      "source": [
        "L1[2:]"
      ],
      "execution_count": 47,
      "outputs": [
        {
          "output_type": "execute_result",
          "data": {
            "text/plain": [
              "[5, 7, 9]"
            ]
          },
          "metadata": {
            "tags": []
          },
          "execution_count": 47
        }
      ]
    },
    {
      "cell_type": "markdown",
      "metadata": {
        "id": "x--LQd_tGAKL"
      },
      "source": [
        "* with L6"
      ]
    },
    {
      "cell_type": "code",
      "metadata": {
        "colab": {
          "base_uri": "https://localhost:8080/"
        },
        "id": "TZWBUtDdF_bk",
        "outputId": "a87abfc2-5e53-4eb0-da41-0e439cf307e7"
      },
      "source": [
        "L6 = [1,3,5, [2,4,6]]\r\n",
        "print(L6)"
      ],
      "execution_count": 48,
      "outputs": [
        {
          "output_type": "stream",
          "text": [
            "[1, 3, 5, [2, 4, 6]]\n"
          ],
          "name": "stdout"
        }
      ]
    },
    {
      "cell_type": "code",
      "metadata": {
        "colab": {
          "base_uri": "https://localhost:8080/"
        },
        "id": "X9x3b97GGG5k",
        "outputId": "a34bd1f3-e4f0-4354-ef31-5d9ae6f629f5"
      },
      "source": [
        "L6[2:]"
      ],
      "execution_count": 49,
      "outputs": [
        {
          "output_type": "execute_result",
          "data": {
            "text/plain": [
              "[5, [2, 4, 6]]"
            ]
          },
          "metadata": {
            "tags": []
          },
          "execution_count": 49
        }
      ]
    },
    {
      "cell_type": "code",
      "metadata": {
        "colab": {
          "base_uri": "https://localhost:8080/"
        },
        "id": "usZg3gBjGJiT",
        "outputId": "499e43f5-501f-478d-c899-e06d6e1457e7"
      },
      "source": [
        "L6[3]"
      ],
      "execution_count": 50,
      "outputs": [
        {
          "output_type": "execute_result",
          "data": {
            "text/plain": [
              "[2, 4, 6]"
            ]
          },
          "metadata": {
            "tags": []
          },
          "execution_count": 50
        }
      ]
    },
    {
      "cell_type": "code",
      "metadata": {
        "colab": {
          "base_uri": "https://localhost:8080/"
        },
        "id": "zP1bBgXcGLqD",
        "outputId": "07a33979-e6df-459e-d5c8-d8d1c890dd3c"
      },
      "source": [
        "L6[3][0:2]"
      ],
      "execution_count": 51,
      "outputs": [
        {
          "output_type": "execute_result",
          "data": {
            "text/plain": [
              "[2, 4]"
            ]
          },
          "metadata": {
            "tags": []
          },
          "execution_count": 51
        }
      ]
    },
    {
      "cell_type": "markdown",
      "metadata": {
        "id": "EAV9FAp-GQIc"
      },
      "source": [
        "> 4) Change Values\r\n",
        "* 5 to 6"
      ]
    },
    {
      "cell_type": "code",
      "metadata": {
        "id": "D-Z54MqHGNmW",
        "colab": {
          "base_uri": "https://localhost:8080/"
        },
        "outputId": "5e304b81-63e5-4844-f9be-703f3206a0b7"
      },
      "source": [
        "print(L1)"
      ],
      "execution_count": 52,
      "outputs": [
        {
          "output_type": "stream",
          "text": [
            "[1, 3, 5, 7, 9]\n"
          ],
          "name": "stdout"
        }
      ]
    },
    {
      "cell_type": "code",
      "metadata": {
        "colab": {
          "base_uri": "https://localhost:8080/"
        },
        "id": "euOg4kzxDLnZ",
        "outputId": "584b2a02-0f5d-49e3-c073-eb3f6703c8ad"
      },
      "source": [
        "L1[2] = 6\r\n",
        "print(L1)"
      ],
      "execution_count": 53,
      "outputs": [
        {
          "output_type": "stream",
          "text": [
            "[1, 3, 6, 7, 9]\n"
          ],
          "name": "stdout"
        }
      ]
    },
    {
      "cell_type": "markdown",
      "metadata": {
        "id": "mdiWCeAKDqaB"
      },
      "source": [
        "> 5) Delete Values"
      ]
    },
    {
      "cell_type": "code",
      "metadata": {
        "colab": {
          "base_uri": "https://localhost:8080/"
        },
        "id": "pxpotMZGDock",
        "outputId": "d425d37c-3182-469a-c051-f9dce0370384"
      },
      "source": [
        "print(L1)"
      ],
      "execution_count": 54,
      "outputs": [
        {
          "output_type": "stream",
          "text": [
            "[1, 3, 6, 7, 9]\n"
          ],
          "name": "stdout"
        }
      ]
    },
    {
      "cell_type": "code",
      "metadata": {
        "colab": {
          "base_uri": "https://localhost:8080/"
        },
        "id": "v_Vz_Eq5Dt5k",
        "outputId": "193d1a9f-281a-403c-bc79-d2b2e5389ee8"
      },
      "source": [
        "L1[2:4] = []\r\n",
        "print(L1)"
      ],
      "execution_count": 56,
      "outputs": [
        {
          "output_type": "stream",
          "text": [
            "[1, 3, 9]\n"
          ],
          "name": "stdout"
        }
      ]
    },
    {
      "cell_type": "code",
      "metadata": {
        "colab": {
          "base_uri": "https://localhost:8080/"
        },
        "id": "ZXvcOPPWDwmx",
        "outputId": "7dcd067a-667f-4ef8-d3f3-e47e5c379d83"
      },
      "source": [
        "del L1[2]\r\n",
        "print(L1)"
      ],
      "execution_count": 57,
      "outputs": [
        {
          "output_type": "stream",
          "text": [
            "[1, 3]\n"
          ],
          "name": "stdout"
        }
      ]
    },
    {
      "cell_type": "code",
      "metadata": {
        "colab": {
          "base_uri": "https://localhost:8080/",
          "height": 188
        },
        "id": "auAWdLqTD0gJ",
        "outputId": "c3ef4123-f6d7-4986-88c7-9355a7e9b9b5"
      },
      "source": [
        "del L1\r\n",
        "print(L1)"
      ],
      "execution_count": 58,
      "outputs": [
        {
          "output_type": "error",
          "ename": "NameError",
          "evalue": "ignored",
          "traceback": [
            "\u001b[0;31m---------------------------------------------------------------------------\u001b[0m",
            "\u001b[0;31mNameError\u001b[0m                                 Traceback (most recent call last)",
            "\u001b[0;32m<ipython-input-58-6e970b11d734>\u001b[0m in \u001b[0;36m<module>\u001b[0;34m()\u001b[0m\n\u001b[1;32m      1\u001b[0m \u001b[0;32mdel\u001b[0m \u001b[0mL1\u001b[0m\u001b[0;34m\u001b[0m\u001b[0;34m\u001b[0m\u001b[0m\n\u001b[0;32m----> 2\u001b[0;31m \u001b[0mprint\u001b[0m\u001b[0;34m(\u001b[0m\u001b[0mL1\u001b[0m\u001b[0;34m)\u001b[0m\u001b[0;34m\u001b[0m\u001b[0;34m\u001b[0m\u001b[0m\n\u001b[0m",
            "\u001b[0;31mNameError\u001b[0m: name 'L1' is not defined"
          ]
        }
      ]
    },
    {
      "cell_type": "markdown",
      "metadata": {
        "id": "xyFEPUafD4va"
      },
      "source": [
        "> 6) Function()"
      ]
    },
    {
      "cell_type": "code",
      "metadata": {
        "colab": {
          "base_uri": "https://localhost:8080/"
        },
        "id": "AGicmr-lD20D",
        "outputId": "219529cd-ed4d-400b-a9a2-fb314575d139"
      },
      "source": [
        "L7 = [8, 3, 9, 2, 1]\r\n",
        "print(L7)"
      ],
      "execution_count": 59,
      "outputs": [
        {
          "output_type": "stream",
          "text": [
            "[8, 3, 9, 2, 1]\n"
          ],
          "name": "stdout"
        }
      ]
    },
    {
      "cell_type": "markdown",
      "metadata": {
        "id": "R0yZN_bsEBDj"
      },
      "source": [
        "> * 오름차순 정렬"
      ]
    },
    {
      "cell_type": "code",
      "metadata": {
        "id": "dNbxbEWGD_kG"
      },
      "source": [
        "L7.sort()"
      ],
      "execution_count": 60,
      "outputs": []
    },
    {
      "cell_type": "code",
      "metadata": {
        "colab": {
          "base_uri": "https://localhost:8080/"
        },
        "id": "dI8_RMrREESX",
        "outputId": "e6356ff6-445e-42fc-8210-63a8e5a591b1"
      },
      "source": [
        "print(L7)"
      ],
      "execution_count": 61,
      "outputs": [
        {
          "output_type": "stream",
          "text": [
            "[1, 2, 3, 8, 9]\n"
          ],
          "name": "stdout"
        }
      ]
    },
    {
      "cell_type": "markdown",
      "metadata": {
        "id": "t9iqEzHlEItt"
      },
      "source": [
        "> * 역순 정렬"
      ]
    },
    {
      "cell_type": "code",
      "metadata": {
        "id": "izY8yLYuEF8O"
      },
      "source": [
        "L7.reverse()"
      ],
      "execution_count": 62,
      "outputs": []
    },
    {
      "cell_type": "code",
      "metadata": {
        "colab": {
          "base_uri": "https://localhost:8080/"
        },
        "id": "NWzZZPYDEOah",
        "outputId": "bf14d640-0e81-42fa-b210-73fdc661e4c9"
      },
      "source": [
        "print(L7)"
      ],
      "execution_count": 63,
      "outputs": [
        {
          "output_type": "stream",
          "text": [
            "[9, 8, 3, 2, 1]\n"
          ],
          "name": "stdout"
        }
      ]
    },
    {
      "cell_type": "markdown",
      "metadata": {
        "id": "29Y2URO4EQuf"
      },
      "source": [
        "> * 마지막에 값 추가"
      ]
    },
    {
      "cell_type": "code",
      "metadata": {
        "colab": {
          "base_uri": "https://localhost:8080/"
        },
        "id": "NriycJCqEPmV",
        "outputId": "0b78837c-5cb0-49a0-f183-890fc367e6b4"
      },
      "source": [
        "L7.append(0)\r\n",
        "print(L7)"
      ],
      "execution_count": 64,
      "outputs": [
        {
          "output_type": "stream",
          "text": [
            "[9, 8, 3, 2, 1, 0]\n"
          ],
          "name": "stdout"
        }
      ]
    },
    {
      "cell_type": "markdown",
      "metadata": {
        "id": "s7RM45dFEXKC"
      },
      "source": [
        "> * 2번 인덱스에 값 추가"
      ]
    },
    {
      "cell_type": "code",
      "metadata": {
        "colab": {
          "base_uri": "https://localhost:8080/"
        },
        "id": "NI57PLBqEVU0",
        "outputId": "0fdd2be9-ddcf-4d4f-c26b-a65592ccc5f1"
      },
      "source": [
        "L7.insert(2,5)\r\n",
        "print(L7)"
      ],
      "execution_count": 65,
      "outputs": [
        {
          "output_type": "stream",
          "text": [
            "[9, 8, 5, 3, 2, 1, 0]\n"
          ],
          "name": "stdout"
        }
      ]
    },
    {
      "cell_type": "markdown",
      "metadata": {
        "id": "R2ZuoqzKEeV4"
      },
      "source": [
        "> 7) Operators"
      ]
    },
    {
      "cell_type": "code",
      "metadata": {
        "id": "iEaecAicEcbl"
      },
      "source": [
        "L8 = [1,3,5,7,9]\r\n",
        "L9 = [2,4,6,8,10]"
      ],
      "execution_count": 68,
      "outputs": []
    },
    {
      "cell_type": "code",
      "metadata": {
        "colab": {
          "base_uri": "https://localhost:8080/"
        },
        "id": "hamfZ2L_Emv6",
        "outputId": "a66f432a-e661-471d-d68d-a3bb72d515d3"
      },
      "source": [
        "L8 + L9"
      ],
      "execution_count": 69,
      "outputs": [
        {
          "output_type": "execute_result",
          "data": {
            "text/plain": [
              "[1, 3, 5, 7, 9, 2, 4, 6, 8, 10]"
            ]
          },
          "metadata": {
            "tags": []
          },
          "execution_count": 69
        }
      ]
    },
    {
      "cell_type": "code",
      "metadata": {
        "colab": {
          "base_uri": "https://localhost:8080/"
        },
        "id": "_qhIdy53Eo4y",
        "outputId": "702269ea-c68b-437d-eb6c-ecb1d96b3de0"
      },
      "source": [
        "L8 * 2"
      ],
      "execution_count": 71,
      "outputs": [
        {
          "output_type": "execute_result",
          "data": {
            "text/plain": [
              "[1, 3, 5, 7, 9, 1, 3, 5, 7, 9]"
            ]
          },
          "metadata": {
            "tags": []
          },
          "execution_count": 71
        }
      ]
    },
    {
      "cell_type": "code",
      "metadata": {
        "colab": {
          "base_uri": "https://localhost:8080/"
        },
        "id": "oiiD90IQEtv3",
        "outputId": "8c609705-d52a-43df-c0c4-b2bf85c37da4"
      },
      "source": [
        "L9 * 3"
      ],
      "execution_count": 72,
      "outputs": [
        {
          "output_type": "execute_result",
          "data": {
            "text/plain": [
              "[2, 4, 6, 8, 10, 2, 4, 6, 8, 10, 2, 4, 6, 8, 10]"
            ]
          },
          "metadata": {
            "tags": []
          },
          "execution_count": 72
        }
      ]
    },
    {
      "cell_type": "markdown",
      "metadata": {
        "id": "2EBXfaLsFAdG"
      },
      "source": [
        "## 3. Tuple\r\n",
        "> 1) ()기호로 선언\r\n",
        "* 값 변경 불가능 : 삭제나 변경이 되지 않음"
      ]
    },
    {
      "cell_type": "code",
      "metadata": {
        "colab": {
          "base_uri": "https://localhost:8080/"
        },
        "id": "VAe7qIkME-0H",
        "outputId": "88620e2c-f9d6-453a-b94b-9906ffe861c1"
      },
      "source": [
        "T1 = (1,2)\r\n",
        "print(T1)"
      ],
      "execution_count": 73,
      "outputs": [
        {
          "output_type": "stream",
          "text": [
            "(1, 2)\n"
          ],
          "name": "stdout"
        }
      ]
    },
    {
      "cell_type": "markdown",
      "metadata": {
        "id": "2SK4VCFDFJ-x"
      },
      "source": [
        "> * Error-1"
      ]
    },
    {
      "cell_type": "code",
      "metadata": {
        "colab": {
          "base_uri": "https://localhost:8080/",
          "height": 170
        },
        "id": "jpf0mlzZFI_Q",
        "outputId": "f4751027-d0a3-41ed-cb81-78ffbae482d0"
      },
      "source": [
        "del T1[0]"
      ],
      "execution_count": 74,
      "outputs": [
        {
          "output_type": "error",
          "ename": "TypeError",
          "evalue": "ignored",
          "traceback": [
            "\u001b[0;31m---------------------------------------------------------------------------\u001b[0m",
            "\u001b[0;31mTypeError\u001b[0m                                 Traceback (most recent call last)",
            "\u001b[0;32m<ipython-input-74-5dbf3ae207d5>\u001b[0m in \u001b[0;36m<module>\u001b[0;34m()\u001b[0m\n\u001b[0;32m----> 1\u001b[0;31m \u001b[0;32mdel\u001b[0m \u001b[0mT1\u001b[0m\u001b[0;34m[\u001b[0m\u001b[0;36m0\u001b[0m\u001b[0;34m]\u001b[0m\u001b[0;34m\u001b[0m\u001b[0;34m\u001b[0m\u001b[0m\n\u001b[0m",
            "\u001b[0;31mTypeError\u001b[0m: 'tuple' object doesn't support item deletion"
          ]
        }
      ]
    },
    {
      "cell_type": "code",
      "metadata": {
        "colab": {
          "base_uri": "https://localhost:8080/",
          "height": 170
        },
        "id": "64o0mMGLFRJT",
        "outputId": "27ceeba3-a1cf-439d-f9f2-a71c500d6b3f"
      },
      "source": [
        "T1[0] = 'a'"
      ],
      "execution_count": 75,
      "outputs": [
        {
          "output_type": "error",
          "ename": "TypeError",
          "evalue": "ignored",
          "traceback": [
            "\u001b[0;31m---------------------------------------------------------------------------\u001b[0m",
            "\u001b[0;31mTypeError\u001b[0m                                 Traceback (most recent call last)",
            "\u001b[0;32m<ipython-input-75-81186ea111e4>\u001b[0m in \u001b[0;36m<module>\u001b[0;34m()\u001b[0m\n\u001b[0;32m----> 1\u001b[0;31m \u001b[0mT1\u001b[0m\u001b[0;34m[\u001b[0m\u001b[0;36m0\u001b[0m\u001b[0;34m]\u001b[0m \u001b[0;34m=\u001b[0m \u001b[0;34m'a'\u001b[0m\u001b[0;34m\u001b[0m\u001b[0;34m\u001b[0m\u001b[0m\n\u001b[0m",
            "\u001b[0;31mTypeError\u001b[0m: 'tuple' object does not support item assignment"
          ]
        }
      ]
    },
    {
      "cell_type": "markdown",
      "metadata": {
        "id": "WyMR8WQUFf-K"
      },
      "source": [
        "> * ()기호 생략 가능"
      ]
    },
    {
      "cell_type": "code",
      "metadata": {
        "colab": {
          "base_uri": "https://localhost:8080/"
        },
        "id": "A3c_heTHFbws",
        "outputId": "d6d0b219-d058-407d-834c-05efc89569ba"
      },
      "source": [
        "T2 = 'a','b'\r\n",
        "print(T2)"
      ],
      "execution_count": 77,
      "outputs": [
        {
          "output_type": "stream",
          "text": [
            "('a', 'b')\n"
          ],
          "name": "stdout"
        }
      ]
    },
    {
      "cell_type": "markdown",
      "metadata": {
        "id": "_QDzrtbYFr1c"
      },
      "source": [
        "> 2) Tuple in Tuple"
      ]
    },
    {
      "cell_type": "code",
      "metadata": {
        "colab": {
          "base_uri": "https://localhost:8080/"
        },
        "id": "vp8txtyjFeKZ",
        "outputId": "1da91aa9-0866-4507-aabb-f9961f1984b8"
      },
      "source": [
        "T3 = (1,2,(3,4))\r\n",
        "print(T3)"
      ],
      "execution_count": 78,
      "outputs": [
        {
          "output_type": "stream",
          "text": [
            "(1, 2, (3, 4))\n"
          ],
          "name": "stdout"
        }
      ]
    },
    {
      "cell_type": "markdown",
      "metadata": {
        "id": "glGg81QiF1dh"
      },
      "source": [
        "> * Error"
      ]
    },
    {
      "cell_type": "code",
      "metadata": {
        "colab": {
          "base_uri": "https://localhost:8080/",
          "height": 170
        },
        "id": "V4XnAxp9FyHO",
        "outputId": "83b6a3d7-b08e-4088-ec06-7245492ace91"
      },
      "source": [
        "T3[2][0] = 6"
      ],
      "execution_count": 80,
      "outputs": [
        {
          "output_type": "error",
          "ename": "TypeError",
          "evalue": "ignored",
          "traceback": [
            "\u001b[0;31m---------------------------------------------------------------------------\u001b[0m",
            "\u001b[0;31mTypeError\u001b[0m                                 Traceback (most recent call last)",
            "\u001b[0;32m<ipython-input-80-05b84266fba5>\u001b[0m in \u001b[0;36m<module>\u001b[0;34m()\u001b[0m\n\u001b[0;32m----> 1\u001b[0;31m \u001b[0mT3\u001b[0m\u001b[0;34m[\u001b[0m\u001b[0;36m2\u001b[0m\u001b[0;34m]\u001b[0m\u001b[0;34m[\u001b[0m\u001b[0;36m0\u001b[0m\u001b[0;34m]\u001b[0m \u001b[0;34m=\u001b[0m \u001b[0;36m6\u001b[0m\u001b[0;34m\u001b[0m\u001b[0;34m\u001b[0m\u001b[0m\n\u001b[0m",
            "\u001b[0;31mTypeError\u001b[0m: 'tuple' object does not support item assignment"
          ]
        }
      ]
    },
    {
      "cell_type": "markdown",
      "metadata": {
        "id": "mQKRbhuyF8rw"
      },
      "source": [
        "> 3) List in Tuple"
      ]
    },
    {
      "cell_type": "code",
      "metadata": {
        "colab": {
          "base_uri": "https://localhost:8080/"
        },
        "id": "zA9dv7qhF0Ex",
        "outputId": "19ce1fe4-918e-4b8a-aa0f-a25222220bd6"
      },
      "source": [
        "T4 = (1,2,[3,4])\r\n",
        "print(T4)"
      ],
      "execution_count": 81,
      "outputs": [
        {
          "output_type": "stream",
          "text": [
            "(1, 2, [3, 4])\n"
          ],
          "name": "stdout"
        }
      ]
    },
    {
      "cell_type": "markdown",
      "metadata": {
        "id": "Ibne3hCkGFBW"
      },
      "source": [
        "> * Change Values"
      ]
    },
    {
      "cell_type": "code",
      "metadata": {
        "colab": {
          "base_uri": "https://localhost:8080/"
        },
        "id": "9Ck5IcDDGCXr",
        "outputId": "4b345b36-0d7d-4f7d-aba4-1d087485beab"
      },
      "source": [
        "T4[2][1] = 6\r\n",
        "print(T4)"
      ],
      "execution_count": 82,
      "outputs": [
        {
          "output_type": "stream",
          "text": [
            "(1, 2, [3, 6])\n"
          ],
          "name": "stdout"
        }
      ]
    },
    {
      "cell_type": "markdown",
      "metadata": {
        "id": "SfT1Mz3rGTEa"
      },
      "source": [
        "## 4. Dictionary\r\n",
        "> 1) { Key : Value } 구조 선언"
      ]
    },
    {
      "cell_type": "code",
      "metadata": {
        "colab": {
          "base_uri": "https://localhost:8080/"
        },
        "id": "2ik0akyWGNaC",
        "outputId": "774d1fe5-42c2-4614-e172-f26f2d722e02"
      },
      "source": [
        "D1 = { 'Name':'LEE', 'Age':24 }\r\n",
        "print(D1)"
      ],
      "execution_count": 94,
      "outputs": [
        {
          "output_type": "stream",
          "text": [
            "{'Name': 'LEE', 'Age': 24}\n"
          ],
          "name": "stdout"
        }
      ]
    },
    {
      "cell_type": "code",
      "metadata": {
        "colab": {
          "base_uri": "https://localhost:8080/"
        },
        "id": "gbRrg8YSGh9H",
        "outputId": "73387e39-e271-42a6-cf02-637d851ba28a"
      },
      "source": [
        "print(type(D1))\r\n",
        "print(type(D1['Name']))\r\n",
        "print(type(D1['Age']))"
      ],
      "execution_count": 95,
      "outputs": [
        {
          "output_type": "stream",
          "text": [
            "<class 'dict'>\n",
            "<class 'str'>\n",
            "<class 'int'>\n"
          ],
          "name": "stdout"
        }
      ]
    },
    {
      "cell_type": "code",
      "metadata": {
        "colab": {
          "base_uri": "https://localhost:8080/",
          "height": 35
        },
        "id": "Z_-8Ig2rLXGE",
        "outputId": "14ed8fb0-41dc-4847-d9e0-d42216ae128e"
      },
      "source": [
        "D1['Name']"
      ],
      "execution_count": 96,
      "outputs": [
        {
          "output_type": "execute_result",
          "data": {
            "application/vnd.google.colaboratory.intrinsic+json": {
              "type": "string"
            },
            "text/plain": [
              "'LEE'"
            ]
          },
          "metadata": {
            "tags": []
          },
          "execution_count": 96
        }
      ]
    },
    {
      "cell_type": "markdown",
      "metadata": {
        "id": "Ku3ikcajLdpN"
      },
      "source": [
        "> 2) Key : Value 추가"
      ]
    },
    {
      "cell_type": "code",
      "metadata": {
        "colab": {
          "base_uri": "https://localhost:8080/"
        },
        "id": "_vbxTxN4LcBz",
        "outputId": "cdbfb5af-21c4-46e7-87b5-d9020387e626"
      },
      "source": [
        "D1['Height'] = 183\r\n",
        "print(D1)"
      ],
      "execution_count": 97,
      "outputs": [
        {
          "output_type": "stream",
          "text": [
            "{'Name': 'LEE', 'Age': 24, 'Height': 183}\n"
          ],
          "name": "stdout"
        }
      ]
    },
    {
      "cell_type": "markdown",
      "metadata": {
        "id": "50VCeKUoLnfc"
      },
      "source": [
        "> 3) Key : Value 삭제"
      ]
    },
    {
      "cell_type": "code",
      "metadata": {
        "colab": {
          "base_uri": "https://localhost:8080/"
        },
        "id": "HxxHd4vNLjIg",
        "outputId": "14d2b511-af24-4a5e-e2e1-e09c1129b0ec"
      },
      "source": [
        "del D1['Age']\r\n",
        "print(D1)"
      ],
      "execution_count": 98,
      "outputs": [
        {
          "output_type": "stream",
          "text": [
            "{'Name': 'LEE', 'Height': 183}\n"
          ],
          "name": "stdout"
        }
      ]
    },
    {
      "cell_type": "markdown",
      "metadata": {
        "id": "7WPai5PlLtRt"
      },
      "source": [
        "> 4) Function()\r\n",
        "* Key 확인"
      ]
    },
    {
      "cell_type": "code",
      "metadata": {
        "colab": {
          "base_uri": "https://localhost:8080/"
        },
        "id": "VC7NuC2RLrsv",
        "outputId": "3245dffa-d506-4de0-da0a-94af1d98557b"
      },
      "source": [
        "D1.keys()"
      ],
      "execution_count": 99,
      "outputs": [
        {
          "output_type": "execute_result",
          "data": {
            "text/plain": [
              "dict_keys(['Name', 'Height'])"
            ]
          },
          "metadata": {
            "tags": []
          },
          "execution_count": 99
        }
      ]
    },
    {
      "cell_type": "markdown",
      "metadata": {
        "id": "6r33UTyDL0pD"
      },
      "source": [
        "> * Value 확인"
      ]
    },
    {
      "cell_type": "code",
      "metadata": {
        "colab": {
          "base_uri": "https://localhost:8080/"
        },
        "id": "ljYt6MjzLzNd",
        "outputId": "1743ad7e-ba85-47f7-8825-0968a1b29343"
      },
      "source": [
        "D1.values()"
      ],
      "execution_count": 100,
      "outputs": [
        {
          "output_type": "execute_result",
          "data": {
            "text/plain": [
              "dict_values(['LEE', 183])"
            ]
          },
          "metadata": {
            "tags": []
          },
          "execution_count": 100
        }
      ]
    },
    {
      "cell_type": "markdown",
      "metadata": {
        "id": "uppQ_7bdL6rS"
      },
      "source": [
        "> * Key : Value 삭제"
      ]
    },
    {
      "cell_type": "code",
      "metadata": {
        "colab": {
          "base_uri": "https://localhost:8080/"
        },
        "id": "R6FW14COL4hb",
        "outputId": "20b627dd-c722-4175-af7d-4ac85a2d8343"
      },
      "source": [
        "print(D1)\r\n",
        "D1.clear()\r\n",
        "print(D1)"
      ],
      "execution_count": 101,
      "outputs": [
        {
          "output_type": "stream",
          "text": [
            "{'Name': 'LEE', 'Height': 183}\n",
            "{}\n"
          ],
          "name": "stdout"
        }
      ]
    },
    {
      "cell_type": "markdown",
      "metadata": {
        "id": "fqAwrLuoMK9O"
      },
      "source": [
        "> 5) Dictionary with List"
      ]
    },
    {
      "cell_type": "code",
      "metadata": {
        "id": "m8u5wMY9MAJW"
      },
      "source": [
        "L1 = ['Red','Green','Blue']\r\n",
        "L2 = [255, 127, 63]"
      ],
      "execution_count": 102,
      "outputs": []
    },
    {
      "cell_type": "code",
      "metadata": {
        "colab": {
          "base_uri": "https://localhost:8080/"
        },
        "id": "PlDDhW8PMVVq",
        "outputId": "719ab3ac-1316-4a16-90c1-b0d1b3f18904"
      },
      "source": [
        "D2 = { x:y for x, y in zip(L1,L2) }\r\n",
        "print(D2)"
      ],
      "execution_count": 103,
      "outputs": [
        {
          "output_type": "stream",
          "text": [
            "{'Red': 255, 'Green': 127, 'Blue': 63}\n"
          ],
          "name": "stdout"
        }
      ]
    },
    {
      "cell_type": "markdown",
      "metadata": {
        "id": "vhp-zeL-McI3"
      },
      "source": [
        "## 5. Casting\r\n",
        "> 1) Data Type\r\n",
        "* int to float"
      ]
    },
    {
      "cell_type": "code",
      "metadata": {
        "colab": {
          "base_uri": "https://localhost:8080/"
        },
        "id": "cGCbZ16oMawi",
        "outputId": "6032d2ca-5e77-4020-dcfd-c67a2461a47e"
      },
      "source": [
        "print(type(9))\r\n",
        "print(type(float(9)))"
      ],
      "execution_count": 104,
      "outputs": [
        {
          "output_type": "stream",
          "text": [
            "<class 'int'>\n",
            "<class 'float'>\n"
          ],
          "name": "stdout"
        }
      ]
    },
    {
      "cell_type": "markdown",
      "metadata": {
        "id": "AMT2tkUPMol6"
      },
      "source": [
        "> * str to float"
      ]
    },
    {
      "cell_type": "code",
      "metadata": {
        "colab": {
          "base_uri": "https://localhost:8080/"
        },
        "id": "x1M3UL8UMnd7",
        "outputId": "354e8a0e-2560-4860-e8e9-43ba20232057"
      },
      "source": [
        "print(type('9.4'))\r\n",
        "print(type(float('9.4')))"
      ],
      "execution_count": 105,
      "outputs": [
        {
          "output_type": "stream",
          "text": [
            "<class 'str'>\n",
            "<class 'float'>\n"
          ],
          "name": "stdout"
        }
      ]
    },
    {
      "cell_type": "markdown",
      "metadata": {
        "id": "zsLBTmq7MzwR"
      },
      "source": [
        "> * float to int"
      ]
    },
    {
      "cell_type": "code",
      "metadata": {
        "colab": {
          "base_uri": "https://localhost:8080/"
        },
        "id": "05pD3Ti2MxgN",
        "outputId": "2d46cc19-d5fb-42ae-e955-60c76198ccdf"
      },
      "source": [
        "print(type(9.0))\r\n",
        "print(9.0)\r\n",
        "\r\n",
        "print(type(int(9.0)))\r\n",
        "print(int(9.0))"
      ],
      "execution_count": 106,
      "outputs": [
        {
          "output_type": "stream",
          "text": [
            "<class 'float'>\n",
            "9.0\n",
            "<class 'int'>\n",
            "9\n"
          ],
          "name": "stdout"
        }
      ]
    },
    {
      "cell_type": "markdown",
      "metadata": {
        "id": "B-XL-HqLM9z_"
      },
      "source": [
        "> * str to int"
      ]
    },
    {
      "cell_type": "code",
      "metadata": {
        "colab": {
          "base_uri": "https://localhost:8080/"
        },
        "id": "NNMBpFdAM8JG",
        "outputId": "b6a7af5c-c717-4b87-f1e0-05354e922a46"
      },
      "source": [
        "print(type('9'))\r\n",
        "print(9)\r\n",
        "\r\n",
        "print(type(int('9')))\r\n",
        "print(float(9))"
      ],
      "execution_count": 108,
      "outputs": [
        {
          "output_type": "stream",
          "text": [
            "<class 'str'>\n",
            "9\n",
            "<class 'int'>\n",
            "9.0\n"
          ],
          "name": "stdout"
        }
      ]
    },
    {
      "cell_type": "markdown",
      "metadata": {
        "id": "zTgqLKWFNI3O"
      },
      "source": [
        "> * float to int (Warning!)"
      ]
    },
    {
      "cell_type": "code",
      "metadata": {
        "colab": {
          "base_uri": "https://localhost:8080/"
        },
        "id": "v0nQyitbNCXG",
        "outputId": "6cd7f87d-d58b-4202-eb0f-6f87d18137fa"
      },
      "source": [
        "print(type(3.14))\r\n",
        "print(3.14)\r\n",
        "\r\n",
        "print(type(int(3.14)))\r\n",
        "print(int(3.14))  # 정수형이 되어서 소수점 뒷자리가 없어짐"
      ],
      "execution_count": 109,
      "outputs": [
        {
          "output_type": "stream",
          "text": [
            "<class 'float'>\n",
            "3.14\n",
            "<class 'int'>\n",
            "3\n"
          ],
          "name": "stdout"
        }
      ]
    },
    {
      "cell_type": "markdown",
      "metadata": {
        "id": "noah5GmqNaJs"
      },
      "source": [
        "> * int to str"
      ]
    },
    {
      "cell_type": "code",
      "metadata": {
        "colab": {
          "base_uri": "https://localhost:8080/"
        },
        "id": "ohMlfxAUNX_e",
        "outputId": "d52706f1-1dd4-4902-b820-5beb12b830ad"
      },
      "source": [
        "print(type(9))\r\n",
        "print(type(str(9)))"
      ],
      "execution_count": 110,
      "outputs": [
        {
          "output_type": "stream",
          "text": [
            "<class 'int'>\n",
            "<class 'str'>\n"
          ],
          "name": "stdout"
        }
      ]
    },
    {
      "cell_type": "markdown",
      "metadata": {
        "id": "fuV8ZdqRNgvS"
      },
      "source": [
        "> * float to str"
      ]
    },
    {
      "cell_type": "code",
      "metadata": {
        "colab": {
          "base_uri": "https://localhost:8080/"
        },
        "id": "3qs5Z2NsNfMZ",
        "outputId": "0f2e7907-3cfb-44b3-846b-adc1e8b31657"
      },
      "source": [
        "print(type(3.14))\r\n",
        "print(type(str(3.140000)))"
      ],
      "execution_count": 111,
      "outputs": [
        {
          "output_type": "stream",
          "text": [
            "<class 'float'>\n",
            "<class 'str'>\n"
          ],
          "name": "stdout"
        }
      ]
    },
    {
      "cell_type": "markdown",
      "metadata": {
        "id": "BQp3rBZ7Nngr"
      },
      "source": [
        "> 2) Data Structure\r\n",
        "* List to Tuple"
      ]
    },
    {
      "cell_type": "code",
      "metadata": {
        "colab": {
          "base_uri": "https://localhost:8080/"
        },
        "id": "mVsW1BM7NmcQ",
        "outputId": "8fcd2cf2-7d07-4f23-cca3-6f4065073cc9"
      },
      "source": [
        "tuple([1,3,5,7,9])"
      ],
      "execution_count": 112,
      "outputs": [
        {
          "output_type": "execute_result",
          "data": {
            "text/plain": [
              "(1, 3, 5, 7, 9)"
            ]
          },
          "metadata": {
            "tags": []
          },
          "execution_count": 112
        }
      ]
    },
    {
      "cell_type": "markdown",
      "metadata": {
        "id": "GcEdm578Nwyy"
      },
      "source": [
        "> * Tuple to List"
      ]
    },
    {
      "cell_type": "code",
      "metadata": {
        "colab": {
          "base_uri": "https://localhost:8080/"
        },
        "id": "I8LCU6U6NvZT",
        "outputId": "db0f0679-01f8-4ffa-ae97-09da2c001278"
      },
      "source": [
        "list((1,3,5,7,9))"
      ],
      "execution_count": 113,
      "outputs": [
        {
          "output_type": "execute_result",
          "data": {
            "text/plain": [
              "[1, 3, 5, 7, 9]"
            ]
          },
          "metadata": {
            "tags": []
          },
          "execution_count": 113
        }
      ]
    },
    {
      "cell_type": "markdown",
      "metadata": {
        "id": "Z3osHOgsN2OQ"
      },
      "source": [
        "> * List to Dictionary"
      ]
    },
    {
      "cell_type": "code",
      "metadata": {
        "colab": {
          "base_uri": "https://localhost:8080/"
        },
        "id": "pjySBaz6N1Ay",
        "outputId": "b20c3ea1-74af-42bc-904f-3e6f003f303c"
      },
      "source": [
        "dict([['A',123],['B',234],['C',567]])"
      ],
      "execution_count": 114,
      "outputs": [
        {
          "output_type": "execute_result",
          "data": {
            "text/plain": [
              "{'A': 123, 'B': 234, 'C': 567}"
            ]
          },
          "metadata": {
            "tags": []
          },
          "execution_count": 114
        }
      ]
    },
    {
      "cell_type": "markdown",
      "metadata": {
        "id": "t5HnG9_iOBpk"
      },
      "source": [
        "본 내용은 2021/02/22(월) 학습내용입니다."
      ]
    }
  ]
}