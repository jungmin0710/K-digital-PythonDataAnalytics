{
  "nbformat": 4,
  "nbformat_minor": 0,
  "metadata": {
    "colab": {
      "name": "9_1 Not Excercise.ipynb",
      "provenance": [],
      "collapsed_sections": [],
      "authorship_tag": "ABX9TyONOy7+7v5lHtr8bvdGROHY",
      "include_colab_link": true
    },
    "kernelspec": {
      "name": "python3",
      "display_name": "Python 3"
    }
  },
  "cells": [
    {
      "cell_type": "markdown",
      "metadata": {
        "id": "view-in-github",
        "colab_type": "text"
      },
      "source": [
        "<a href=\"https://colab.research.google.com/github/jungmin0710/K-digital-PythonDataAnalytics/blob/main/9_1_Not_Excercise.ipynb\" target=\"_parent\"><img src=\"https://colab.research.google.com/assets/colab-badge.svg\" alt=\"Open In Colab\"/></a>"
      ]
    },
    {
      "cell_type": "markdown",
      "metadata": {
        "id": "4bFT6y1v7XtQ"
      },
      "source": [
        "#운동을 하지 않는 이유 통계 : \r\n",
        "http://data.seoul.go.kr\r\n",
        "\r\n",
        "## 0. 한글 폰트 설치 후 진행\r\n",
        "> 1) 한글 폰트 설치\r\n",
        "* 설치 후 '런타임 다시 시작'"
      ]
    },
    {
      "cell_type": "code",
      "metadata": {
        "colab": {
          "base_uri": "https://localhost:8080/"
        },
        "id": "TobL4LSC7NJG",
        "outputId": "b7801f7e-756b-495e-b3c4-64d3b9eb2d2c"
      },
      "source": [
        "!apt-get update\r\n",
        "!apt-get install -y fonts-nanum\r\n",
        "!fc-cache -fv\r\n",
        "!rm -/.cache/matplotlib -rf"
      ],
      "execution_count": 1,
      "outputs": [
        {
          "output_type": "stream",
          "text": [
            "\r0% [Working]\r            \rHit:1 http://archive.ubuntu.com/ubuntu bionic InRelease\n",
            "\r0% [Waiting for headers] [Connecting to security.ubuntu.com (91.189.91.39)] [Co\r                                                                               \rHit:2 http://archive.ubuntu.com/ubuntu bionic-updates InRelease\n",
            "\r                                                                               \rHit:3 http://ppa.launchpad.net/c2d4u.team/c2d4u4.0+/ubuntu bionic InRelease\n",
            "\r0% [Waiting for headers] [Connecting to security.ubuntu.com (91.189.91.39)] [Co\r0% [1 InRelease gpgv 242 kB] [Waiting for headers] [Connecting to security.ubun\r                                                                               \rHit:4 http://archive.ubuntu.com/ubuntu bionic-backports InRelease\n",
            "\r0% [1 InRelease gpgv 242 kB] [Connecting to security.ubuntu.com (91.189.91.39)]\r                                                                               \rHit:5 http://ppa.launchpad.net/cran/libgit2/ubuntu bionic InRelease\n",
            "\r0% [1 InRelease gpgv 242 kB] [Connecting to security.ubuntu.com (91.189.91.39)]\r                                                                               \rHit:6 https://cloud.r-project.org/bin/linux/ubuntu bionic-cran40/ InRelease\n",
            "\r0% [1 InRelease gpgv 242 kB] [Connecting to security.ubuntu.com (91.189.91.39)]\r                                                                               \rHit:7 http://ppa.launchpad.net/graphics-drivers/ppa/ubuntu bionic InRelease\n",
            "\r0% [1 InRelease gpgv 242 kB] [Connecting to security.ubuntu.com (91.189.91.39)]\r                                                                               \rHit:8 http://security.ubuntu.com/ubuntu bionic-security InRelease\n",
            "Ign:9 https://developer.download.nvidia.com/compute/cuda/repos/ubuntu1804/x86_64  InRelease\n",
            "Ign:10 https://developer.download.nvidia.com/compute/machine-learning/repos/ubuntu1804/x86_64  InRelease\n",
            "Hit:11 https://developer.download.nvidia.com/compute/cuda/repos/ubuntu1804/x86_64  Release\n",
            "Hit:12 https://developer.download.nvidia.com/compute/machine-learning/repos/ubuntu1804/x86_64  Release\n",
            "Reading package lists... Done\n",
            "Reading package lists... Done\n",
            "Building dependency tree       \n",
            "Reading state information... Done\n",
            "fonts-nanum is already the newest version (20170925-1).\n",
            "0 upgraded, 0 newly installed, 0 to remove and 31 not upgraded.\n",
            "/usr/share/fonts: caching, new cache contents: 0 fonts, 1 dirs\n",
            "/usr/share/fonts/truetype: caching, new cache contents: 0 fonts, 3 dirs\n",
            "/usr/share/fonts/truetype/humor-sans: caching, new cache contents: 1 fonts, 0 dirs\n",
            "/usr/share/fonts/truetype/liberation: caching, new cache contents: 16 fonts, 0 dirs\n",
            "/usr/share/fonts/truetype/nanum: caching, new cache contents: 10 fonts, 0 dirs\n",
            "/usr/local/share/fonts: caching, new cache contents: 0 fonts, 0 dirs\n",
            "/root/.local/share/fonts: skipping, no such directory\n",
            "/root/.fonts: skipping, no such directory\n",
            "/var/cache/fontconfig: cleaning cache directory\n",
            "/root/.cache/fontconfig: not cleaning non-existent cache directory\n",
            "/root/.fontconfig: not cleaning non-existent cache directory\n",
            "fc-cache: succeeded\n",
            "rm: invalid option -- '/'\n",
            "Try 'rm --help' for more information.\n"
          ],
          "name": "stdout"
        }
      ]
    },
    {
      "cell_type": "markdown",
      "metadata": {
        "id": "jyKQOUgq76T9"
      },
      "source": [
        "> 2) 한글 폰트 사용"
      ]
    },
    {
      "cell_type": "code",
      "metadata": {
        "id": "Xl7VMGMX7vR0"
      },
      "source": [
        "import matplotlib as mpl\r\n",
        "import matplotlib.pyplot as plt\r\n",
        "\r\n",
        "mpl.rcParams['axes.unicode_minus'] = False\r\n",
        "\r\n",
        "plt.rc('font', family = 'NanumGothic')"
      ],
      "execution_count": 2,
      "outputs": []
    },
    {
      "cell_type": "code",
      "metadata": {
        "id": "F6wJuLPbEy5F"
      },
      "source": [
        "#그래도 한글이 깨질 때\r\n",
        "#fm._rebuild() 를 해줘야 system 에 추가 설치된 폰트를 matplotilb.font_manager 가 알아차리는 것으로 보인다.\r\n",
        "\r\n",
        "import matplotlib.font_manager as fm \r\n",
        "\r\n",
        "fm._rebuild()"
      ],
      "execution_count": 3,
      "outputs": []
    },
    {
      "cell_type": "markdown",
      "metadata": {
        "id": "BJRSyK5f8PPA"
      },
      "source": [
        "## 1. Data Preprocessing"
      ]
    },
    {
      "cell_type": "code",
      "metadata": {
        "id": "hio_YU2P8MLU"
      },
      "source": [
        "import warnings\r\n",
        "warnings.filterwarnings('ignore')"
      ],
      "execution_count": 4,
      "outputs": []
    },
    {
      "cell_type": "markdown",
      "metadata": {
        "id": "XzU4nOei8XXE"
      },
      "source": [
        "> 1) Colab 파일 업로드\r\n",
        "* notExercise.xls"
      ]
    },
    {
      "cell_type": "code",
      "metadata": {
        "colab": {
          "base_uri": "https://localhost:8080/"
        },
        "id": "cfPfEbMH8Ufm",
        "outputId": "edd9e933-15d8-432d-d9cd-31108cc34970"
      },
      "source": [
        "!ls -l"
      ],
      "execution_count": 5,
      "outputs": [
        {
          "output_type": "stream",
          "text": [
            "total 20\n",
            "-rw-r--r-- 1 root root 16384 Feb 23 08:12 notExercise.xls\n",
            "drwxr-xr-x 1 root root  4096 Feb 16 16:35 sample_data\n"
          ],
          "name": "stdout"
        }
      ]
    },
    {
      "cell_type": "markdown",
      "metadata": {
        "id": "Gqtgw_qo8jkP"
      },
      "source": [
        "> 2) xls 파일 읽어오기"
      ]
    },
    {
      "cell_type": "code",
      "metadata": {
        "id": "hXHb8Ul68hhr"
      },
      "source": [
        "import pandas as pd"
      ],
      "execution_count": 6,
      "outputs": []
    },
    {
      "cell_type": "code",
      "metadata": {
        "colab": {
          "base_uri": "https://localhost:8080/",
          "height": 363
        },
        "id": "NLmslpKw8meU",
        "outputId": "c7ad2ac1-93cf-45f0-888c-5433efa8b053"
      },
      "source": [
        "DF = pd.read_excel('notExercise.xls')\r\n",
        "\r\n",
        "DF.head()"
      ],
      "execution_count": 7,
      "outputs": [
        {
          "output_type": "execute_result",
          "data": {
            "text/html": [
              "<div>\n",
              "<style scoped>\n",
              "    .dataframe tbody tr th:only-of-type {\n",
              "        vertical-align: middle;\n",
              "    }\n",
              "\n",
              "    .dataframe tbody tr th {\n",
              "        vertical-align: top;\n",
              "    }\n",
              "\n",
              "    .dataframe thead th {\n",
              "        text-align: right;\n",
              "    }\n",
              "</style>\n",
              "<table border=\"1\" class=\"dataframe\">\n",
              "  <thead>\n",
              "    <tr style=\"text-align: right;\">\n",
              "      <th></th>\n",
              "      <th>기간</th>\n",
              "      <th>대분류</th>\n",
              "      <th>분류</th>\n",
              "      <th>운동을 할 충분한 시간이 없어서</th>\n",
              "      <th>함께 운동을 할 사람이 없어서</th>\n",
              "      <th>운동을 할 만한 장소가 없어서</th>\n",
              "      <th>운동을 싫어해서</th>\n",
              "      <th>기타</th>\n",
              "    </tr>\n",
              "  </thead>\n",
              "  <tbody>\n",
              "    <tr>\n",
              "      <th>0</th>\n",
              "      <td>2017</td>\n",
              "      <td>서울시</td>\n",
              "      <td>서울시</td>\n",
              "      <td>49.7</td>\n",
              "      <td>8.1</td>\n",
              "      <td>5.8</td>\n",
              "      <td>34.7</td>\n",
              "      <td>1.7</td>\n",
              "    </tr>\n",
              "    <tr>\n",
              "      <th>1</th>\n",
              "      <td>2017</td>\n",
              "      <td>성별</td>\n",
              "      <td>남자</td>\n",
              "      <td>55.2</td>\n",
              "      <td>7.9</td>\n",
              "      <td>5.5</td>\n",
              "      <td>29.8</td>\n",
              "      <td>1.6</td>\n",
              "    </tr>\n",
              "    <tr>\n",
              "      <th>2</th>\n",
              "      <td>2017</td>\n",
              "      <td>성별</td>\n",
              "      <td>여자</td>\n",
              "      <td>45.0</td>\n",
              "      <td>8.3</td>\n",
              "      <td>6.0</td>\n",
              "      <td>38.8</td>\n",
              "      <td>1.8</td>\n",
              "    </tr>\n",
              "    <tr>\n",
              "      <th>3</th>\n",
              "      <td>2017</td>\n",
              "      <td>연령별</td>\n",
              "      <td>10대</td>\n",
              "      <td>55.7</td>\n",
              "      <td>6.1</td>\n",
              "      <td>5.6</td>\n",
              "      <td>32.2</td>\n",
              "      <td>0.3</td>\n",
              "    </tr>\n",
              "    <tr>\n",
              "      <th>4</th>\n",
              "      <td>2017</td>\n",
              "      <td>연령별</td>\n",
              "      <td>20대</td>\n",
              "      <td>54.8</td>\n",
              "      <td>6.9</td>\n",
              "      <td>5.2</td>\n",
              "      <td>32.9</td>\n",
              "      <td>0.1</td>\n",
              "    </tr>\n",
              "  </tbody>\n",
              "</table>\n",
              "</div>"
            ],
            "text/plain": [
              "     기간  대분류   분류  ...  운동을 할 만한 장소가 없어서 운동을 싫어해서   기타\n",
              "0  2017  서울시  서울시  ...               5.8     34.7  1.7\n",
              "1  2017   성별   남자  ...               5.5     29.8  1.6\n",
              "2  2017   성별   여자  ...               6.0     38.8  1.8\n",
              "3  2017  연령별  10대  ...               5.6     32.2  0.3\n",
              "4  2017  연령별  20대  ...               5.2     32.9  0.1\n",
              "\n",
              "[5 rows x 8 columns]"
            ]
          },
          "metadata": {
            "tags": []
          },
          "execution_count": 7
        }
      ]
    },
    {
      "cell_type": "markdown",
      "metadata": {
        "id": "pnDS3QjX8xZf"
      },
      "source": [
        "> 3) '기간' 열(Column) 삭제"
      ]
    },
    {
      "cell_type": "code",
      "metadata": {
        "colab": {
          "base_uri": "https://localhost:8080/",
          "height": 396
        },
        "id": "maQTbBW08sXi",
        "outputId": "73511cd2-a741-4a7a-8bdc-411cf6a07a67"
      },
      "source": [
        "DF.drop(columns = '기간', inplace = True)\r\n",
        "\r\n",
        "DF.tail()"
      ],
      "execution_count": 8,
      "outputs": [
        {
          "output_type": "execute_result",
          "data": {
            "text/html": [
              "<div>\n",
              "<style scoped>\n",
              "    .dataframe tbody tr th:only-of-type {\n",
              "        vertical-align: middle;\n",
              "    }\n",
              "\n",
              "    .dataframe tbody tr th {\n",
              "        vertical-align: top;\n",
              "    }\n",
              "\n",
              "    .dataframe thead th {\n",
              "        text-align: right;\n",
              "    }\n",
              "</style>\n",
              "<table border=\"1\" class=\"dataframe\">\n",
              "  <thead>\n",
              "    <tr style=\"text-align: right;\">\n",
              "      <th></th>\n",
              "      <th>대분류</th>\n",
              "      <th>분류</th>\n",
              "      <th>운동을 할 충분한 시간이 없어서</th>\n",
              "      <th>함께 운동을 할 사람이 없어서</th>\n",
              "      <th>운동을 할 만한 장소가 없어서</th>\n",
              "      <th>운동을 싫어해서</th>\n",
              "      <th>기타</th>\n",
              "    </tr>\n",
              "  </thead>\n",
              "  <tbody>\n",
              "    <tr>\n",
              "      <th>48</th>\n",
              "      <td>관악구</td>\n",
              "      <td>관악구</td>\n",
              "      <td>50.7</td>\n",
              "      <td>7.1</td>\n",
              "      <td>6.9</td>\n",
              "      <td>33.6</td>\n",
              "      <td>1.7</td>\n",
              "    </tr>\n",
              "    <tr>\n",
              "      <th>49</th>\n",
              "      <td>서초구</td>\n",
              "      <td>서초구</td>\n",
              "      <td>59.8</td>\n",
              "      <td>3.4</td>\n",
              "      <td>3.2</td>\n",
              "      <td>32.0</td>\n",
              "      <td>1.5</td>\n",
              "    </tr>\n",
              "    <tr>\n",
              "      <th>50</th>\n",
              "      <td>강남구</td>\n",
              "      <td>강남구</td>\n",
              "      <td>59.1</td>\n",
              "      <td>5.5</td>\n",
              "      <td>2.6</td>\n",
              "      <td>31.5</td>\n",
              "      <td>1.3</td>\n",
              "    </tr>\n",
              "    <tr>\n",
              "      <th>51</th>\n",
              "      <td>송파구</td>\n",
              "      <td>송파구</td>\n",
              "      <td>42.6</td>\n",
              "      <td>7.2</td>\n",
              "      <td>5.8</td>\n",
              "      <td>44.3</td>\n",
              "      <td>0.1</td>\n",
              "    </tr>\n",
              "    <tr>\n",
              "      <th>52</th>\n",
              "      <td>강동구</td>\n",
              "      <td>강동구</td>\n",
              "      <td>53.1</td>\n",
              "      <td>9.6</td>\n",
              "      <td>6.8</td>\n",
              "      <td>30.4</td>\n",
              "      <td>0.1</td>\n",
              "    </tr>\n",
              "  </tbody>\n",
              "</table>\n",
              "</div>"
            ],
            "text/plain": [
              "    대분류   분류  운동을 할 충분한 시간이 없어서  ... 운동을 할 만한 장소가 없어서  운동을 싫어해서   기타\n",
              "48  관악구  관악구               50.7  ...              6.9      33.6  1.7\n",
              "49  서초구  서초구               59.8  ...              3.2      32.0  1.5\n",
              "50  강남구  강남구               59.1  ...              2.6      31.5  1.3\n",
              "51  송파구  송파구               42.6  ...              5.8      44.3  0.1\n",
              "52  강동구  강동구               53.1  ...              6.8      30.4  0.1\n",
              "\n",
              "[5 rows x 7 columns]"
            ]
          },
          "metadata": {
            "tags": []
          },
          "execution_count": 8
        }
      ]
    },
    {
      "cell_type": "markdown",
      "metadata": {
        "id": "-POrNfNL88Rw"
      },
      "source": [
        "> 4) 23~52번(지역분류) index 삭제\r\n",
        "* 23~52 '대분류' 정보 확인"
      ]
    },
    {
      "cell_type": "code",
      "metadata": {
        "colab": {
          "base_uri": "https://localhost:8080/"
        },
        "id": "FoPWhQ4c85vC",
        "outputId": "d88ea594-5625-4bb8-826f-33f2798d429e"
      },
      "source": [
        "DF['대분류'][23:]"
      ],
      "execution_count": 9,
      "outputs": [
        {
          "output_type": "execute_result",
          "data": {
            "text/plain": [
              "23    지역대분류\n",
              "24    지역대분류\n",
              "25    지역대분류\n",
              "26    지역대분류\n",
              "27    지역대분류\n",
              "28      종로구\n",
              "29       중구\n",
              "30      용산구\n",
              "31      성동구\n",
              "32      광진구\n",
              "33     동대문구\n",
              "34      중랑구\n",
              "35      성북구\n",
              "36      강북구\n",
              "37      도봉구\n",
              "38      노원구\n",
              "39      은평구\n",
              "40     서대문구\n",
              "41      마포구\n",
              "42      양천구\n",
              "43      강서구\n",
              "44      구로구\n",
              "45      금천구\n",
              "46     영등포구\n",
              "47      동작구\n",
              "48      관악구\n",
              "49      서초구\n",
              "50      강남구\n",
              "51      송파구\n",
              "52      강동구\n",
              "Name: 대분류, dtype: object"
            ]
          },
          "metadata": {
            "tags": []
          },
          "execution_count": 9
        }
      ]
    },
    {
      "cell_type": "markdown",
      "metadata": {
        "id": "tDpzvVFP9Ktw"
      },
      "source": [
        "> * 23~52 행(Row) 삭제"
      ]
    },
    {
      "cell_type": "code",
      "metadata": {
        "colab": {
          "base_uri": "https://localhost:8080/",
          "height": 1000
        },
        "id": "Bhht4fbx9E8I",
        "outputId": "d63df605-6cea-4f04-a686-3caba3f33a59"
      },
      "source": [
        "DF.drop(index = range(23, 53), inplace = True)\r\n",
        "\r\n",
        "DF"
      ],
      "execution_count": 10,
      "outputs": [
        {
          "output_type": "execute_result",
          "data": {
            "text/html": [
              "<div>\n",
              "<style scoped>\n",
              "    .dataframe tbody tr th:only-of-type {\n",
              "        vertical-align: middle;\n",
              "    }\n",
              "\n",
              "    .dataframe tbody tr th {\n",
              "        vertical-align: top;\n",
              "    }\n",
              "\n",
              "    .dataframe thead th {\n",
              "        text-align: right;\n",
              "    }\n",
              "</style>\n",
              "<table border=\"1\" class=\"dataframe\">\n",
              "  <thead>\n",
              "    <tr style=\"text-align: right;\">\n",
              "      <th></th>\n",
              "      <th>대분류</th>\n",
              "      <th>분류</th>\n",
              "      <th>운동을 할 충분한 시간이 없어서</th>\n",
              "      <th>함께 운동을 할 사람이 없어서</th>\n",
              "      <th>운동을 할 만한 장소가 없어서</th>\n",
              "      <th>운동을 싫어해서</th>\n",
              "      <th>기타</th>\n",
              "    </tr>\n",
              "  </thead>\n",
              "  <tbody>\n",
              "    <tr>\n",
              "      <th>0</th>\n",
              "      <td>서울시</td>\n",
              "      <td>서울시</td>\n",
              "      <td>49.7</td>\n",
              "      <td>8.1</td>\n",
              "      <td>5.8</td>\n",
              "      <td>34.7</td>\n",
              "      <td>1.7</td>\n",
              "    </tr>\n",
              "    <tr>\n",
              "      <th>1</th>\n",
              "      <td>성별</td>\n",
              "      <td>남자</td>\n",
              "      <td>55.2</td>\n",
              "      <td>7.9</td>\n",
              "      <td>5.5</td>\n",
              "      <td>29.8</td>\n",
              "      <td>1.6</td>\n",
              "    </tr>\n",
              "    <tr>\n",
              "      <th>2</th>\n",
              "      <td>성별</td>\n",
              "      <td>여자</td>\n",
              "      <td>45.0</td>\n",
              "      <td>8.3</td>\n",
              "      <td>6.0</td>\n",
              "      <td>38.8</td>\n",
              "      <td>1.8</td>\n",
              "    </tr>\n",
              "    <tr>\n",
              "      <th>3</th>\n",
              "      <td>연령별</td>\n",
              "      <td>10대</td>\n",
              "      <td>55.7</td>\n",
              "      <td>6.1</td>\n",
              "      <td>5.6</td>\n",
              "      <td>32.2</td>\n",
              "      <td>0.3</td>\n",
              "    </tr>\n",
              "    <tr>\n",
              "      <th>4</th>\n",
              "      <td>연령별</td>\n",
              "      <td>20대</td>\n",
              "      <td>54.8</td>\n",
              "      <td>6.9</td>\n",
              "      <td>5.2</td>\n",
              "      <td>32.9</td>\n",
              "      <td>0.1</td>\n",
              "    </tr>\n",
              "    <tr>\n",
              "      <th>5</th>\n",
              "      <td>연령별</td>\n",
              "      <td>30대</td>\n",
              "      <td>58.1</td>\n",
              "      <td>5.5</td>\n",
              "      <td>4.6</td>\n",
              "      <td>31.6</td>\n",
              "      <td>0.2</td>\n",
              "    </tr>\n",
              "    <tr>\n",
              "      <th>6</th>\n",
              "      <td>연령별</td>\n",
              "      <td>40대</td>\n",
              "      <td>57.7</td>\n",
              "      <td>6.8</td>\n",
              "      <td>5.2</td>\n",
              "      <td>29.4</td>\n",
              "      <td>1</td>\n",
              "    </tr>\n",
              "    <tr>\n",
              "      <th>7</th>\n",
              "      <td>연령별</td>\n",
              "      <td>50대</td>\n",
              "      <td>50.1</td>\n",
              "      <td>9.2</td>\n",
              "      <td>7.2</td>\n",
              "      <td>32.2</td>\n",
              "      <td>1.4</td>\n",
              "    </tr>\n",
              "    <tr>\n",
              "      <th>8</th>\n",
              "      <td>연령별</td>\n",
              "      <td>60대 이상</td>\n",
              "      <td>27.5</td>\n",
              "      <td>12.8</td>\n",
              "      <td>6.9</td>\n",
              "      <td>46.8</td>\n",
              "      <td>6</td>\n",
              "    </tr>\n",
              "    <tr>\n",
              "      <th>9</th>\n",
              "      <td>학력별</td>\n",
              "      <td>중졸 이하</td>\n",
              "      <td>26.1</td>\n",
              "      <td>13.7</td>\n",
              "      <td>6.6</td>\n",
              "      <td>46.2</td>\n",
              "      <td>7.4</td>\n",
              "    </tr>\n",
              "    <tr>\n",
              "      <th>10</th>\n",
              "      <td>학력별</td>\n",
              "      <td>고졸 이하</td>\n",
              "      <td>46.3</td>\n",
              "      <td>8.5</td>\n",
              "      <td>6.9</td>\n",
              "      <td>36.5</td>\n",
              "      <td>1.7</td>\n",
              "    </tr>\n",
              "    <tr>\n",
              "      <th>11</th>\n",
              "      <td>학력별</td>\n",
              "      <td>대졸 이하</td>\n",
              "      <td>57.4</td>\n",
              "      <td>6.6</td>\n",
              "      <td>4.9</td>\n",
              "      <td>30.7</td>\n",
              "      <td>0.4</td>\n",
              "    </tr>\n",
              "    <tr>\n",
              "      <th>12</th>\n",
              "      <td>학력별</td>\n",
              "      <td>대학원 이상</td>\n",
              "      <td>65.3</td>\n",
              "      <td>3.8</td>\n",
              "      <td>0.6</td>\n",
              "      <td>29.6</td>\n",
              "      <td>0.6</td>\n",
              "    </tr>\n",
              "    <tr>\n",
              "      <th>13</th>\n",
              "      <td>소득별</td>\n",
              "      <td>100만원 미만</td>\n",
              "      <td>22.7</td>\n",
              "      <td>10.3</td>\n",
              "      <td>3.6</td>\n",
              "      <td>50.7</td>\n",
              "      <td>12.7</td>\n",
              "    </tr>\n",
              "    <tr>\n",
              "      <th>14</th>\n",
              "      <td>소득별</td>\n",
              "      <td>100-200만원 미만</td>\n",
              "      <td>34.3</td>\n",
              "      <td>11.5</td>\n",
              "      <td>7.1</td>\n",
              "      <td>41.5</td>\n",
              "      <td>5.6</td>\n",
              "    </tr>\n",
              "    <tr>\n",
              "      <th>15</th>\n",
              "      <td>소득별</td>\n",
              "      <td>200-300만원 미만</td>\n",
              "      <td>48.8</td>\n",
              "      <td>12.3</td>\n",
              "      <td>6.8</td>\n",
              "      <td>30.7</td>\n",
              "      <td>1.4</td>\n",
              "    </tr>\n",
              "    <tr>\n",
              "      <th>16</th>\n",
              "      <td>소득별</td>\n",
              "      <td>300-400만원 미만</td>\n",
              "      <td>54.9</td>\n",
              "      <td>7.1</td>\n",
              "      <td>6.5</td>\n",
              "      <td>31.2</td>\n",
              "      <td>0.3</td>\n",
              "    </tr>\n",
              "    <tr>\n",
              "      <th>17</th>\n",
              "      <td>소득별</td>\n",
              "      <td>400-500만원 미만</td>\n",
              "      <td>56.1</td>\n",
              "      <td>5</td>\n",
              "      <td>5.3</td>\n",
              "      <td>33.0</td>\n",
              "      <td>0.6</td>\n",
              "    </tr>\n",
              "    <tr>\n",
              "      <th>18</th>\n",
              "      <td>소득별</td>\n",
              "      <td>500만원 이상</td>\n",
              "      <td>52.3</td>\n",
              "      <td>7.1</td>\n",
              "      <td>5.1</td>\n",
              "      <td>34.9</td>\n",
              "      <td>0.6</td>\n",
              "    </tr>\n",
              "    <tr>\n",
              "      <th>19</th>\n",
              "      <td>혼인상태별</td>\n",
              "      <td>기혼</td>\n",
              "      <td>50.7</td>\n",
              "      <td>7.8</td>\n",
              "      <td>5.4</td>\n",
              "      <td>34.9</td>\n",
              "      <td>1.2</td>\n",
              "    </tr>\n",
              "    <tr>\n",
              "      <th>20</th>\n",
              "      <td>혼인상태별</td>\n",
              "      <td>미혼</td>\n",
              "      <td>54.3</td>\n",
              "      <td>7.1</td>\n",
              "      <td>5.4</td>\n",
              "      <td>32.2</td>\n",
              "      <td>1</td>\n",
              "    </tr>\n",
              "    <tr>\n",
              "      <th>21</th>\n",
              "      <td>혼인상태별</td>\n",
              "      <td>이혼/별거</td>\n",
              "      <td>47.4</td>\n",
              "      <td>8.3</td>\n",
              "      <td>6.8</td>\n",
              "      <td>34.9</td>\n",
              "      <td>2.7</td>\n",
              "    </tr>\n",
              "    <tr>\n",
              "      <th>22</th>\n",
              "      <td>혼인상태별</td>\n",
              "      <td>사별</td>\n",
              "      <td>25.2</td>\n",
              "      <td>14.9</td>\n",
              "      <td>8.9</td>\n",
              "      <td>42.9</td>\n",
              "      <td>8</td>\n",
              "    </tr>\n",
              "  </tbody>\n",
              "</table>\n",
              "</div>"
            ],
            "text/plain": [
              "      대분류            분류  운동을 할 충분한 시간이 없어서  ... 운동을 할 만한 장소가 없어서  운동을 싫어해서    기타\n",
              "0     서울시           서울시               49.7  ...              5.8      34.7   1.7\n",
              "1      성별            남자               55.2  ...              5.5      29.8   1.6\n",
              "2      성별            여자               45.0  ...              6.0      38.8   1.8\n",
              "3     연령별           10대               55.7  ...              5.6      32.2   0.3\n",
              "4     연령별           20대               54.8  ...              5.2      32.9   0.1\n",
              "5     연령별           30대               58.1  ...              4.6      31.6   0.2\n",
              "6     연령별           40대               57.7  ...              5.2      29.4     1\n",
              "7     연령별           50대               50.1  ...              7.2      32.2   1.4\n",
              "8     연령별        60대 이상               27.5  ...              6.9      46.8     6\n",
              "9     학력별         중졸 이하               26.1  ...              6.6      46.2   7.4\n",
              "10    학력별         고졸 이하               46.3  ...              6.9      36.5   1.7\n",
              "11    학력별         대졸 이하               57.4  ...              4.9      30.7   0.4\n",
              "12    학력별        대학원 이상               65.3  ...              0.6      29.6   0.6\n",
              "13    소득별      100만원 미만               22.7  ...              3.6      50.7  12.7\n",
              "14    소득별  100-200만원 미만               34.3  ...              7.1      41.5   5.6\n",
              "15    소득별  200-300만원 미만               48.8  ...              6.8      30.7   1.4\n",
              "16    소득별  300-400만원 미만               54.9  ...              6.5      31.2   0.3\n",
              "17    소득별  400-500만원 미만               56.1  ...              5.3      33.0   0.6\n",
              "18    소득별      500만원 이상               52.3  ...              5.1      34.9   0.6\n",
              "19  혼인상태별            기혼               50.7  ...              5.4      34.9   1.2\n",
              "20  혼인상태별            미혼               54.3  ...              5.4      32.2     1\n",
              "21  혼인상태별         이혼/별거               47.4  ...              6.8      34.9   2.7\n",
              "22  혼인상태별            사별               25.2  ...              8.9      42.9     8\n",
              "\n",
              "[23 rows x 7 columns]"
            ]
          },
          "metadata": {
            "tags": []
          },
          "execution_count": 10
        }
      ]
    },
    {
      "cell_type": "markdown",
      "metadata": {
        "id": "Pjy4qPq99VUx"
      },
      "source": [
        "## 2. '성별' 통계\r\n",
        "> 1) '성별' 데이터 추출"
      ]
    },
    {
      "cell_type": "code",
      "metadata": {
        "colab": {
          "base_uri": "https://localhost:8080/",
          "height": 173
        },
        "id": "Nny2F9dX9QuV",
        "outputId": "6decb682-af25-4e52-cf45-3113e35eced3"
      },
      "source": [
        "DF_G = DF[DF['대분류'] == '성별'].copy()\r\n",
        "\r\n",
        "DF_G"
      ],
      "execution_count": 11,
      "outputs": [
        {
          "output_type": "execute_result",
          "data": {
            "text/html": [
              "<div>\n",
              "<style scoped>\n",
              "    .dataframe tbody tr th:only-of-type {\n",
              "        vertical-align: middle;\n",
              "    }\n",
              "\n",
              "    .dataframe tbody tr th {\n",
              "        vertical-align: top;\n",
              "    }\n",
              "\n",
              "    .dataframe thead th {\n",
              "        text-align: right;\n",
              "    }\n",
              "</style>\n",
              "<table border=\"1\" class=\"dataframe\">\n",
              "  <thead>\n",
              "    <tr style=\"text-align: right;\">\n",
              "      <th></th>\n",
              "      <th>대분류</th>\n",
              "      <th>분류</th>\n",
              "      <th>운동을 할 충분한 시간이 없어서</th>\n",
              "      <th>함께 운동을 할 사람이 없어서</th>\n",
              "      <th>운동을 할 만한 장소가 없어서</th>\n",
              "      <th>운동을 싫어해서</th>\n",
              "      <th>기타</th>\n",
              "    </tr>\n",
              "  </thead>\n",
              "  <tbody>\n",
              "    <tr>\n",
              "      <th>1</th>\n",
              "      <td>성별</td>\n",
              "      <td>남자</td>\n",
              "      <td>55.2</td>\n",
              "      <td>7.9</td>\n",
              "      <td>5.5</td>\n",
              "      <td>29.8</td>\n",
              "      <td>1.6</td>\n",
              "    </tr>\n",
              "    <tr>\n",
              "      <th>2</th>\n",
              "      <td>성별</td>\n",
              "      <td>여자</td>\n",
              "      <td>45.0</td>\n",
              "      <td>8.3</td>\n",
              "      <td>6.0</td>\n",
              "      <td>38.8</td>\n",
              "      <td>1.8</td>\n",
              "    </tr>\n",
              "  </tbody>\n",
              "</table>\n",
              "</div>"
            ],
            "text/plain": [
              "  대분류  분류  운동을 할 충분한 시간이 없어서 함께 운동을 할 사람이 없어서  운동을 할 만한 장소가 없어서  운동을 싫어해서   기타\n",
              "1  성별  남자               55.2              7.9               5.5      29.8  1.6\n",
              "2  성별  여자               45.0              8.3               6.0      38.8  1.8"
            ]
          },
          "metadata": {
            "tags": []
          },
          "execution_count": 11
        }
      ]
    },
    {
      "cell_type": "markdown",
      "metadata": {
        "id": "uEBSFcMB9kUm"
      },
      "source": [
        "> 2) '대분류' 열(Column) 삭제"
      ]
    },
    {
      "cell_type": "code",
      "metadata": {
        "colab": {
          "base_uri": "https://localhost:8080/",
          "height": 156
        },
        "id": "y8b0Wy9A9hAD",
        "outputId": "b0d354d5-31b7-4b4d-8787-0a2992b6d077"
      },
      "source": [
        "DF_G.drop(columns = '대분류', inplace = True)\r\n",
        "\r\n",
        "DF_G"
      ],
      "execution_count": 12,
      "outputs": [
        {
          "output_type": "execute_result",
          "data": {
            "text/html": [
              "<div>\n",
              "<style scoped>\n",
              "    .dataframe tbody tr th:only-of-type {\n",
              "        vertical-align: middle;\n",
              "    }\n",
              "\n",
              "    .dataframe tbody tr th {\n",
              "        vertical-align: top;\n",
              "    }\n",
              "\n",
              "    .dataframe thead th {\n",
              "        text-align: right;\n",
              "    }\n",
              "</style>\n",
              "<table border=\"1\" class=\"dataframe\">\n",
              "  <thead>\n",
              "    <tr style=\"text-align: right;\">\n",
              "      <th></th>\n",
              "      <th>분류</th>\n",
              "      <th>운동을 할 충분한 시간이 없어서</th>\n",
              "      <th>함께 운동을 할 사람이 없어서</th>\n",
              "      <th>운동을 할 만한 장소가 없어서</th>\n",
              "      <th>운동을 싫어해서</th>\n",
              "      <th>기타</th>\n",
              "    </tr>\n",
              "  </thead>\n",
              "  <tbody>\n",
              "    <tr>\n",
              "      <th>1</th>\n",
              "      <td>남자</td>\n",
              "      <td>55.2</td>\n",
              "      <td>7.9</td>\n",
              "      <td>5.5</td>\n",
              "      <td>29.8</td>\n",
              "      <td>1.6</td>\n",
              "    </tr>\n",
              "    <tr>\n",
              "      <th>2</th>\n",
              "      <td>여자</td>\n",
              "      <td>45.0</td>\n",
              "      <td>8.3</td>\n",
              "      <td>6.0</td>\n",
              "      <td>38.8</td>\n",
              "      <td>1.8</td>\n",
              "    </tr>\n",
              "  </tbody>\n",
              "</table>\n",
              "</div>"
            ],
            "text/plain": [
              "   분류  운동을 할 충분한 시간이 없어서 함께 운동을 할 사람이 없어서  운동을 할 만한 장소가 없어서  운동을 싫어해서   기타\n",
              "1  남자               55.2              7.9               5.5      29.8  1.6\n",
              "2  여자               45.0              8.3               6.0      38.8  1.8"
            ]
          },
          "metadata": {
            "tags": []
          },
          "execution_count": 12
        }
      ]
    },
    {
      "cell_type": "markdown",
      "metadata": {
        "id": "WVpGGX9d9uRb"
      },
      "source": [
        "> 3) '분류'를 index로 지정"
      ]
    },
    {
      "cell_type": "code",
      "metadata": {
        "colab": {
          "base_uri": "https://localhost:8080/",
          "height": 203
        },
        "id": "4QGO_xbY9sRP",
        "outputId": "70cba9d7-73ff-4522-a484-d938b7fd6615"
      },
      "source": [
        "DF_G.set_index('분류', inplace = True)\r\n",
        "\r\n",
        "DF_G"
      ],
      "execution_count": 13,
      "outputs": [
        {
          "output_type": "execute_result",
          "data": {
            "text/html": [
              "<div>\n",
              "<style scoped>\n",
              "    .dataframe tbody tr th:only-of-type {\n",
              "        vertical-align: middle;\n",
              "    }\n",
              "\n",
              "    .dataframe tbody tr th {\n",
              "        vertical-align: top;\n",
              "    }\n",
              "\n",
              "    .dataframe thead th {\n",
              "        text-align: right;\n",
              "    }\n",
              "</style>\n",
              "<table border=\"1\" class=\"dataframe\">\n",
              "  <thead>\n",
              "    <tr style=\"text-align: right;\">\n",
              "      <th></th>\n",
              "      <th>운동을 할 충분한 시간이 없어서</th>\n",
              "      <th>함께 운동을 할 사람이 없어서</th>\n",
              "      <th>운동을 할 만한 장소가 없어서</th>\n",
              "      <th>운동을 싫어해서</th>\n",
              "      <th>기타</th>\n",
              "    </tr>\n",
              "    <tr>\n",
              "      <th>분류</th>\n",
              "      <th></th>\n",
              "      <th></th>\n",
              "      <th></th>\n",
              "      <th></th>\n",
              "      <th></th>\n",
              "    </tr>\n",
              "  </thead>\n",
              "  <tbody>\n",
              "    <tr>\n",
              "      <th>남자</th>\n",
              "      <td>55.2</td>\n",
              "      <td>7.9</td>\n",
              "      <td>5.5</td>\n",
              "      <td>29.8</td>\n",
              "      <td>1.6</td>\n",
              "    </tr>\n",
              "    <tr>\n",
              "      <th>여자</th>\n",
              "      <td>45.0</td>\n",
              "      <td>8.3</td>\n",
              "      <td>6.0</td>\n",
              "      <td>38.8</td>\n",
              "      <td>1.8</td>\n",
              "    </tr>\n",
              "  </tbody>\n",
              "</table>\n",
              "</div>"
            ],
            "text/plain": [
              "    운동을 할 충분한 시간이 없어서 함께 운동을 할 사람이 없어서  운동을 할 만한 장소가 없어서  운동을 싫어해서   기타\n",
              "분류                                                                     \n",
              "남자               55.2              7.9               5.5      29.8  1.6\n",
              "여자               45.0              8.3               6.0      38.8  1.8"
            ]
          },
          "metadata": {
            "tags": []
          },
          "execution_count": 13
        }
      ]
    },
    {
      "cell_type": "markdown",
      "metadata": {
        "id": "9MQTWNHc94FM"
      },
      "source": [
        "> 4) matplotlib 시각화"
      ]
    },
    {
      "cell_type": "code",
      "metadata": {
        "id": "ZwtUX1m091mg"
      },
      "source": [
        "import matplotlib.pyplot as plt"
      ],
      "execution_count": 14,
      "outputs": []
    },
    {
      "cell_type": "code",
      "metadata": {
        "colab": {
          "base_uri": "https://localhost:8080/",
          "height": 197
        },
        "id": "LBCKKPG5976C",
        "outputId": "42d181ee-981a-4984-893d-30a9bf8805cc"
      },
      "source": [
        "figure, ax = plt.subplots(1, 4, figsize = (16,8))\r\n",
        "\r\n",
        "DF_G['운동을 할 충분한 시간이 없어서'].plot.pie(explode = [0, 0.02],\r\n",
        "                                   ax = ax[0],\r\n",
        "                                   autopct = '%1.1f%%')\r\n",
        "\r\n",
        "ax[0].set_title('운동을 할 충분한 시간이 없어서')\r\n",
        "ax[0].set_ylabel('')\r\n",
        "\r\n",
        "DF_G['함께 운동을 할 사람이 없어서'].plot.pie(explode = [0, 0.02],\r\n",
        "                                  ax = ax[1],\r\n",
        "                                  autopct = '%1.1f%%')\r\n",
        "ax[1].set_title('함께 운동을 할 사람이 없어서')\r\n",
        "ax[1].set_ylabel('')\r\n",
        "\r\n",
        "DF_G['운동을 싫어해서'].plot.pie(explode = [0, 0.02],\r\n",
        "                                  ax = ax[2],\r\n",
        "                                  autopct = '%1.1f%%')\r\n",
        "ax[2].set_title('운동을 싫어해서')\r\n",
        "ax[2].set_ylabel('')\r\n",
        "\r\n",
        "DF_G['운동을 할 만한 장소가 없어서'].plot.pie(explode = [0, 0.02],\r\n",
        "                                  ax = ax[3],\r\n",
        "                                  autopct = '%1.1f%%')\r\n",
        "ax[3].set_title('운동을 할 만한 장소가 없어서')\r\n",
        "ax[3].set_ylabel('')\r\n",
        "\r\n",
        "plt.show()"
      ],
      "execution_count": 15,
      "outputs": [
        {
          "output_type": "display_data",
          "data": {
            "image/png": "[encoded data removed]",
            "text/plain": [
              "<Figure size 1152x576 with 4 Axes>"
            ]
          },
          "metadata": {
            "tags": []
          }
        }
      ]
    },
    {
      "cell_type": "code",
      "metadata": {
        "colab": {
          "base_uri": "https://localhost:8080/",
          "height": 590
        },
        "id": "jkFXRWDS-44B",
        "outputId": "16eb124c-8e4b-4e76-a2e1-21f7ae26dbcd"
      },
      "source": [
        "#2 * 2형태로! [x, x] or [x][x]\r\n",
        "\r\n",
        "figure, ax = plt.subplots(2, 2, figsize = (10,10))\r\n",
        "\r\n",
        "DF_G['운동을 할 충분한 시간이 없어서'].plot.pie(explode = [0, 0.02],\r\n",
        "                                   ax = ax[0][0],\r\n",
        "                                   autopct = '%1.1f%%')\r\n",
        "\r\n",
        "ax[0][0].set_title('운동을 할 충분한 시간이 없어서')\r\n",
        "ax[0][0].set_ylabel('')\r\n",
        "\r\n",
        "DF_G['함께 운동을 할 사람이 없어서'].plot.pie(explode = [0, 0.02],\r\n",
        "                                  ax = ax[0][1],\r\n",
        "                                  autopct = '%1.1f%%')\r\n",
        "ax[0][1].set_title('함께 운동을 할 사람이 없어서')\r\n",
        "ax[0][1].set_ylabel('')\r\n",
        "\r\n",
        "DF_G['운동을 싫어해서'].plot.pie(explode = [0, 0.02],\r\n",
        "                                  ax = ax[1][0],\r\n",
        "                                  autopct = '%1.1f%%')\r\n",
        "ax[1][0].set_title('운동을 싫어해서')\r\n",
        "ax[1][0].set_ylabel('')\r\n",
        "\r\n",
        "DF_G['운동을 할 만한 장소가 없어서'].plot.pie(explode = [0, 0.02],\r\n",
        "                                  ax = ax[1][1],\r\n",
        "                                  autopct = '%1.1f%%')\r\n",
        "ax[1][1].set_title('운동을 할 만한 장소가 없어서')\r\n",
        "ax[1][1].set_ylabel('')\r\n",
        "\r\n",
        "plt.show()"
      ],
      "execution_count": 16,
      "outputs": [
        {
          "output_type": "display_data",
          "data": {
            "image/png": "[encoded data removed]",
            "text/plain": [
              "<Figure size 720x720 with 4 Axes>"
            ]
          },
          "metadata": {
            "tags": []
          }
        }
      ]
    },
    {
      "cell_type": "markdown",
      "metadata": {
        "id": "BfXzr4mJAQrg"
      },
      "source": [
        "## 3. '연령별' 통계\r\n",
        "> 1) '연령별' 데이터 추출"
      ]
    },
    {
      "cell_type": "code",
      "metadata": {
        "colab": {
          "base_uri": "https://localhost:8080/",
          "height": 286
        },
        "id": "A1UyfZmA_9GQ",
        "outputId": "561887f9-9066-414d-cf2c-e1ccc75060fe"
      },
      "source": [
        "DF_A = DF[DF['대분류'] == '연령별'].copy()\r\n",
        "DF_A.drop(columns = '대분류', inplace = True)\r\n",
        "DF_A.set_index('분류', inplace = True)\r\n",
        "\r\n",
        "DF_A"
      ],
      "execution_count": 17,
      "outputs": [
        {
          "output_type": "execute_result",
          "data": {
            "text/html": [
              "<div>\n",
              "<style scoped>\n",
              "    .dataframe tbody tr th:only-of-type {\n",
              "        vertical-align: middle;\n",
              "    }\n",
              "\n",
              "    .dataframe tbody tr th {\n",
              "        vertical-align: top;\n",
              "    }\n",
              "\n",
              "    .dataframe thead th {\n",
              "        text-align: right;\n",
              "    }\n",
              "</style>\n",
              "<table border=\"1\" class=\"dataframe\">\n",
              "  <thead>\n",
              "    <tr style=\"text-align: right;\">\n",
              "      <th></th>\n",
              "      <th>운동을 할 충분한 시간이 없어서</th>\n",
              "      <th>함께 운동을 할 사람이 없어서</th>\n",
              "      <th>운동을 할 만한 장소가 없어서</th>\n",
              "      <th>운동을 싫어해서</th>\n",
              "      <th>기타</th>\n",
              "    </tr>\n",
              "    <tr>\n",
              "      <th>분류</th>\n",
              "      <th></th>\n",
              "      <th></th>\n",
              "      <th></th>\n",
              "      <th></th>\n",
              "      <th></th>\n",
              "    </tr>\n",
              "  </thead>\n",
              "  <tbody>\n",
              "    <tr>\n",
              "      <th>10대</th>\n",
              "      <td>55.7</td>\n",
              "      <td>6.1</td>\n",
              "      <td>5.6</td>\n",
              "      <td>32.2</td>\n",
              "      <td>0.3</td>\n",
              "    </tr>\n",
              "    <tr>\n",
              "      <th>20대</th>\n",
              "      <td>54.8</td>\n",
              "      <td>6.9</td>\n",
              "      <td>5.2</td>\n",
              "      <td>32.9</td>\n",
              "      <td>0.1</td>\n",
              "    </tr>\n",
              "    <tr>\n",
              "      <th>30대</th>\n",
              "      <td>58.1</td>\n",
              "      <td>5.5</td>\n",
              "      <td>4.6</td>\n",
              "      <td>31.6</td>\n",
              "      <td>0.2</td>\n",
              "    </tr>\n",
              "    <tr>\n",
              "      <th>40대</th>\n",
              "      <td>57.7</td>\n",
              "      <td>6.8</td>\n",
              "      <td>5.2</td>\n",
              "      <td>29.4</td>\n",
              "      <td>1</td>\n",
              "    </tr>\n",
              "    <tr>\n",
              "      <th>50대</th>\n",
              "      <td>50.1</td>\n",
              "      <td>9.2</td>\n",
              "      <td>7.2</td>\n",
              "      <td>32.2</td>\n",
              "      <td>1.4</td>\n",
              "    </tr>\n",
              "    <tr>\n",
              "      <th>60대 이상</th>\n",
              "      <td>27.5</td>\n",
              "      <td>12.8</td>\n",
              "      <td>6.9</td>\n",
              "      <td>46.8</td>\n",
              "      <td>6</td>\n",
              "    </tr>\n",
              "  </tbody>\n",
              "</table>\n",
              "</div>"
            ],
            "text/plain": [
              "        운동을 할 충분한 시간이 없어서 함께 운동을 할 사람이 없어서  운동을 할 만한 장소가 없어서  운동을 싫어해서   기타\n",
              "분류                                                                         \n",
              "10대                  55.7              6.1               5.6      32.2  0.3\n",
              "20대                  54.8              6.9               5.2      32.9  0.1\n",
              "30대                  58.1              5.5               4.6      31.6  0.2\n",
              "40대                  57.7              6.8               5.2      29.4    1\n",
              "50대                  50.1              9.2               7.2      32.2  1.4\n",
              "60대 이상               27.5             12.8               6.9      46.8    6"
            ]
          },
          "metadata": {
            "tags": []
          },
          "execution_count": 17
        }
      ]
    },
    {
      "cell_type": "markdown",
      "metadata": {
        "id": "q-OaO3HYAisf"
      },
      "source": [
        "> 2) matplotlib 시각화"
      ]
    },
    {
      "cell_type": "code",
      "metadata": {
        "colab": {
          "base_uri": "https://localhost:8080/",
          "height": 250
        },
        "id": "dWfCvZ7sAhTH",
        "outputId": "32cd2c44-4069-476c-f7a4-1366a69de7e6"
      },
      "source": [
        "#import matplotlib.pyplot as plt\r\n",
        "\r\n",
        "figure, ax = plt. subplots(1,3,figsize = (16, 8))\r\n",
        "\r\n",
        "explode_set = [0.02, 0.02, 0.02, 0.02, 0.02, 0.02]\r\n",
        "\r\n",
        "DF_A['운동을 할 충분한 시간이 없어서'].plot.pie(explode = explode_set,\r\n",
        "                                   ax = ax[0],\r\n",
        "                                   autopct = '%1.1f%%')\r\n",
        "ax[0].set_title('운동을 할 충분한 시간이 없어서')\r\n",
        "ax[0].set_ylabel('')\r\n",
        "\r\n",
        "DF_A['함께 운동을 할 사람이 없어서'].plot.pie(explode = explode_set,\r\n",
        "                                   ax = ax[1],\r\n",
        "                                   autopct = '%1.1f%%')\r\n",
        "ax[1].set_title('함께 운동을 할 사람이 없어서')\r\n",
        "ax[1].set_ylabel('')\r\n",
        "                                \r\n",
        "DF_A['운동을 할 만한 장소가 없어서'].plot.pie(explode = explode_set,\r\n",
        "                                   ax = ax[2],\r\n",
        "                                   autopct = '%1.1f%%')\r\n",
        "ax[2].set_title('운동을 할 만한 장소가 없어서')\r\n",
        "ax[2].set_ylabel('')\r\n",
        "\r\n",
        "plt.show()"
      ],
      "execution_count": 18,
      "outputs": [
        {
          "output_type": "display_data",
          "data": {
            "image/png": "[encoded data removed]",
            "text/plain": [
              "<Figure size 1152x576 with 3 Axes>"
            ]
          },
          "metadata": {
            "tags": []
          }
        }
      ]
    },
    {
      "cell_type": "markdown",
      "metadata": {
        "id": "dc_DR1GyBobx"
      },
      "source": [
        "## 4. '학력별' 통계\r\n",
        "> 1) '학력별' 데이터 추출"
      ]
    },
    {
      "cell_type": "code",
      "metadata": {
        "colab": {
          "base_uri": "https://localhost:8080/",
          "height": 278
        },
        "id": "bOHzVBmXBlrP",
        "outputId": "08144ce1-6d26-4164-be3c-22ba64827fd4"
      },
      "source": [
        "DF_V = DF[DF['대분류'] == '학력별'].copy()\r\n",
        "DF_V.drop(columns = '대분류', inplace = True)\r\n",
        "DF_V.set_index('분류', inplace = True)\r\n",
        "\r\n",
        "DF_V"
      ],
      "execution_count": 19,
      "outputs": [
        {
          "output_type": "execute_result",
          "data": {
            "text/html": [
              "<div>\n",
              "<style scoped>\n",
              "    .dataframe tbody tr th:only-of-type {\n",
              "        vertical-align: middle;\n",
              "    }\n",
              "\n",
              "    .dataframe tbody tr th {\n",
              "        vertical-align: top;\n",
              "    }\n",
              "\n",
              "    .dataframe thead th {\n",
              "        text-align: right;\n",
              "    }\n",
              "</style>\n",
              "<table border=\"1\" class=\"dataframe\">\n",
              "  <thead>\n",
              "    <tr style=\"text-align: right;\">\n",
              "      <th></th>\n",
              "      <th>운동을 할 충분한 시간이 없어서</th>\n",
              "      <th>함께 운동을 할 사람이 없어서</th>\n",
              "      <th>운동을 할 만한 장소가 없어서</th>\n",
              "      <th>운동을 싫어해서</th>\n",
              "      <th>기타</th>\n",
              "    </tr>\n",
              "    <tr>\n",
              "      <th>분류</th>\n",
              "      <th></th>\n",
              "      <th></th>\n",
              "      <th></th>\n",
              "      <th></th>\n",
              "      <th></th>\n",
              "    </tr>\n",
              "  </thead>\n",
              "  <tbody>\n",
              "    <tr>\n",
              "      <th>중졸 이하</th>\n",
              "      <td>26.1</td>\n",
              "      <td>13.7</td>\n",
              "      <td>6.6</td>\n",
              "      <td>46.2</td>\n",
              "      <td>7.4</td>\n",
              "    </tr>\n",
              "    <tr>\n",
              "      <th>고졸 이하</th>\n",
              "      <td>46.3</td>\n",
              "      <td>8.5</td>\n",
              "      <td>6.9</td>\n",
              "      <td>36.5</td>\n",
              "      <td>1.7</td>\n",
              "    </tr>\n",
              "    <tr>\n",
              "      <th>대졸 이하</th>\n",
              "      <td>57.4</td>\n",
              "      <td>6.6</td>\n",
              "      <td>4.9</td>\n",
              "      <td>30.7</td>\n",
              "      <td>0.4</td>\n",
              "    </tr>\n",
              "    <tr>\n",
              "      <th>대학원 이상</th>\n",
              "      <td>65.3</td>\n",
              "      <td>3.8</td>\n",
              "      <td>0.6</td>\n",
              "      <td>29.6</td>\n",
              "      <td>0.6</td>\n",
              "    </tr>\n",
              "  </tbody>\n",
              "</table>\n",
              "</div>"
            ],
            "text/plain": [
              "        운동을 할 충분한 시간이 없어서 함께 운동을 할 사람이 없어서  운동을 할 만한 장소가 없어서  운동을 싫어해서   기타\n",
              "분류                                                                         \n",
              "중졸 이하                26.1             13.7               6.6      46.2  7.4\n",
              "고졸 이하                46.3              8.5               6.9      36.5  1.7\n",
              "대졸 이하                57.4              6.6               4.9      30.7  0.4\n",
              "대학원 이상               65.3              3.8               0.6      29.6  0.6"
            ]
          },
          "metadata": {
            "tags": []
          },
          "execution_count": 19
        }
      ]
    },
    {
      "cell_type": "markdown",
      "metadata": {
        "id": "OasTaNLGB7kc"
      },
      "source": [
        "> 2) matplotlib 시각화\r\n"
      ]
    },
    {
      "cell_type": "code",
      "metadata": {
        "colab": {
          "base_uri": "https://localhost:8080/",
          "height": 361
        },
        "id": "nESryYpLB59A",
        "outputId": "b709c506-35b5-482b-afaf-9f3846b7d4a6"
      },
      "source": [
        "#import matplotlib.pyplot as plt\r\n",
        "\r\n",
        "figure, ax = plt. subplots(1,2,figsize = (16, 8))\r\n",
        "\r\n",
        "explode_set = [0.02, 0.02, 0.02, 0.02]\r\n",
        "\r\n",
        "DF_V['운동을 할 충분한 시간이 없어서'].plot.pie(explode = explode_set,\r\n",
        "                                   ax = ax[0],\r\n",
        "                                   autopct = '%1.1f%%')\r\n",
        "ax[0].set_title('운동을 할 충분한 시간이 없어서')\r\n",
        "ax[0].set_ylabel('')\r\n",
        "\r\n",
        "DF_V['운동을 싫어해서'].plot.pie(explode = explode_set,\r\n",
        "                                   ax = ax[1],\r\n",
        "                                   autopct = '%1.1f%%')\r\n",
        "ax[1].set_title('운동을 싫어해서')\r\n",
        "ax[1].set_ylabel('')\r\n",
        "\r\n",
        "plt.show()"
      ],
      "execution_count": 20,
      "outputs": [
        {
          "output_type": "display_data",
          "data": {
            "image/png": "[encoded data removed]",
            "text/plain": [
              "<Figure size 1152x576 with 2 Axes>"
            ]
          },
          "metadata": {
            "tags": []
          }
        }
      ]
    },
    {
      "cell_type": "markdown",
      "metadata": {
        "id": "MYZLuJf5Clce"
      },
      "source": [
        "본 내용은 2021/02/23(화)에 학습한 내용입니다."
      ]
    }
  ]
}