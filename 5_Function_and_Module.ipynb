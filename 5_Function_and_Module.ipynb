{
  "nbformat": 4,
  "nbformat_minor": 0,
  "metadata": {
    "colab": {
      "name": "5.Function and Module.ipynb",
      "provenance": [],
      "collapsed_sections": [],
      "authorship_tag": "ABX9TyNRr+iL2fRCUNJxPsa0eIZY",
      "include_colab_link": true
    },
    "kernelspec": {
      "name": "python3",
      "display_name": "Python 3"
    }
  },
  "cells": [
    {
      "cell_type": "markdown",
      "metadata": {
        "id": "view-in-github",
        "colab_type": "text"
      },
      "source": [
        "<a href=\"https://colab.research.google.com/github/jungmin0710/K-digital-PythonDataAnalytics/blob/main/5_Function_and_Module.ipynb\" target=\"_parent\"><img src=\"https://colab.research.google.com/assets/colab-badge.svg\" alt=\"Open In Colab\"/></a>"
      ]
    },
    {
      "cell_type": "markdown",
      "metadata": {
        "id": "v6SOaFk4AMaS"
      },
      "source": [
        "# Function and Module"
      ]
    },
    {
      "cell_type": "code",
      "metadata": {
        "id": "cdShqGPoAKGV"
      },
      "source": [
        "import warnings\r\n",
        "warnings.filterwarnings('ignore')"
      ],
      "execution_count": 1,
      "outputs": []
    },
    {
      "cell_type": "markdown",
      "metadata": {
        "id": "gazwDL3YAUJr"
      },
      "source": [
        "## 1.def\r\n",
        "> 1)사용자 정의 함수 with def\r\n",
        "* hap() 정의 및 사용"
      ]
    },
    {
      "cell_type": "code",
      "metadata": {
        "colab": {
          "base_uri": "https://localhost:8080/"
        },
        "id": "8e671JDJATDZ",
        "outputId": "f5447828-4876-435c-de61-c907933c8a7b"
      },
      "source": [
        "def hap(x, y):\r\n",
        "  z = x + y\r\n",
        "  return z\r\n",
        "\r\n",
        "hap(3,6)"
      ],
      "execution_count": 2,
      "outputs": [
        {
          "output_type": "execute_result",
          "data": {
            "text/plain": [
              "9"
            ]
          },
          "metadata": {
            "tags": []
          },
          "execution_count": 2
        }
      ]
    },
    {
      "cell_type": "markdown",
      "metadata": {
        "id": "Qj7kSHLmAkXB"
      },
      "source": [
        "> 2)사용자 정의 함수 with lambda\r\n",
        "* cha() 정의 및 사용"
      ]
    },
    {
      "cell_type": "code",
      "metadata": {
        "colab": {
          "base_uri": "https://localhost:8080/"
        },
        "id": "1nc0VQcrAjDj",
        "outputId": "f27a009a-ae46-4b60-826a-647ba1bf038c"
      },
      "source": [
        "cha = lambda x,y : x - y\r\n",
        "\r\n",
        "cha(3, 6)"
      ],
      "execution_count": 3,
      "outputs": [
        {
          "output_type": "execute_result",
          "data": {
            "text/plain": [
              "-3"
            ]
          },
          "metadata": {
            "tags": []
          },
          "execution_count": 3
        }
      ]
    },
    {
      "cell_type": "markdown",
      "metadata": {
        "id": "2z8D1FIKAvxS"
      },
      "source": [
        "## 2. Module\r\n",
        "* module : 사용자 정의 함수를 포함하고 있는 파이썬 스크립트(*.py)\r\n",
        "* import : 파이썬 스크립트에 정의된 함수를 메모리로 호출\r\n",
        "\r\n",
        "> 1) 파이썬 내장 모듈\r\n",
        "* 사용 구문 : import Module_Name"
      ]
    },
    {
      "cell_type": "code",
      "metadata": {
        "id": "yuXN5WRBAt72"
      },
      "source": [
        "import time"
      ],
      "execution_count": 4,
      "outputs": []
    },
    {
      "cell_type": "markdown",
      "metadata": {
        "id": "DtPrIRH_BR34"
      },
      "source": [
        "> * 사용구문 : Module_Name.Function_Name()\r\n",
        "\r\n"
      ]
    },
    {
      "cell_type": "code",
      "metadata": {
        "colab": {
          "base_uri": "https://localhost:8080/"
        },
        "id": "vdS3tfoxBCYy",
        "outputId": "14862d89-f5cf-479c-e61d-f6d5c23dca31"
      },
      "source": [
        "print('스크립트 시작')\r\n",
        "time.sleep(9)\r\n",
        "print('9초 후 스크립트 종료')"
      ],
      "execution_count": 5,
      "outputs": [
        {
          "output_type": "stream",
          "text": [
            "스크립트 시작\n",
            "9초 후 스크립트 종료\n"
          ],
          "name": "stdout"
        }
      ]
    },
    {
      "cell_type": "markdown",
      "metadata": {
        "id": "q7Es4v7QBrlC"
      },
      "source": [
        "> * Built-in Module Path"
      ]
    },
    {
      "cell_type": "code",
      "metadata": {
        "colab": {
          "base_uri": "https://localhost:8080/"
        },
        "id": "Xvi2ZUyrBpfm",
        "outputId": "23b3289c-912e-44a5-9a3a-0b472f8424aa"
      },
      "source": [
        "import sys\r\n",
        "sys.path"
      ],
      "execution_count": 6,
      "outputs": [
        {
          "output_type": "execute_result",
          "data": {
            "text/plain": [
              "['',\n",
              " '/env/python',\n",
              " '/usr/lib/python36.zip',\n",
              " '/usr/lib/python3.6',\n",
              " '/usr/lib/python3.6/lib-dynload',\n",
              " '/usr/local/lib/python3.6/dist-packages',\n",
              " '/usr/lib/python3/dist-packages',\n",
              " '/usr/local/lib/python3.6/dist-packages/IPython/extensions',\n",
              " '/root/.ipython']"
            ]
          },
          "metadata": {
            "tags": []
          },
          "execution_count": 6
        }
      ]
    },
    {
      "cell_type": "markdown",
      "metadata": {
        "id": "kDMspIoXByVf"
      },
      "source": [
        "> 2) Alias로 import\r\n",
        "* 사용구문 : import Module_name as Alias"
      ]
    },
    {
      "cell_type": "code",
      "metadata": {
        "id": "a-LYkkQwBxGx"
      },
      "source": [
        "import time as t"
      ],
      "execution_count": 7,
      "outputs": []
    },
    {
      "cell_type": "markdown",
      "metadata": {
        "id": "k5LmKzcsB7jy"
      },
      "source": [
        "> * 사용구문 : Alias.Function_Name()"
      ]
    },
    {
      "cell_type": "code",
      "metadata": {
        "colab": {
          "base_uri": "https://localhost:8080/"
        },
        "id": "imjLiDBVB6iA",
        "outputId": "a1d046c9-92b4-4f34-ae75-44c4a6f0ee22"
      },
      "source": [
        "print('3초 후에 결과 출력')\r\n",
        "t.sleep(3)\r\n",
        "print('축하합니다. 합격입니다!')"
      ],
      "execution_count": 8,
      "outputs": [
        {
          "output_type": "stream",
          "text": [
            "3초 후에 결과 출력\n",
            "축하합니다. 합격입니다!\n"
          ],
          "name": "stdout"
        }
      ]
    },
    {
      "cell_type": "markdown",
      "metadata": {
        "id": "8z6R5Hh3CFJb"
      },
      "source": [
        "> 3) 사용자 모듈 만들기\r\n",
        "* hello.py 스크립트 생성(UTF-8 Encoding)\r\n",
        "* 스크립트에 hi()함수 정의\r\n",
        "* colab에 hello.py 업로드 후 실습 진행"
      ]
    },
    {
      "cell_type": "code",
      "metadata": {
        "colab": {
          "base_uri": "https://localhost:8080/"
        },
        "id": "jvU432rvCEBL",
        "outputId": "9ecf7397-3926-491f-9c06-0516cc79c0ca"
      },
      "source": [
        "import hello\r\n",
        "hello.hi()"
      ],
      "execution_count": 9,
      "outputs": [
        {
          "output_type": "stream",
          "text": [
            "사용자 정의 함수 실행\n",
            "Hello World\n",
            "사용자 정의 함수 종료\n"
          ],
          "name": "stdout"
        }
      ]
    },
    {
      "cell_type": "markdown",
      "metadata": {
        "id": "dyJ-DCQtOUWj"
      },
      "source": [
        "## 3.Package\r\n",
        " * 관련된 모듈을 디렉토리 단위로 관리\r\n",
        " * import 또는 from import 구문으로 함수를 호출하여 사용\r\n",
        "\r\n",
        " > 1) 사용자 패키지 만들기\r\n",
        "  * Colab에 myPKG 디렉토리 생성\r\n",
        "  * myPKG 디렉토리 내에 init.py 생성\r\n",
        "  * init.py에 version=1.0 작성 후 UTF-8로 저장\r\n",
        "  * myLibrary.py Module 생성(UTF-8)\r\n",
        "  * myLibrary.py 내에 hi() 및 hap() 함수 정의\r\n",
        "  * myLibrary.py 파일을 myPKG 디렉토리에 복사\r\n",
        "\r\n",
        "  "
      ]
    },
    {
      "cell_type": "markdown",
      "metadata": {
        "id": "lNDocX28O8YD"
      },
      "source": [
        "> 2) 사용자 패키지 사용 with import\r\n",
        "* 사용구문 : import Directory_Path.Module_Name"
      ]
    },
    {
      "cell_type": "code",
      "metadata": {
        "id": "oQhazmLzCb_-"
      },
      "source": [
        "import myPKG.myLibrary"
      ],
      "execution_count": 10,
      "outputs": []
    },
    {
      "cell_type": "markdown",
      "metadata": {
        "id": "s_PiHsyHPR1U"
      },
      "source": [
        "> * 사용구문 : Directory_Name.Module_Name.Function_Name"
      ]
    },
    {
      "cell_type": "code",
      "metadata": {
        "colab": {
          "base_uri": "https://localhost:8080/"
        },
        "id": "4brnZoXNPQtK",
        "outputId": "b106955c-9d65-4ce8-d24e-7b778f307f6f"
      },
      "source": [
        "myPKG.myLibrary.hi()"
      ],
      "execution_count": 11,
      "outputs": [
        {
          "output_type": "stream",
          "text": [
            "첫번째 함수 실행\n"
          ],
          "name": "stdout"
        }
      ]
    },
    {
      "cell_type": "code",
      "metadata": {
        "colab": {
          "base_uri": "https://localhost:8080/"
        },
        "id": "WYwX5w0DPa7S",
        "outputId": "e750f45c-5727-4caf-c8ad-b7026bc0d868"
      },
      "source": [
        "myPKG.myLibrary.hap(3,5)"
      ],
      "execution_count": 12,
      "outputs": [
        {
          "output_type": "execute_result",
          "data": {
            "text/plain": [
              "8"
            ]
          },
          "metadata": {
            "tags": []
          },
          "execution_count": 12
        }
      ]
    },
    {
      "cell_type": "markdown",
      "metadata": {
        "id": "pWPNUYXhPfrC"
      },
      "source": [
        "> 3) 사용자 패키지 사용 with from ~ import\r\n",
        "* 사용 구문 : from Directory_Name.Module_Name import Function_Name"
      ]
    },
    {
      "cell_type": "code",
      "metadata": {
        "id": "uf-ik4YRPeNk"
      },
      "source": [
        "from myPKG.myLibrary import hi\r\n",
        "from myPKG.myLibrary import hap"
      ],
      "execution_count": 13,
      "outputs": []
    },
    {
      "cell_type": "markdown",
      "metadata": {
        "id": "E35BIxsOPvOA"
      },
      "source": [
        "> * 사용 구문 : Function_Name"
      ]
    },
    {
      "cell_type": "code",
      "metadata": {
        "colab": {
          "base_uri": "https://localhost:8080/"
        },
        "id": "aJA8u3JlPuRG",
        "outputId": "81d5b99b-a24d-46a6-b398-509d9088fdcc"
      },
      "source": [
        "hi()"
      ],
      "execution_count": 14,
      "outputs": [
        {
          "output_type": "stream",
          "text": [
            "첫번째 함수 실행\n"
          ],
          "name": "stdout"
        }
      ]
    },
    {
      "cell_type": "code",
      "metadata": {
        "colab": {
          "base_uri": "https://localhost:8080/"
        },
        "id": "six2J6kZPzgF",
        "outputId": "c405d6c5-995b-4228-b952-dd78bde33cf6"
      },
      "source": [
        "hap(2,6)"
      ],
      "execution_count": 15,
      "outputs": [
        {
          "output_type": "execute_result",
          "data": {
            "text/plain": [
              "8"
            ]
          },
          "metadata": {
            "tags": []
          },
          "execution_count": 15
        }
      ]
    },
    {
      "cell_type": "markdown",
      "metadata": {
        "id": "XDtCHLIBP101"
      },
      "source": [
        "## 4. Class\r\n",
        "* Class/Name Space : 개발자에 의해 지정된 독립 공간\r\n",
        "* Class Member : Class 내에 선언된 변수\r\n",
        "* Class Method : Class 내에 선언된 함수\r\n"
      ]
    },
    {
      "cell_type": "markdown",
      "metadata": {
        "id": "Shz3zvkEQF5E"
      },
      "source": [
        "> 1) Class 선언"
      ]
    },
    {
      "cell_type": "code",
      "metadata": {
        "id": "jrzgeu4uP0ra"
      },
      "source": [
        "class myClass:\r\n",
        "  var_1 = 'Hello Class'\r\n",
        "\r\n",
        "  def func_1(self):\r\n",
        "    print(self.var_1, '클래스 함수 실행')"
      ],
      "execution_count": 16,
      "outputs": []
    },
    {
      "cell_type": "markdown",
      "metadata": {
        "id": "OQfjj7nIQSod"
      },
      "source": [
        "> 2) Instance 생성"
      ]
    },
    {
      "cell_type": "code",
      "metadata": {
        "id": "C3_fvEsRQSBg"
      },
      "source": [
        "obj = myClass()"
      ],
      "execution_count": 17,
      "outputs": []
    },
    {
      "cell_type": "markdown",
      "metadata": {
        "id": "z36cLu0AQXUu"
      },
      "source": [
        "> 3) Member 호출"
      ]
    },
    {
      "cell_type": "code",
      "metadata": {
        "colab": {
          "base_uri": "https://localhost:8080/",
          "height": 35
        },
        "id": "n4m1wpfRQa4i",
        "outputId": "ebd69120-0c35-452b-df7f-f7b815b94d85"
      },
      "source": [
        "obj.var_1"
      ],
      "execution_count": 18,
      "outputs": [
        {
          "output_type": "execute_result",
          "data": {
            "application/vnd.google.colaboratory.intrinsic+json": {
              "type": "string"
            },
            "text/plain": [
              "'Hello Class'"
            ]
          },
          "metadata": {
            "tags": []
          },
          "execution_count": 18
        }
      ]
    },
    {
      "cell_type": "markdown",
      "metadata": {
        "id": "xUUZOoC-Qgxq"
      },
      "source": [
        "> 4) Method 호출"
      ]
    },
    {
      "cell_type": "code",
      "metadata": {
        "colab": {
          "base_uri": "https://localhost:8080/"
        },
        "id": "zfJo1QJEQfZz",
        "outputId": "a182d96c-97a0-464a-f99c-8da95eaabe4e"
      },
      "source": [
        "obj.func_1()"
      ],
      "execution_count": 19,
      "outputs": [
        {
          "output_type": "stream",
          "text": [
            "Hello Class 클래스 함수 실행\n"
          ],
          "name": "stdout"
        }
      ]
    },
    {
      "cell_type": "markdown",
      "metadata": {
        "id": "qdq_TESnQpGm"
      },
      "source": [
        "## 5. Class Memver vs. Instance Member\r\n",
        "> 1) Class 선언\r\n",
        "* Class Member\r\n",
        "* Instance Member"
      ]
    },
    {
      "cell_type": "code",
      "metadata": {
        "id": "-lLAtbLfQmiy"
      },
      "source": [
        "class myClass_1:\r\n",
        "  var_1 = 'Class Member'\r\n",
        "\r\n",
        "  def func_1(self):\r\n",
        "    var_2 = 'Instance Member'\r\n",
        "    print('Method 내에 선언', var_2)\r\n",
        "    print(' Class 내에 선언', self.var_1)\r\n",
        "  \r\n",
        "  def func_2(self, x, y):\r\n",
        "    z = x + y\r\n",
        "    print(x, '더하기', y, '는', z)"
      ],
      "execution_count": 20,
      "outputs": []
    },
    {
      "cell_type": "markdown",
      "metadata": {
        "id": "NM-7r1v3RMV3"
      },
      "source": [
        "> 2) Instance 생성"
      ]
    },
    {
      "cell_type": "code",
      "metadata": {
        "id": "7uylEdP-RLl_"
      },
      "source": [
        "obj_1 = myClass_1()"
      ],
      "execution_count": 21,
      "outputs": []
    },
    {
      "cell_type": "markdown",
      "metadata": {
        "id": "WU7hbTFjRTKw"
      },
      "source": [
        "> 3) Class Member 호출"
      ]
    },
    {
      "cell_type": "code",
      "metadata": {
        "colab": {
          "base_uri": "https://localhost:8080/",
          "height": 35
        },
        "id": "lhlrqvx0RSN9",
        "outputId": "129e1ecd-2fb5-493e-a275-3b01b62ff9c7"
      },
      "source": [
        "obj_1.var_1"
      ],
      "execution_count": 22,
      "outputs": [
        {
          "output_type": "execute_result",
          "data": {
            "application/vnd.google.colaboratory.intrinsic+json": {
              "type": "string"
            },
            "text/plain": [
              "'Class Member'"
            ]
          },
          "metadata": {
            "tags": []
          },
          "execution_count": 22
        }
      ]
    },
    {
      "cell_type": "markdown",
      "metadata": {
        "id": "WPWLjySVRY-J"
      },
      "source": [
        "> 4) Instance Member 모듈 에러"
      ]
    },
    {
      "cell_type": "code",
      "metadata": {
        "colab": {
          "base_uri": "https://localhost:8080/",
          "height": 170
        },
        "id": "rvFDgdAWRXIO",
        "outputId": "c625d65a-b187-4777-fc37-ecfd3197a384"
      },
      "source": [
        "obj_1.var_2"
      ],
      "execution_count": 23,
      "outputs": [
        {
          "output_type": "error",
          "ename": "AttributeError",
          "evalue": "ignored",
          "traceback": [
            "\u001b[0;31m---------------------------------------------------------------------------\u001b[0m",
            "\u001b[0;31mAttributeError\u001b[0m                            Traceback (most recent call last)",
            "\u001b[0;32m<ipython-input-23-062f88125ce0>\u001b[0m in \u001b[0;36m<module>\u001b[0;34m()\u001b[0m\n\u001b[0;32m----> 1\u001b[0;31m \u001b[0mobj_1\u001b[0m\u001b[0;34m.\u001b[0m\u001b[0mvar_2\u001b[0m\u001b[0;34m\u001b[0m\u001b[0;34m\u001b[0m\u001b[0m\n\u001b[0m",
            "\u001b[0;31mAttributeError\u001b[0m: 'myClass_1' object has no attribute 'var_2'"
          ]
        }
      ]
    },
    {
      "cell_type": "markdown",
      "metadata": {
        "id": "ell_lnvVRfWz"
      },
      "source": [
        "> 5) Class Method 내에서 Class Member 및 Instance Member 호출 성공"
      ]
    },
    {
      "cell_type": "code",
      "metadata": {
        "colab": {
          "base_uri": "https://localhost:8080/"
        },
        "id": "ChsCP7ZBRdgF",
        "outputId": "e5ba989b-342d-46f6-9af3-399c16e39ecc"
      },
      "source": [
        "obj_1.func_1()"
      ],
      "execution_count": 24,
      "outputs": [
        {
          "output_type": "stream",
          "text": [
            "Method 내에 선언 Instance Member\n",
            " Class 내에 선언 Class Member\n"
          ],
          "name": "stdout"
        }
      ]
    },
    {
      "cell_type": "markdown",
      "metadata": {
        "id": "bIklUycNRolY"
      },
      "source": [
        "> 6) 인자가 있는 Class Method - func_2(x,y)"
      ]
    },
    {
      "cell_type": "code",
      "metadata": {
        "colab": {
          "base_uri": "https://localhost:8080/"
        },
        "id": "W71rWjKGRnNK",
        "outputId": "a23ec59c-f35e-47d3-99a9-6de5da7e05f6"
      },
      "source": [
        "obj_1.func_2(3,5)"
      ],
      "execution_count": 26,
      "outputs": [
        {
          "output_type": "stream",
          "text": [
            "3 더하기 5 는 8\n"
          ],
          "name": "stdout"
        }
      ]
    },
    {
      "cell_type": "markdown",
      "metadata": {
        "id": "s8uuhXcGRxQq"
      },
      "source": [
        "## 6. Class 생성자 vs Class 소멸자\r\n",
        "> 1) Class 선언"
      ]
    },
    {
      "cell_type": "code",
      "metadata": {
        "id": "5m4MFjcFRuQL"
      },
      "source": [
        "class myClass_2:\r\n",
        "  def __init__(self):\r\n",
        "    print('myClass_2 인스턴스가 메모리에 생성되었습니다.')\r\n",
        "\r\n",
        "  var_1 = 'Class Member'\r\n",
        "\r\n",
        "  def func_1(self):\r\n",
        "    print('Class Method')\r\n",
        "  \r\n",
        "  def __del__(self):\r\n",
        "    print('myClass_2 인스턴스가 메모리에서 소멸되었습니다.')"
      ],
      "execution_count": 27,
      "outputs": []
    },
    {
      "cell_type": "markdown",
      "metadata": {
        "id": "WSAHHpGsSW70"
      },
      "source": [
        "> 2) 인스턴스 생성 메시지 출력"
      ]
    },
    {
      "cell_type": "code",
      "metadata": {
        "colab": {
          "base_uri": "https://localhost:8080/"
        },
        "id": "Jqx2eNUuSWH5",
        "outputId": "f4da9cd3-3ece-423e-a1c4-c5c04fb2d1fa"
      },
      "source": [
        "obj_2 = myClass_2()"
      ],
      "execution_count": 28,
      "outputs": [
        {
          "output_type": "stream",
          "text": [
            "myClass_2 인스턴스가 메모리에 생성되었습니다.\n"
          ],
          "name": "stdout"
        }
      ]
    },
    {
      "cell_type": "markdown",
      "metadata": {
        "id": "-0H764UdSdpY"
      },
      "source": [
        "> 3)Class Member & Class Method"
      ]
    },
    {
      "cell_type": "code",
      "metadata": {
        "colab": {
          "base_uri": "https://localhost:8080/",
          "height": 35
        },
        "id": "yc5RCDPbSbj3",
        "outputId": "dea80839-df92-4b08-9ae9-130bf084d24e"
      },
      "source": [
        "obj_2.var_1"
      ],
      "execution_count": 29,
      "outputs": [
        {
          "output_type": "execute_result",
          "data": {
            "application/vnd.google.colaboratory.intrinsic+json": {
              "type": "string"
            },
            "text/plain": [
              "'Class Member'"
            ]
          },
          "metadata": {
            "tags": []
          },
          "execution_count": 29
        }
      ]
    },
    {
      "cell_type": "code",
      "metadata": {
        "colab": {
          "base_uri": "https://localhost:8080/"
        },
        "id": "1PScNsTASjN5",
        "outputId": "b4100977-16b0-4cd9-d4cd-243ce5018df9"
      },
      "source": [
        "obj_2.func_1()"
      ],
      "execution_count": 30,
      "outputs": [
        {
          "output_type": "stream",
          "text": [
            "Class Method\n"
          ],
          "name": "stdout"
        }
      ]
    },
    {
      "cell_type": "markdown",
      "metadata": {
        "id": "FIf0N3zdSmPN"
      },
      "source": [
        "> 4) 인스턴스 소멸 메시지 출력"
      ]
    },
    {
      "cell_type": "code",
      "metadata": {
        "colab": {
          "base_uri": "https://localhost:8080/"
        },
        "id": "W-H3-ArDSk0i",
        "outputId": "a4d8060c-d579-40db-dac6-16ad5a745ff0"
      },
      "source": [
        "del obj_2"
      ],
      "execution_count": 31,
      "outputs": [
        {
          "output_type": "stream",
          "text": [
            "myClass_2 인스턴스가 메모리에서 소멸되었습니다.\n"
          ],
          "name": "stdout"
        }
      ]
    },
    {
      "cell_type": "markdown",
      "metadata": {
        "id": "Am8VTgk0SrIw"
      },
      "source": [
        "## 7.Class 상속\r\n",
        "> 1) Class 선언\r\n",
        "* Class Sum, Cop 선언 후 Computer Class에 전달\r\n",
        "* Class Computer는 상속 받은 add(), mul() Method 사용 가능"
      ]
    },
    {
      "cell_type": "code",
      "metadata": {
        "id": "LTa5zpTTSp4H"
      },
      "source": [
        "class Sum:\r\n",
        "  def add(self, x, y):\r\n",
        "    z = x + y\r\n",
        "    return z\r\n",
        "\r\n",
        "class Cop:\r\n",
        "  def mul(self, x, y):\r\n",
        "    z = x * y\r\n",
        "    return z\r\n",
        "\r\n",
        "class Computer(Sum, Cop):\r\n",
        "  def sub(self, x, y):\r\n",
        "    z = x - y\r\n",
        "    return z"
      ],
      "execution_count": 33,
      "outputs": []
    },
    {
      "cell_type": "markdown",
      "metadata": {
        "id": "BDXr6upsTJ6F"
      },
      "source": [
        "> 2) Instance 생성"
      ]
    },
    {
      "cell_type": "code",
      "metadata": {
        "id": "TXUBI4DXTAN6"
      },
      "source": [
        "obj_3 = Computer()"
      ],
      "execution_count": 34,
      "outputs": []
    },
    {
      "cell_type": "markdown",
      "metadata": {
        "id": "CPkgkCzmTOzm"
      },
      "source": [
        "> 3) 상속 받은 Method 사용\r\n",
        "* Computer Class의 Method"
      ]
    },
    {
      "cell_type": "code",
      "metadata": {
        "colab": {
          "base_uri": "https://localhost:8080/"
        },
        "id": "RZlFu9BZTOGT",
        "outputId": "d3bbffc8-f10a-4816-cb01-a689933fe3c0"
      },
      "source": [
        "obj_3.sub(3,5)"
      ],
      "execution_count": 35,
      "outputs": [
        {
          "output_type": "execute_result",
          "data": {
            "text/plain": [
              "-2"
            ]
          },
          "metadata": {
            "tags": []
          },
          "execution_count": 35
        }
      ]
    },
    {
      "cell_type": "markdown",
      "metadata": {
        "id": "bs2qS3IJTbeq"
      },
      "source": [
        "> * Sum Class로부터 상속 받은 add() Method"
      ]
    },
    {
      "cell_type": "code",
      "metadata": {
        "colab": {
          "base_uri": "https://localhost:8080/"
        },
        "id": "Ad3A-uF_TaLZ",
        "outputId": "20a50d14-a4db-46c2-8b24-7d5f968c79b9"
      },
      "source": [
        "obj_3.add(3,5)"
      ],
      "execution_count": 36,
      "outputs": [
        {
          "output_type": "execute_result",
          "data": {
            "text/plain": [
              "8"
            ]
          },
          "metadata": {
            "tags": []
          },
          "execution_count": 36
        }
      ]
    },
    {
      "cell_type": "markdown",
      "metadata": {
        "id": "l-Q1dta1ThlK"
      },
      "source": [
        "> * Cop Class로부터 상속 받은 Mul() Method"
      ]
    },
    {
      "cell_type": "code",
      "metadata": {
        "colab": {
          "base_uri": "https://localhost:8080/"
        },
        "id": "RM6zf5RVTg5F",
        "outputId": "59d8f299-88c5-4cf0-aabc-35399d5f6799"
      },
      "source": [
        "obj_3.mul(3,5)"
      ],
      "execution_count": 37,
      "outputs": [
        {
          "output_type": "execute_result",
          "data": {
            "text/plain": [
              "15"
            ]
          },
          "metadata": {
            "tags": []
          },
          "execution_count": 37
        }
      ]
    },
    {
      "cell_type": "markdown",
      "metadata": {
        "id": "qvIm8XYPToEc"
      },
      "source": [
        "본 내용은 2021/02/22(월)에 학습한 내용입니다."
      ]
    }
  ]
}