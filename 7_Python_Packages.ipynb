{
  "nbformat": 4,
  "nbformat_minor": 0,
  "metadata": {
    "colab": {
      "name": "7.Python Packages.ipynb",
      "provenance": [],
      "collapsed_sections": [],
      "authorship_tag": "ABX9TyNyo9G/dzQUFNK0+WUgp/D1",
      "include_colab_link": true
    },
    "kernelspec": {
      "name": "python3",
      "display_name": "Python 3"
    }
  },
  "cells": [
    {
      "cell_type": "markdown",
      "metadata": {
        "id": "view-in-github",
        "colab_type": "text"
      },
      "source": [
        "<a href=\"https://colab.research.google.com/github/jungmin0710/K-digital-PythonDataAnalytics/blob/main/7_Python_Packages.ipynb\" target=\"_parent\"><img src=\"https://colab.research.google.com/assets/colab-badge.svg\" alt=\"Open In Colab\"/></a>"
      ]
    },
    {
      "cell_type": "markdown",
      "metadata": {
        "id": "nxa3hVfqhTQH"
      },
      "source": [
        "# Python Packages"
      ]
    },
    {
      "cell_type": "code",
      "metadata": {
        "id": "01xaVdWxfYs6"
      },
      "source": [
        "import warnings\r\n",
        "warnings.filterwarnings('ignore')"
      ],
      "execution_count": 1,
      "outputs": []
    },
    {
      "cell_type": "markdown",
      "metadata": {
        "id": "j10ER1E7hd-b"
      },
      "source": [
        "## 1. numpy\r\n",
        "* 수학 및 과학적 연산을 쉽고 빠르게 지원\r\n",
        "* 다차원 행열(Array)을 효과적으로 처리"
      ]
    },
    {
      "cell_type": "markdown",
      "metadata": {
        "id": "1lQZFqOuhuAf"
      },
      "source": [
        "> 1)numpy Package import"
      ]
    },
    {
      "cell_type": "code",
      "metadata": {
        "id": "cTOGNH85hcfq"
      },
      "source": [
        "import numpy as np"
      ],
      "execution_count": 2,
      "outputs": []
    },
    {
      "cell_type": "markdown",
      "metadata": {
        "id": "9Hg3WL7BhyTP"
      },
      "source": [
        "> 2) Array 생성\r\n",
        "1. Scalar - 0D Array - Rank0 Tensor"
      ]
    },
    {
      "cell_type": "code",
      "metadata": {
        "colab": {
          "base_uri": "https://localhost:8080/"
        },
        "id": "eQFBn9iuh9m7",
        "outputId": "5ef713a4-16e3-47c9-f57f-9cf9b6797b64"
      },
      "source": [
        "a0 = np.array(9)\r\n",
        "\r\n",
        "print(a0)"
      ],
      "execution_count": 3,
      "outputs": [
        {
          "output_type": "stream",
          "text": [
            "9\n"
          ],
          "name": "stdout"
        }
      ]
    },
    {
      "cell_type": "markdown",
      "metadata": {
        "id": "1m5uU1yKiORV"
      },
      "source": [
        "> 2. Vector - 1D Array - Rank1 Tensor"
      ]
    },
    {
      "cell_type": "code",
      "metadata": {
        "colab": {
          "base_uri": "https://localhost:8080/"
        },
        "id": "B_Ec-25oiUU2",
        "outputId": "87ab8ad2-9eb1-4c28-874f-9c4380c4d3b3"
      },
      "source": [
        "a1 = np.array([1,3,5,7,9])\r\n",
        "\r\n",
        "print(a1)"
      ],
      "execution_count": 4,
      "outputs": [
        {
          "output_type": "stream",
          "text": [
            "[1 3 5 7 9]\n"
          ],
          "name": "stdout"
        }
      ]
    },
    {
      "cell_type": "markdown",
      "metadata": {
        "id": "3J_qAlJ3idDB"
      },
      "source": [
        "> 3. Matrix - 2D Array - Rank2 Tensor"
      ]
    },
    {
      "cell_type": "code",
      "metadata": {
        "colab": {
          "base_uri": "https://localhost:8080/"
        },
        "id": "bcnnKhSxiblm",
        "outputId": "545e6ff3-8339-4001-ca4e-d58874daf8f2"
      },
      "source": [
        "a2 = np.array([[1,2,3],\r\n",
        "               [4,5,6],\r\n",
        "               [7,8,9]])\r\n",
        "\r\n",
        "print(a2)"
      ],
      "execution_count": 5,
      "outputs": [
        {
          "output_type": "stream",
          "text": [
            "[[1 2 3]\n",
            " [4 5 6]\n",
            " [7 8 9]]\n"
          ],
          "name": "stdout"
        }
      ]
    },
    {
      "cell_type": "markdown",
      "metadata": {
        "id": "MxhRlL5girT8"
      },
      "source": [
        "> 4. Array - 3D Array - Rank 3 Tensor"
      ]
    },
    {
      "cell_type": "code",
      "metadata": {
        "colab": {
          "base_uri": "https://localhost:8080/"
        },
        "id": "MDUPUibmipM_",
        "outputId": "1aada5d0-b3bf-48ee-83bc-1a83b94140a2"
      },
      "source": [
        "a3 = np.array([[[1,2],\r\n",
        "                [3,4]],\r\n",
        "               [[5,6],\r\n",
        "                [7,8]],\r\n",
        "               [[9,10],\r\n",
        "                [11,12]]])\r\n",
        "\r\n",
        "print(a3)"
      ],
      "execution_count": 6,
      "outputs": [
        {
          "output_type": "stream",
          "text": [
            "[[[ 1  2]\n",
            "  [ 3  4]]\n",
            "\n",
            " [[ 5  6]\n",
            "  [ 7  8]]\n",
            "\n",
            " [[ 9 10]\n",
            "  [11 12]]]\n"
          ],
          "name": "stdout"
        }
      ]
    },
    {
      "cell_type": "markdown",
      "metadata": {
        "id": "XrdVXP07i_Uz"
      },
      "source": [
        "> 3) AR.shape and AR.reshape()"
      ]
    },
    {
      "cell_type": "code",
      "metadata": {
        "colab": {
          "base_uri": "https://localhost:8080/"
        },
        "id": "9mPDmEMli8KL",
        "outputId": "6139210c-dfc1-44f9-eebc-e0d02a8c773c"
      },
      "source": [
        "AR = np.array([1,2,3,4,5,6,7,8,9,10,11,12])\r\n",
        "\r\n",
        "print(AR)"
      ],
      "execution_count": 7,
      "outputs": [
        {
          "output_type": "stream",
          "text": [
            "[ 1  2  3  4  5  6  7  8  9 10 11 12]\n"
          ],
          "name": "stdout"
        }
      ]
    },
    {
      "cell_type": "markdown",
      "metadata": {
        "id": "nebS0xgyjKS5"
      },
      "source": [
        "> 1. shape"
      ]
    },
    {
      "cell_type": "code",
      "metadata": {
        "colab": {
          "base_uri": "https://localhost:8080/"
        },
        "id": "Id7o2BxUjIy0",
        "outputId": "35cb3e78-4335-42fd-88e0-a138a743824d"
      },
      "source": [
        "AR.shape"
      ],
      "execution_count": 8,
      "outputs": [
        {
          "output_type": "execute_result",
          "data": {
            "text/plain": [
              "(12,)"
            ]
          },
          "metadata": {
            "tags": []
          },
          "execution_count": 8
        }
      ]
    },
    {
      "cell_type": "markdown",
      "metadata": {
        "id": "3iYXnaeujPgA"
      },
      "source": [
        "> 2. reshape(3,4)\r\n",
        "* .reshape(행,열)"
      ]
    },
    {
      "cell_type": "code",
      "metadata": {
        "colab": {
          "base_uri": "https://localhost:8080/"
        },
        "id": "Y2J-fPUKjN0Z",
        "outputId": "55c337b6-1624-42ab-a610-f39bf6c67399"
      },
      "source": [
        "AR2 = AR.reshape(3,4)\r\n",
        "\r\n",
        "print(AR2)"
      ],
      "execution_count": 9,
      "outputs": [
        {
          "output_type": "stream",
          "text": [
            "[[ 1  2  3  4]\n",
            " [ 5  6  7  8]\n",
            " [ 9 10 11 12]]\n"
          ],
          "name": "stdout"
        }
      ]
    },
    {
      "cell_type": "code",
      "metadata": {
        "colab": {
          "base_uri": "https://localhost:8080/"
        },
        "id": "2j7ZpGBEjgdM",
        "outputId": "406e3902-f6df-45fa-84ac-396b75f793e4"
      },
      "source": [
        "AR2.shape"
      ],
      "execution_count": 10,
      "outputs": [
        {
          "output_type": "execute_result",
          "data": {
            "text/plain": [
              "(3, 4)"
            ]
          },
          "metadata": {
            "tags": []
          },
          "execution_count": 10
        }
      ]
    },
    {
      "cell_type": "markdown",
      "metadata": {
        "id": "n6_7QF2CjnPQ"
      },
      "source": [
        "> 3. reshape(3,2,2)\r\n",
        "* .reshape(축,행,열)"
      ]
    },
    {
      "cell_type": "code",
      "metadata": {
        "colab": {
          "base_uri": "https://localhost:8080/"
        },
        "id": "cMLJpa-Ljif7",
        "outputId": "e25b9cc4-5c24-4d86-db61-919c1cb0fb1c"
      },
      "source": [
        "AR3 = AR.reshape(3,2,2)\r\n",
        "\r\n",
        "print(AR3)"
      ],
      "execution_count": 11,
      "outputs": [
        {
          "output_type": "stream",
          "text": [
            "[[[ 1  2]\n",
            "  [ 3  4]]\n",
            "\n",
            " [[ 5  6]\n",
            "  [ 7  8]]\n",
            "\n",
            " [[ 9 10]\n",
            "  [11 12]]]\n"
          ],
          "name": "stdout"
        }
      ]
    },
    {
      "cell_type": "code",
      "metadata": {
        "colab": {
          "base_uri": "https://localhost:8080/"
        },
        "id": "bfy_QzeRjvhE",
        "outputId": "85f80ed7-bce2-41b6-a5a6-fd62243f808a"
      },
      "source": [
        "AR3.shape"
      ],
      "execution_count": 12,
      "outputs": [
        {
          "output_type": "execute_result",
          "data": {
            "text/plain": [
              "(3, 2, 2)"
            ]
          },
          "metadata": {
            "tags": []
          },
          "execution_count": 12
        }
      ]
    },
    {
      "cell_type": "markdown",
      "metadata": {
        "id": "1c9-Aqzfj0d_"
      },
      "source": [
        "> 4) 범위 지정(arange) 함수 사용\r\n",
        "1. 10개의 연속된 값 생성"
      ]
    },
    {
      "cell_type": "code",
      "metadata": {
        "colab": {
          "base_uri": "https://localhost:8080/"
        },
        "id": "r2vnJvudjyr3",
        "outputId": "df0c086b-6231-425f-a913-98428aeabda9"
      },
      "source": [
        "np.arange(10)"
      ],
      "execution_count": 13,
      "outputs": [
        {
          "output_type": "execute_result",
          "data": {
            "text/plain": [
              "array([0, 1, 2, 3, 4, 5, 6, 7, 8, 9])"
            ]
          },
          "metadata": {
            "tags": []
          },
          "execution_count": 13
        }
      ]
    },
    {
      "cell_type": "markdown",
      "metadata": {
        "id": "G3hDb9ygj99F"
      },
      "source": [
        "> 2. 1부터 9까지 1간격으로 생성"
      ]
    },
    {
      "cell_type": "code",
      "metadata": {
        "colab": {
          "base_uri": "https://localhost:8080/"
        },
        "id": "2va_VUghj8Il",
        "outputId": "14be4d88-d49e-4ec8-db29-bdc22fbe9c36"
      },
      "source": [
        "np.arange(1,10)"
      ],
      "execution_count": 14,
      "outputs": [
        {
          "output_type": "execute_result",
          "data": {
            "text/plain": [
              "array([1, 2, 3, 4, 5, 6, 7, 8, 9])"
            ]
          },
          "metadata": {
            "tags": []
          },
          "execution_count": 14
        }
      ]
    },
    {
      "cell_type": "markdown",
      "metadata": {
        "id": "pYGlhoTDkDwc"
      },
      "source": [
        "> 3. 1부터 9까지 2간격으로 생성"
      ]
    },
    {
      "cell_type": "code",
      "metadata": {
        "colab": {
          "base_uri": "https://localhost:8080/"
        },
        "id": "sPaGHyK_kBus",
        "outputId": "5997fd55-44ff-4488-b6f5-560916190637"
      },
      "source": [
        "np.arange(1,10,2)"
      ],
      "execution_count": 15,
      "outputs": [
        {
          "output_type": "execute_result",
          "data": {
            "text/plain": [
              "array([1, 3, 5, 7, 9])"
            ]
          },
          "metadata": {
            "tags": []
          },
          "execution_count": 15
        }
      ]
    },
    {
      "cell_type": "markdown",
      "metadata": {
        "id": "HbfexKAmkNKt"
      },
      "source": [
        "> 4. 생성된 Array에 .reshape() 적용"
      ]
    },
    {
      "cell_type": "code",
      "metadata": {
        "colab": {
          "base_uri": "https://localhost:8080/"
        },
        "id": "e-PonH5MkHtE",
        "outputId": "471cdf6f-acc7-4636-b882-9e213e9a122d"
      },
      "source": [
        "np.arange(1,10).reshape(3,3)"
      ],
      "execution_count": 16,
      "outputs": [
        {
          "output_type": "execute_result",
          "data": {
            "text/plain": [
              "array([[1, 2, 3],\n",
              "       [4, 5, 6],\n",
              "       [7, 8, 9]])"
            ]
          },
          "metadata": {
            "tags": []
          },
          "execution_count": 16
        }
      ]
    },
    {
      "cell_type": "markdown",
      "metadata": {
        "id": "MyiCoIjCkVrW"
      },
      "source": [
        "> 5) 특별한 형태의 Array 생성\r\n",
        "1. 0과 1로만 구성된 Array"
      ]
    },
    {
      "cell_type": "code",
      "metadata": {
        "colab": {
          "base_uri": "https://localhost:8080/"
        },
        "id": "MbJeVUcnkTyu",
        "outputId": "9fd20f4c-aff1-48e3-bb87-5d3e264d8b8a"
      },
      "source": [
        "np.zeros(9)"
      ],
      "execution_count": 17,
      "outputs": [
        {
          "output_type": "execute_result",
          "data": {
            "text/plain": [
              "array([0., 0., 0., 0., 0., 0., 0., 0., 0.])"
            ]
          },
          "metadata": {
            "tags": []
          },
          "execution_count": 17
        }
      ]
    },
    {
      "cell_type": "code",
      "metadata": {
        "colab": {
          "base_uri": "https://localhost:8080/"
        },
        "id": "DZ2sFtPZkej4",
        "outputId": "59b2f997-51fc-4823-f28f-f9cc7cdc366b"
      },
      "source": [
        "np.ones(9)"
      ],
      "execution_count": 18,
      "outputs": [
        {
          "output_type": "execute_result",
          "data": {
            "text/plain": [
              "array([1., 1., 1., 1., 1., 1., 1., 1., 1.])"
            ]
          },
          "metadata": {
            "tags": []
          },
          "execution_count": 18
        }
      ]
    },
    {
      "cell_type": "code",
      "metadata": {
        "colab": {
          "base_uri": "https://localhost:8080/"
        },
        "id": "0NG1brKSkgGY",
        "outputId": "95ffb5bb-faa2-45cf-ed34-5d9d5030ede4"
      },
      "source": [
        "np.zeros([3,4])"
      ],
      "execution_count": 19,
      "outputs": [
        {
          "output_type": "execute_result",
          "data": {
            "text/plain": [
              "array([[0., 0., 0., 0.],\n",
              "       [0., 0., 0., 0.],\n",
              "       [0., 0., 0., 0.]])"
            ]
          },
          "metadata": {
            "tags": []
          },
          "execution_count": 19
        }
      ]
    },
    {
      "cell_type": "code",
      "metadata": {
        "colab": {
          "base_uri": "https://localhost:8080/"
        },
        "id": "680kOI2gkiaU",
        "outputId": "32fe298f-f563-4a49-e843-2f5357af281a"
      },
      "source": [
        "np.ones([4,3])"
      ],
      "execution_count": 20,
      "outputs": [
        {
          "output_type": "execute_result",
          "data": {
            "text/plain": [
              "array([[1., 1., 1.],\n",
              "       [1., 1., 1.],\n",
              "       [1., 1., 1.],\n",
              "       [1., 1., 1.]])"
            ]
          },
          "metadata": {
            "tags": []
          },
          "execution_count": 20
        }
      ]
    },
    {
      "cell_type": "markdown",
      "metadata": {
        "id": "4JMvFTqmkm5t"
      },
      "source": [
        "> 2. 3 X 3 단위행렬"
      ]
    },
    {
      "cell_type": "code",
      "metadata": {
        "colab": {
          "base_uri": "https://localhost:8080/"
        },
        "id": "P1riCzwIklXc",
        "outputId": "3122e4d8-ebd8-4975-b4dd-23808c294605"
      },
      "source": [
        "np.eye(3)"
      ],
      "execution_count": 21,
      "outputs": [
        {
          "output_type": "execute_result",
          "data": {
            "text/plain": [
              "array([[1., 0., 0.],\n",
              "       [0., 1., 0.],\n",
              "       [0., 0., 1.]])"
            ]
          },
          "metadata": {
            "tags": []
          },
          "execution_count": 21
        }
      ]
    },
    {
      "cell_type": "markdown",
      "metadata": {
        "id": "jToWU7RYku4J"
      },
      "source": [
        "> 3. 난수 Array 생성"
      ]
    },
    {
      "cell_type": "code",
      "metadata": {
        "colab": {
          "base_uri": "https://localhost:8080/"
        },
        "id": "ejPYXbV2kscM",
        "outputId": "c0fc2f32-e109-4063-e72c-db62bcbb5120"
      },
      "source": [
        "np.random.rand(3,2,2)"
      ],
      "execution_count": 22,
      "outputs": [
        {
          "output_type": "execute_result",
          "data": {
            "text/plain": [
              "array([[[0.09769818, 0.23652825],\n",
              "        [0.25715477, 0.77086407]],\n",
              "\n",
              "       [[0.00119801, 0.41796444],\n",
              "        [0.62046208, 0.94059204]],\n",
              "\n",
              "       [[0.94461006, 0.73934829],\n",
              "        [0.68727075, 0.1260313 ]]])"
            ]
          },
          "metadata": {
            "tags": []
          },
          "execution_count": 22
        }
      ]
    },
    {
      "cell_type": "code",
      "metadata": {
        "colab": {
          "base_uri": "https://localhost:8080/"
        },
        "id": "ZL2MghTnkzGP",
        "outputId": "a1a85673-00ae-4672-8dbb-7073c0879941"
      },
      "source": [
        "np.random.randint(1, 45, size = (5,6))"
      ],
      "execution_count": 23,
      "outputs": [
        {
          "output_type": "execute_result",
          "data": {
            "text/plain": [
              "array([[19,  4,  9,  3, 27, 31],\n",
              "       [14,  8, 12, 17, 43,  9],\n",
              "       [42,  4, 11, 29,  3, 41],\n",
              "       [24, 10, 26, 25, 44,  6],\n",
              "       [ 3, 42,  2, 18, 30, 27]])"
            ]
          },
          "metadata": {
            "tags": []
          },
          "execution_count": 23
        }
      ]
    },
    {
      "cell_type": "code",
      "metadata": {
        "id": "vR0klmYNk7GO"
      },
      "source": [
        "np.random.seed(2045)"
      ],
      "execution_count": 24,
      "outputs": []
    },
    {
      "cell_type": "code",
      "metadata": {
        "colab": {
          "base_uri": "https://localhost:8080/"
        },
        "id": "bFa6zztElKHj",
        "outputId": "81b80858-3d33-4f53-c60b-8d64578909f5"
      },
      "source": [
        "np.random.choice(np.arange(1,46), size = (5,6), replace = False)"
      ],
      "execution_count": 25,
      "outputs": [
        {
          "output_type": "execute_result",
          "data": {
            "text/plain": [
              "array([[ 7, 32,  6, 41,  4, 34],\n",
              "       [30, 28, 16,  5, 38, 33],\n",
              "       [31, 13, 25, 23, 43, 12],\n",
              "       [45,  8, 29, 22, 18,  9],\n",
              "       [21, 20, 40,  2, 37, 39]])"
            ]
          },
          "metadata": {
            "tags": []
          },
          "execution_count": 25
        }
      ]
    },
    {
      "cell_type": "markdown",
      "metadata": {
        "id": "VVTrjmD2lh_c"
      },
      "source": [
        "> 6) Array 연산"
      ]
    },
    {
      "cell_type": "code",
      "metadata": {
        "id": "dkeHNxrvlR2I"
      },
      "source": [
        "a1 = np.array([1,3,5,7,9])\r\n",
        "a2 = np.array([10,30,50,70,90])"
      ],
      "execution_count": 26,
      "outputs": []
    },
    {
      "cell_type": "markdown",
      "metadata": {
        "id": "o1vs5JcZlqqu"
      },
      "source": [
        "> 1. 기본 연산"
      ]
    },
    {
      "cell_type": "code",
      "metadata": {
        "colab": {
          "base_uri": "https://localhost:8080/"
        },
        "id": "Z4p8siYWlp1r",
        "outputId": "3b859925-e210-4d43-c57a-d2cdf41ec99c"
      },
      "source": [
        "a1 + a2"
      ],
      "execution_count": 27,
      "outputs": [
        {
          "output_type": "execute_result",
          "data": {
            "text/plain": [
              "array([11, 33, 55, 77, 99])"
            ]
          },
          "metadata": {
            "tags": []
          },
          "execution_count": 27
        }
      ]
    },
    {
      "cell_type": "code",
      "metadata": {
        "colab": {
          "base_uri": "https://localhost:8080/"
        },
        "id": "_k9wap2Elthh",
        "outputId": "69f86d94-fc3b-4b98-8037-bf73f9ee09fc"
      },
      "source": [
        "a2 - a1"
      ],
      "execution_count": 28,
      "outputs": [
        {
          "output_type": "execute_result",
          "data": {
            "text/plain": [
              "array([ 9, 27, 45, 63, 81])"
            ]
          },
          "metadata": {
            "tags": []
          },
          "execution_count": 28
        }
      ]
    },
    {
      "cell_type": "code",
      "metadata": {
        "colab": {
          "base_uri": "https://localhost:8080/"
        },
        "id": "tR6xi5Jelu0H",
        "outputId": "af0016b1-486b-468b-fe88-0c818968d727"
      },
      "source": [
        "a1 * a2"
      ],
      "execution_count": 29,
      "outputs": [
        {
          "output_type": "execute_result",
          "data": {
            "text/plain": [
              "array([ 10,  90, 250, 490, 810])"
            ]
          },
          "metadata": {
            "tags": []
          },
          "execution_count": 29
        }
      ]
    },
    {
      "cell_type": "code",
      "metadata": {
        "colab": {
          "base_uri": "https://localhost:8080/"
        },
        "id": "I6Mdax_rlxPk",
        "outputId": "4ae5ea6e-8dd0-4abd-afa2-41af8f0a2bf3"
      },
      "source": [
        "a2 / a1"
      ],
      "execution_count": 30,
      "outputs": [
        {
          "output_type": "execute_result",
          "data": {
            "text/plain": [
              "array([10., 10., 10., 10., 10.])"
            ]
          },
          "metadata": {
            "tags": []
          },
          "execution_count": 30
        }
      ]
    },
    {
      "cell_type": "code",
      "metadata": {
        "colab": {
          "base_uri": "https://localhost:8080/"
        },
        "id": "j4T-3SxWlyYZ",
        "outputId": "76fa3fd6-2d06-4d1c-faf1-2f164abac90b"
      },
      "source": [
        "a1 * 3"
      ],
      "execution_count": 31,
      "outputs": [
        {
          "output_type": "execute_result",
          "data": {
            "text/plain": [
              "array([ 3,  9, 15, 21, 27])"
            ]
          },
          "metadata": {
            "tags": []
          },
          "execution_count": 31
        }
      ]
    },
    {
      "cell_type": "code",
      "metadata": {
        "colab": {
          "base_uri": "https://localhost:8080/"
        },
        "id": "UpHjDpTWlzb8",
        "outputId": "83439d7a-33e6-4717-ecb6-ab121501033a"
      },
      "source": [
        "a1 ** 2"
      ],
      "execution_count": 32,
      "outputs": [
        {
          "output_type": "execute_result",
          "data": {
            "text/plain": [
              "array([ 1,  9, 25, 49, 81])"
            ]
          },
          "metadata": {
            "tags": []
          },
          "execution_count": 32
        }
      ]
    },
    {
      "cell_type": "markdown",
      "metadata": {
        "id": "KXdl3eGol2bT"
      },
      "source": [
        "> 2. 통계량 연산\r\n",
        "* 총합"
      ]
    },
    {
      "cell_type": "code",
      "metadata": {
        "colab": {
          "base_uri": "https://localhost:8080/"
        },
        "id": "PtIY8GGol09q",
        "outputId": "007c7cd6-612f-4f9e-ff43-136ca4cb6f8b"
      },
      "source": [
        "a1.sum()"
      ],
      "execution_count": 33,
      "outputs": [
        {
          "output_type": "execute_result",
          "data": {
            "text/plain": [
              "25"
            ]
          },
          "metadata": {
            "tags": []
          },
          "execution_count": 33
        }
      ]
    },
    {
      "cell_type": "markdown",
      "metadata": {
        "id": "TZxrIIUnl9Nc"
      },
      "source": [
        "> * 평균"
      ]
    },
    {
      "cell_type": "code",
      "metadata": {
        "colab": {
          "base_uri": "https://localhost:8080/"
        },
        "id": "tZamrT3rl7td",
        "outputId": "4b13278a-94b7-47c5-c2eb-94c6a9c9bfff"
      },
      "source": [
        "a2.mean()"
      ],
      "execution_count": 34,
      "outputs": [
        {
          "output_type": "execute_result",
          "data": {
            "text/plain": [
              "50.0"
            ]
          },
          "metadata": {
            "tags": []
          },
          "execution_count": 34
        }
      ]
    },
    {
      "cell_type": "markdown",
      "metadata": {
        "id": "SB1dOdN-mBYQ"
      },
      "source": [
        "> * 분산"
      ]
    },
    {
      "cell_type": "code",
      "metadata": {
        "colab": {
          "base_uri": "https://localhost:8080/"
        },
        "id": "lNykvUz-l_4A",
        "outputId": "74e79af7-a8c6-4c30-8af9-fcdc066e22dc"
      },
      "source": [
        "a2.var()"
      ],
      "execution_count": 35,
      "outputs": [
        {
          "output_type": "execute_result",
          "data": {
            "text/plain": [
              "800.0"
            ]
          },
          "metadata": {
            "tags": []
          },
          "execution_count": 35
        }
      ]
    },
    {
      "cell_type": "markdown",
      "metadata": {
        "id": "aM-RNWltmGrK"
      },
      "source": [
        "> * 표준 편차"
      ]
    },
    {
      "cell_type": "code",
      "metadata": {
        "colab": {
          "base_uri": "https://localhost:8080/"
        },
        "id": "1tQ-WuZymFek",
        "outputId": "29d2aa34-ab4f-4b94-d426-0d305244d28d"
      },
      "source": [
        "a2.std()"
      ],
      "execution_count": 36,
      "outputs": [
        {
          "output_type": "execute_result",
          "data": {
            "text/plain": [
              "28.284271247461902"
            ]
          },
          "metadata": {
            "tags": []
          },
          "execution_count": 36
        }
      ]
    },
    {
      "cell_type": "markdown",
      "metadata": {
        "id": "lmSmvRlimKPJ"
      },
      "source": [
        "> * 최소값"
      ]
    },
    {
      "cell_type": "code",
      "metadata": {
        "colab": {
          "base_uri": "https://localhost:8080/"
        },
        "id": "OJK0WgNJmJNa",
        "outputId": "e588bf42-ac88-48ec-c999-22e423525a7e"
      },
      "source": [
        "a2.min()"
      ],
      "execution_count": 37,
      "outputs": [
        {
          "output_type": "execute_result",
          "data": {
            "text/plain": [
              "10"
            ]
          },
          "metadata": {
            "tags": []
          },
          "execution_count": 37
        }
      ]
    },
    {
      "cell_type": "markdown",
      "metadata": {
        "id": "m-a6BGVsmPSl"
      },
      "source": [
        "> * 최대값"
      ]
    },
    {
      "cell_type": "code",
      "metadata": {
        "colab": {
          "base_uri": "https://localhost:8080/"
        },
        "id": "99tsoHNPmOd4",
        "outputId": "906e320f-7d97-475d-b892-00b1f25d4efd"
      },
      "source": [
        "a2.max()"
      ],
      "execution_count": 38,
      "outputs": [
        {
          "output_type": "execute_result",
          "data": {
            "text/plain": [
              "90"
            ]
          },
          "metadata": {
            "tags": []
          },
          "execution_count": 38
        }
      ]
    },
    {
      "cell_type": "markdown",
      "metadata": {
        "id": "Cx5uSg_lmSO4"
      },
      "source": [
        "> * 누적(Cumulative)합"
      ]
    },
    {
      "cell_type": "code",
      "metadata": {
        "colab": {
          "base_uri": "https://localhost:8080/"
        },
        "id": "XyyKL-_4mRMn",
        "outputId": "ac070728-2a67-4ef3-d3aa-43fd0440132d"
      },
      "source": [
        "a1.cumsum()"
      ],
      "execution_count": 39,
      "outputs": [
        {
          "output_type": "execute_result",
          "data": {
            "text/plain": [
              "array([ 1,  4,  9, 16, 25])"
            ]
          },
          "metadata": {
            "tags": []
          },
          "execution_count": 39
        }
      ]
    },
    {
      "cell_type": "markdown",
      "metadata": {
        "id": "Av2POGjWmXrI"
      },
      "source": [
        "> * 누적(Cumulative)곱"
      ]
    },
    {
      "cell_type": "code",
      "metadata": {
        "colab": {
          "base_uri": "https://localhost:8080/"
        },
        "id": "niFWBrmjmWP8",
        "outputId": "01cb7468-eb38-436e-97ee-a7fb86b5396e"
      },
      "source": [
        "a1.cumprod()"
      ],
      "execution_count": 40,
      "outputs": [
        {
          "output_type": "execute_result",
          "data": {
            "text/plain": [
              "array([  1,   3,  15, 105, 945])"
            ]
          },
          "metadata": {
            "tags": []
          },
          "execution_count": 40
        }
      ]
    },
    {
      "cell_type": "markdown",
      "metadata": {
        "id": "-KQZ8bKzmiMT"
      },
      "source": [
        "> 7) Matrix 연산\r\n",
        "* A1, A2 지정"
      ]
    },
    {
      "cell_type": "code",
      "metadata": {
        "id": "yROxULQMmb66"
      },
      "source": [
        "A1 = np.array([2,4,6,8]).reshape(2,2)"
      ],
      "execution_count": 41,
      "outputs": []
    },
    {
      "cell_type": "code",
      "metadata": {
        "colab": {
          "base_uri": "https://localhost:8080/"
        },
        "id": "AAwdVV4ymf8P",
        "outputId": "1c478579-2738-472c-a857-0da6e27c7768"
      },
      "source": [
        "print(A1)"
      ],
      "execution_count": 42,
      "outputs": [
        {
          "output_type": "stream",
          "text": [
            "[[2 4]\n",
            " [6 8]]\n"
          ],
          "name": "stdout"
        }
      ]
    },
    {
      "cell_type": "code",
      "metadata": {
        "id": "DmV4UXZKmo5J"
      },
      "source": [
        "A2 = np.array([3,5,7,9]).reshape(2,2)"
      ],
      "execution_count": 43,
      "outputs": []
    },
    {
      "cell_type": "code",
      "metadata": {
        "colab": {
          "base_uri": "https://localhost:8080/"
        },
        "id": "kBi0ZhQPmvWd",
        "outputId": "0b95b3e5-aaf3-4dcd-b5cd-a9043c541c27"
      },
      "source": [
        "print(A2)"
      ],
      "execution_count": 44,
      "outputs": [
        {
          "output_type": "stream",
          "text": [
            "[[3 5]\n",
            " [7 9]]\n"
          ],
          "name": "stdout"
        }
      ]
    },
    {
      "cell_type": "markdown",
      "metadata": {
        "id": "5b7AX_vzmxVH"
      },
      "source": [
        "> 1. Matrix 곱 - > A1 @ A2\r\n",
        "* A1 @ A2"
      ]
    },
    {
      "cell_type": "code",
      "metadata": {
        "colab": {
          "base_uri": "https://localhost:8080/"
        },
        "id": "qeWXuy2jmwAX",
        "outputId": "c492120b-7827-4e9d-e547-ad69d0026608"
      },
      "source": [
        "A1.dot(A2)"
      ],
      "execution_count": 45,
      "outputs": [
        {
          "output_type": "execute_result",
          "data": {
            "text/plain": [
              "array([[ 34,  46],\n",
              "       [ 74, 102]])"
            ]
          },
          "metadata": {
            "tags": []
          },
          "execution_count": 45
        }
      ]
    },
    {
      "cell_type": "markdown",
      "metadata": {
        "id": "j49wppWLm680"
      },
      "source": [
        "> * A2 @ A1"
      ]
    },
    {
      "cell_type": "code",
      "metadata": {
        "colab": {
          "base_uri": "https://localhost:8080/"
        },
        "id": "IYbiD2Fvm514",
        "outputId": "8d97b726-3a4d-47b0-9ad0-d7e406266232"
      },
      "source": [
        "np.dot(A2,A1)"
      ],
      "execution_count": 46,
      "outputs": [
        {
          "output_type": "execute_result",
          "data": {
            "text/plain": [
              "array([[ 36,  52],\n",
              "       [ 68, 100]])"
            ]
          },
          "metadata": {
            "tags": []
          },
          "execution_count": 46
        }
      ]
    },
    {
      "cell_type": "markdown",
      "metadata": {
        "id": "tRIbibuinBC_"
      },
      "source": [
        "> * Warning! : A1 * A2"
      ]
    },
    {
      "cell_type": "code",
      "metadata": {
        "colab": {
          "base_uri": "https://localhost:8080/"
        },
        "id": "suhuZZqum_Ju",
        "outputId": "240f8dbb-9032-42e5-a96c-424ddae5a713"
      },
      "source": [
        "A1 * A2"
      ],
      "execution_count": 47,
      "outputs": [
        {
          "output_type": "execute_result",
          "data": {
            "text/plain": [
              "array([[ 6, 20],\n",
              "       [42, 72]])"
            ]
          },
          "metadata": {
            "tags": []
          },
          "execution_count": 47
        }
      ]
    },
    {
      "cell_type": "markdown",
      "metadata": {
        "id": "uWcDC7mynIAY"
      },
      "source": [
        "> 2. 전치행렬\r\n",
        "* A1의 전치 행렬"
      ]
    },
    {
      "cell_type": "code",
      "metadata": {
        "colab": {
          "base_uri": "https://localhost:8080/"
        },
        "id": "vxCkAd8HnFSH",
        "outputId": "f709383d-e585-4165-9da3-1db6a97e05c0"
      },
      "source": [
        "np.transpose(A1)"
      ],
      "execution_count": 48,
      "outputs": [
        {
          "output_type": "execute_result",
          "data": {
            "text/plain": [
              "array([[2, 6],\n",
              "       [4, 8]])"
            ]
          },
          "metadata": {
            "tags": []
          },
          "execution_count": 48
        }
      ]
    },
    {
      "cell_type": "markdown",
      "metadata": {
        "id": "w3CB7tYunN3L"
      },
      "source": [
        "> * A2의 전치 행렬"
      ]
    },
    {
      "cell_type": "code",
      "metadata": {
        "colab": {
          "base_uri": "https://localhost:8080/"
        },
        "id": "_x3CX9r-nMTB",
        "outputId": "583afdf4-f304-4aea-c63d-abccec12c700"
      },
      "source": [
        "A2.transpose()"
      ],
      "execution_count": 49,
      "outputs": [
        {
          "output_type": "execute_result",
          "data": {
            "text/plain": [
              "array([[3, 7],\n",
              "       [5, 9]])"
            ]
          },
          "metadata": {
            "tags": []
          },
          "execution_count": 49
        }
      ]
    },
    {
      "cell_type": "markdown",
      "metadata": {
        "id": "GrTj61axnUnX"
      },
      "source": [
        "# 2. pandas\r\n",
        "> 1) File Upload to Colab\r\n",
        "* Colab 가상환경에 파일 올리기\r\n",
        "* Colab 종료 시 파일은 삭제됨\r\n",
        "* Local_Disk to Colab_Linux_File_System\r\n",
        "  * PII.csv & PII.xlsx\r\n",
        "* 업로드 된 파일 확인"
      ]
    },
    {
      "cell_type": "code",
      "metadata": {
        "colab": {
          "base_uri": "https://localhost:8080/"
        },
        "id": "i6VC6w19nSEp",
        "outputId": "b109c045-d3d5-468a-9ccd-5d9c38bbe884"
      },
      "source": [
        "!ls -l"
      ],
      "execution_count": 50,
      "outputs": [
        {
          "output_type": "stream",
          "text": [
            "total 20\n",
            "-rw-r--r-- 1 root root   723 Feb 23 01:12 PII.csv\n",
            "-rw-r--r-- 1 root root 11370 Feb 23 01:12 PII.xlsx\n",
            "drwxr-xr-x 1 root root  4096 Feb 16 16:35 sample_data\n"
          ],
          "name": "stdout"
        }
      ]
    },
    {
      "cell_type": "markdown",
      "metadata": {
        "id": "CKueMrzl3pkg"
      },
      "source": [
        "> 2) pandas - DataFrame\r\n",
        "1. with PII.csv"
      ]
    },
    {
      "cell_type": "code",
      "metadata": {
        "id": "mi4LzHq33m07"
      },
      "source": [
        "import pandas as pd"
      ],
      "execution_count": 51,
      "outputs": []
    },
    {
      "cell_type": "code",
      "metadata": {
        "id": "lxaFdq6z3wZ2"
      },
      "source": [
        "DF1 = pd.read_csv('PII.csv')"
      ],
      "execution_count": 52,
      "outputs": []
    },
    {
      "cell_type": "code",
      "metadata": {
        "colab": {
          "base_uri": "https://localhost:8080/",
          "height": 546
        },
        "id": "SKKVCr1530bN",
        "outputId": "da037f8f-17f2-4942-cc19-21c4ed0cfe5f"
      },
      "source": [
        "DF1"
      ],
      "execution_count": 53,
      "outputs": [
        {
          "output_type": "execute_result",
          "data": {
            "text/html": [
              "<div>\n",
              "<style scoped>\n",
              "    .dataframe tbody tr th:only-of-type {\n",
              "        vertical-align: middle;\n",
              "    }\n",
              "\n",
              "    .dataframe tbody tr th {\n",
              "        vertical-align: top;\n",
              "    }\n",
              "\n",
              "    .dataframe thead th {\n",
              "        text-align: right;\n",
              "    }\n",
              "</style>\n",
              "<table border=\"1\" class=\"dataframe\">\n",
              "  <thead>\n",
              "    <tr style=\"text-align: right;\">\n",
              "      <th></th>\n",
              "      <th>Name</th>\n",
              "      <th>Gender</th>\n",
              "      <th>Age</th>\n",
              "      <th>Grade</th>\n",
              "      <th>Picture</th>\n",
              "      <th>BloodType</th>\n",
              "      <th>Height</th>\n",
              "      <th>Weight</th>\n",
              "    </tr>\n",
              "  </thead>\n",
              "  <tbody>\n",
              "    <tr>\n",
              "      <th>0</th>\n",
              "      <td>송태섭</td>\n",
              "      <td>남자</td>\n",
              "      <td>21</td>\n",
              "      <td>3</td>\n",
              "      <td>무</td>\n",
              "      <td>B</td>\n",
              "      <td>179.1</td>\n",
              "      <td>63.9</td>\n",
              "    </tr>\n",
              "    <tr>\n",
              "      <th>1</th>\n",
              "      <td>최유정</td>\n",
              "      <td>여자</td>\n",
              "      <td>23</td>\n",
              "      <td>1</td>\n",
              "      <td>유</td>\n",
              "      <td>A</td>\n",
              "      <td>177.1</td>\n",
              "      <td>54.9</td>\n",
              "    </tr>\n",
              "    <tr>\n",
              "      <th>2</th>\n",
              "      <td>이한나</td>\n",
              "      <td>여자</td>\n",
              "      <td>20</td>\n",
              "      <td>1</td>\n",
              "      <td>무</td>\n",
              "      <td>A</td>\n",
              "      <td>167.9</td>\n",
              "      <td>50.2</td>\n",
              "    </tr>\n",
              "    <tr>\n",
              "      <th>3</th>\n",
              "      <td>김소혜</td>\n",
              "      <td>여자</td>\n",
              "      <td>23</td>\n",
              "      <td>3</td>\n",
              "      <td>무</td>\n",
              "      <td>O</td>\n",
              "      <td>176.1</td>\n",
              "      <td>53.5</td>\n",
              "    </tr>\n",
              "    <tr>\n",
              "      <th>4</th>\n",
              "      <td>서태웅</td>\n",
              "      <td>남자</td>\n",
              "      <td>24</td>\n",
              "      <td>4</td>\n",
              "      <td>무</td>\n",
              "      <td>B</td>\n",
              "      <td>176.1</td>\n",
              "      <td>79.8</td>\n",
              "    </tr>\n",
              "    <tr>\n",
              "      <th>5</th>\n",
              "      <td>정대만</td>\n",
              "      <td>남자</td>\n",
              "      <td>24</td>\n",
              "      <td>2</td>\n",
              "      <td>유</td>\n",
              "      <td>B</td>\n",
              "      <td>175.2</td>\n",
              "      <td>61.7</td>\n",
              "    </tr>\n",
              "    <tr>\n",
              "      <th>6</th>\n",
              "      <td>이정환</td>\n",
              "      <td>남자</td>\n",
              "      <td>22</td>\n",
              "      <td>4</td>\n",
              "      <td>무</td>\n",
              "      <td>B</td>\n",
              "      <td>169.1</td>\n",
              "      <td>69.8</td>\n",
              "    </tr>\n",
              "    <tr>\n",
              "      <th>7</th>\n",
              "      <td>채소연</td>\n",
              "      <td>여자</td>\n",
              "      <td>22</td>\n",
              "      <td>2</td>\n",
              "      <td>유</td>\n",
              "      <td>AB</td>\n",
              "      <td>169.9</td>\n",
              "      <td>52.7</td>\n",
              "    </tr>\n",
              "    <tr>\n",
              "      <th>8</th>\n",
              "      <td>강백호</td>\n",
              "      <td>남자</td>\n",
              "      <td>23</td>\n",
              "      <td>3</td>\n",
              "      <td>무</td>\n",
              "      <td>O</td>\n",
              "      <td>165.5</td>\n",
              "      <td>68.5</td>\n",
              "    </tr>\n",
              "    <tr>\n",
              "      <th>9</th>\n",
              "      <td>전소미</td>\n",
              "      <td>여자</td>\n",
              "      <td>22</td>\n",
              "      <td>2</td>\n",
              "      <td>유</td>\n",
              "      <td>O</td>\n",
              "      <td>161.9</td>\n",
              "      <td>52.3</td>\n",
              "    </tr>\n",
              "    <tr>\n",
              "      <th>10</th>\n",
              "      <td>변덕규</td>\n",
              "      <td>남자</td>\n",
              "      <td>21</td>\n",
              "      <td>1</td>\n",
              "      <td>무</td>\n",
              "      <td>A</td>\n",
              "      <td>163.2</td>\n",
              "      <td>55.5</td>\n",
              "    </tr>\n",
              "    <tr>\n",
              "      <th>11</th>\n",
              "      <td>정채연</td>\n",
              "      <td>여자</td>\n",
              "      <td>22</td>\n",
              "      <td>2</td>\n",
              "      <td>무</td>\n",
              "      <td>B</td>\n",
              "      <td>157.8</td>\n",
              "      <td>44.9</td>\n",
              "    </tr>\n",
              "    <tr>\n",
              "      <th>12</th>\n",
              "      <td>권준호</td>\n",
              "      <td>남자</td>\n",
              "      <td>24</td>\n",
              "      <td>4</td>\n",
              "      <td>유</td>\n",
              "      <td>O</td>\n",
              "      <td>166.9</td>\n",
              "      <td>61.7</td>\n",
              "    </tr>\n",
              "    <tr>\n",
              "      <th>13</th>\n",
              "      <td>채치수</td>\n",
              "      <td>남자</td>\n",
              "      <td>23</td>\n",
              "      <td>3</td>\n",
              "      <td>무</td>\n",
              "      <td>AB</td>\n",
              "      <td>181.8</td>\n",
              "      <td>85.9</td>\n",
              "    </tr>\n",
              "    <tr>\n",
              "      <th>14</th>\n",
              "      <td>윤대협</td>\n",
              "      <td>남자</td>\n",
              "      <td>22</td>\n",
              "      <td>2</td>\n",
              "      <td>유</td>\n",
              "      <td>AB</td>\n",
              "      <td>180.3</td>\n",
              "      <td>76.2</td>\n",
              "    </tr>\n",
              "    <tr>\n",
              "      <th>15</th>\n",
              "      <td>김세정</td>\n",
              "      <td>여자</td>\n",
              "      <td>21</td>\n",
              "      <td>1</td>\n",
              "      <td>무</td>\n",
              "      <td>O</td>\n",
              "      <td>155.5</td>\n",
              "      <td>44.9</td>\n",
              "    </tr>\n",
              "    <tr>\n",
              "      <th>16</th>\n",
              "      <td>신준섭</td>\n",
              "      <td>남자</td>\n",
              "      <td>23</td>\n",
              "      <td>1</td>\n",
              "      <td>무</td>\n",
              "      <td>A</td>\n",
              "      <td>168.9</td>\n",
              "      <td>62.7</td>\n",
              "    </tr>\n",
              "  </tbody>\n",
              "</table>\n",
              "</div>"
            ],
            "text/plain": [
              "   Name Gender  Age  Grade Picture BloodType  Height  Weight\n",
              "0   송태섭     남자   21      3       무         B   179.1    63.9\n",
              "1   최유정     여자   23      1       유         A   177.1    54.9\n",
              "2   이한나     여자   20      1       무         A   167.9    50.2\n",
              "3   김소혜     여자   23      3       무         O   176.1    53.5\n",
              "4   서태웅     남자   24      4       무         B   176.1    79.8\n",
              "5   정대만     남자   24      2       유         B   175.2    61.7\n",
              "6   이정환     남자   22      4       무         B   169.1    69.8\n",
              "7   채소연     여자   22      2       유        AB   169.9    52.7\n",
              "8   강백호     남자   23      3       무         O   165.5    68.5\n",
              "9   전소미     여자   22      2       유         O   161.9    52.3\n",
              "10  변덕규     남자   21      1       무         A   163.2    55.5\n",
              "11  정채연     여자   22      2       무         B   157.8    44.9\n",
              "12  권준호     남자   24      4       유         O   166.9    61.7\n",
              "13  채치수     남자   23      3       무        AB   181.8    85.9\n",
              "14  윤대협     남자   22      2       유        AB   180.3    76.2\n",
              "15  김세정     여자   21      1       무         O   155.5    44.9\n",
              "16  신준섭     남자   23      1       무         A   168.9    62.7"
            ]
          },
          "metadata": {
            "tags": []
          },
          "execution_count": 53
        }
      ]
    },
    {
      "cell_type": "markdown",
      "metadata": {
        "id": "I1Eix2pD34ZW"
      },
      "source": [
        "> 2. with PII.xlsx"
      ]
    },
    {
      "cell_type": "code",
      "metadata": {
        "id": "8dqAs0X231YX"
      },
      "source": [
        "DF2 = pd.read_excel('PII.xlsx')"
      ],
      "execution_count": 54,
      "outputs": []
    },
    {
      "cell_type": "code",
      "metadata": {
        "colab": {
          "base_uri": "https://localhost:8080/",
          "height": 546
        },
        "id": "q6l1g5Yk39yt",
        "outputId": "6f1c6449-be1e-412f-c0b9-370379deeee6"
      },
      "source": [
        "DF2"
      ],
      "execution_count": 55,
      "outputs": [
        {
          "output_type": "execute_result",
          "data": {
            "text/html": [
              "<div>\n",
              "<style scoped>\n",
              "    .dataframe tbody tr th:only-of-type {\n",
              "        vertical-align: middle;\n",
              "    }\n",
              "\n",
              "    .dataframe tbody tr th {\n",
              "        vertical-align: top;\n",
              "    }\n",
              "\n",
              "    .dataframe thead th {\n",
              "        text-align: right;\n",
              "    }\n",
              "</style>\n",
              "<table border=\"1\" class=\"dataframe\">\n",
              "  <thead>\n",
              "    <tr style=\"text-align: right;\">\n",
              "      <th></th>\n",
              "      <th>Name</th>\n",
              "      <th>Gender</th>\n",
              "      <th>Age</th>\n",
              "      <th>Grade</th>\n",
              "      <th>Picture</th>\n",
              "      <th>BloodType</th>\n",
              "      <th>Height</th>\n",
              "      <th>Weight</th>\n",
              "    </tr>\n",
              "  </thead>\n",
              "  <tbody>\n",
              "    <tr>\n",
              "      <th>0</th>\n",
              "      <td>송태섭</td>\n",
              "      <td>남자</td>\n",
              "      <td>21</td>\n",
              "      <td>3</td>\n",
              "      <td>무</td>\n",
              "      <td>B</td>\n",
              "      <td>179.1</td>\n",
              "      <td>63.9</td>\n",
              "    </tr>\n",
              "    <tr>\n",
              "      <th>1</th>\n",
              "      <td>최유정</td>\n",
              "      <td>여자</td>\n",
              "      <td>23</td>\n",
              "      <td>1</td>\n",
              "      <td>유</td>\n",
              "      <td>A</td>\n",
              "      <td>177.1</td>\n",
              "      <td>54.9</td>\n",
              "    </tr>\n",
              "    <tr>\n",
              "      <th>2</th>\n",
              "      <td>이한나</td>\n",
              "      <td>여자</td>\n",
              "      <td>20</td>\n",
              "      <td>1</td>\n",
              "      <td>무</td>\n",
              "      <td>A</td>\n",
              "      <td>167.9</td>\n",
              "      <td>50.2</td>\n",
              "    </tr>\n",
              "    <tr>\n",
              "      <th>3</th>\n",
              "      <td>김소혜</td>\n",
              "      <td>여자</td>\n",
              "      <td>23</td>\n",
              "      <td>3</td>\n",
              "      <td>무</td>\n",
              "      <td>O</td>\n",
              "      <td>176.1</td>\n",
              "      <td>53.5</td>\n",
              "    </tr>\n",
              "    <tr>\n",
              "      <th>4</th>\n",
              "      <td>서태웅</td>\n",
              "      <td>남자</td>\n",
              "      <td>24</td>\n",
              "      <td>4</td>\n",
              "      <td>무</td>\n",
              "      <td>B</td>\n",
              "      <td>176.1</td>\n",
              "      <td>79.8</td>\n",
              "    </tr>\n",
              "    <tr>\n",
              "      <th>5</th>\n",
              "      <td>정대만</td>\n",
              "      <td>남자</td>\n",
              "      <td>24</td>\n",
              "      <td>2</td>\n",
              "      <td>유</td>\n",
              "      <td>B</td>\n",
              "      <td>175.2</td>\n",
              "      <td>61.7</td>\n",
              "    </tr>\n",
              "    <tr>\n",
              "      <th>6</th>\n",
              "      <td>이정환</td>\n",
              "      <td>남자</td>\n",
              "      <td>22</td>\n",
              "      <td>4</td>\n",
              "      <td>무</td>\n",
              "      <td>B</td>\n",
              "      <td>169.1</td>\n",
              "      <td>69.8</td>\n",
              "    </tr>\n",
              "    <tr>\n",
              "      <th>7</th>\n",
              "      <td>채소연</td>\n",
              "      <td>여자</td>\n",
              "      <td>22</td>\n",
              "      <td>2</td>\n",
              "      <td>유</td>\n",
              "      <td>AB</td>\n",
              "      <td>169.9</td>\n",
              "      <td>52.7</td>\n",
              "    </tr>\n",
              "    <tr>\n",
              "      <th>8</th>\n",
              "      <td>강백호</td>\n",
              "      <td>남자</td>\n",
              "      <td>23</td>\n",
              "      <td>3</td>\n",
              "      <td>무</td>\n",
              "      <td>O</td>\n",
              "      <td>165.5</td>\n",
              "      <td>68.5</td>\n",
              "    </tr>\n",
              "    <tr>\n",
              "      <th>9</th>\n",
              "      <td>전소미</td>\n",
              "      <td>여자</td>\n",
              "      <td>22</td>\n",
              "      <td>2</td>\n",
              "      <td>유</td>\n",
              "      <td>O</td>\n",
              "      <td>161.9</td>\n",
              "      <td>52.3</td>\n",
              "    </tr>\n",
              "    <tr>\n",
              "      <th>10</th>\n",
              "      <td>변덕규</td>\n",
              "      <td>남자</td>\n",
              "      <td>21</td>\n",
              "      <td>1</td>\n",
              "      <td>무</td>\n",
              "      <td>A</td>\n",
              "      <td>163.2</td>\n",
              "      <td>55.5</td>\n",
              "    </tr>\n",
              "    <tr>\n",
              "      <th>11</th>\n",
              "      <td>정채연</td>\n",
              "      <td>여자</td>\n",
              "      <td>22</td>\n",
              "      <td>2</td>\n",
              "      <td>무</td>\n",
              "      <td>B</td>\n",
              "      <td>157.8</td>\n",
              "      <td>44.9</td>\n",
              "    </tr>\n",
              "    <tr>\n",
              "      <th>12</th>\n",
              "      <td>권준호</td>\n",
              "      <td>남자</td>\n",
              "      <td>24</td>\n",
              "      <td>4</td>\n",
              "      <td>유</td>\n",
              "      <td>O</td>\n",
              "      <td>166.9</td>\n",
              "      <td>61.7</td>\n",
              "    </tr>\n",
              "    <tr>\n",
              "      <th>13</th>\n",
              "      <td>채치수</td>\n",
              "      <td>남자</td>\n",
              "      <td>23</td>\n",
              "      <td>3</td>\n",
              "      <td>무</td>\n",
              "      <td>AB</td>\n",
              "      <td>181.8</td>\n",
              "      <td>85.9</td>\n",
              "    </tr>\n",
              "    <tr>\n",
              "      <th>14</th>\n",
              "      <td>윤대협</td>\n",
              "      <td>남자</td>\n",
              "      <td>22</td>\n",
              "      <td>2</td>\n",
              "      <td>유</td>\n",
              "      <td>AB</td>\n",
              "      <td>180.3</td>\n",
              "      <td>76.2</td>\n",
              "    </tr>\n",
              "    <tr>\n",
              "      <th>15</th>\n",
              "      <td>김세정</td>\n",
              "      <td>여자</td>\n",
              "      <td>21</td>\n",
              "      <td>1</td>\n",
              "      <td>무</td>\n",
              "      <td>O</td>\n",
              "      <td>155.5</td>\n",
              "      <td>44.9</td>\n",
              "    </tr>\n",
              "    <tr>\n",
              "      <th>16</th>\n",
              "      <td>신준섭</td>\n",
              "      <td>남자</td>\n",
              "      <td>23</td>\n",
              "      <td>1</td>\n",
              "      <td>무</td>\n",
              "      <td>A</td>\n",
              "      <td>168.9</td>\n",
              "      <td>62.7</td>\n",
              "    </tr>\n",
              "  </tbody>\n",
              "</table>\n",
              "</div>"
            ],
            "text/plain": [
              "   Name Gender  Age  Grade Picture BloodType  Height  Weight\n",
              "0   송태섭     남자   21      3       무         B   179.1    63.9\n",
              "1   최유정     여자   23      1       유         A   177.1    54.9\n",
              "2   이한나     여자   20      1       무         A   167.9    50.2\n",
              "3   김소혜     여자   23      3       무         O   176.1    53.5\n",
              "4   서태웅     남자   24      4       무         B   176.1    79.8\n",
              "5   정대만     남자   24      2       유         B   175.2    61.7\n",
              "6   이정환     남자   22      4       무         B   169.1    69.8\n",
              "7   채소연     여자   22      2       유        AB   169.9    52.7\n",
              "8   강백호     남자   23      3       무         O   165.5    68.5\n",
              "9   전소미     여자   22      2       유         O   161.9    52.3\n",
              "10  변덕규     남자   21      1       무         A   163.2    55.5\n",
              "11  정채연     여자   22      2       무         B   157.8    44.9\n",
              "12  권준호     남자   24      4       유         O   166.9    61.7\n",
              "13  채치수     남자   23      3       무        AB   181.8    85.9\n",
              "14  윤대협     남자   22      2       유        AB   180.3    76.2\n",
              "15  김세정     여자   21      1       무         O   155.5    44.9\n",
              "16  신준섭     남자   23      1       무         A   168.9    62.7"
            ]
          },
          "metadata": {
            "tags": []
          },
          "execution_count": 55
        }
      ]
    },
    {
      "cell_type": "markdown",
      "metadata": {
        "id": "gVNB6kZf4Ok7"
      },
      "source": [
        "> 3. Information"
      ]
    },
    {
      "cell_type": "code",
      "metadata": {
        "colab": {
          "base_uri": "https://localhost:8080/"
        },
        "id": "eKlqr95T3-pY",
        "outputId": "d09249a3-70bc-40af-afbc-50b8b3de28e7"
      },
      "source": [
        "type(DF1)"
      ],
      "execution_count": 56,
      "outputs": [
        {
          "output_type": "execute_result",
          "data": {
            "text/plain": [
              "pandas.core.frame.DataFrame"
            ]
          },
          "metadata": {
            "tags": []
          },
          "execution_count": 56
        }
      ]
    },
    {
      "cell_type": "code",
      "metadata": {
        "colab": {
          "base_uri": "https://localhost:8080/"
        },
        "id": "vWlLwwym4S6F",
        "outputId": "cf54c86e-cf5a-4478-df7b-9b29df817240"
      },
      "source": [
        "DF1.index"
      ],
      "execution_count": 57,
      "outputs": [
        {
          "output_type": "execute_result",
          "data": {
            "text/plain": [
              "RangeIndex(start=0, stop=17, step=1)"
            ]
          },
          "metadata": {
            "tags": []
          },
          "execution_count": 57
        }
      ]
    },
    {
      "cell_type": "code",
      "metadata": {
        "colab": {
          "base_uri": "https://localhost:8080/"
        },
        "id": "Llbh9Yt84UwE",
        "outputId": "29fe0842-9906-4532-bad8-ceeedceb89ad"
      },
      "source": [
        "DF1.columns"
      ],
      "execution_count": 58,
      "outputs": [
        {
          "output_type": "execute_result",
          "data": {
            "text/plain": [
              "Index(['Name', 'Gender', 'Age', 'Grade', 'Picture', 'BloodType', 'Height',\n",
              "       'Weight'],\n",
              "      dtype='object')"
            ]
          },
          "metadata": {
            "tags": []
          },
          "execution_count": 58
        }
      ]
    },
    {
      "cell_type": "code",
      "metadata": {
        "colab": {
          "base_uri": "https://localhost:8080/"
        },
        "id": "B9FLLzO44XQf",
        "outputId": "de021184-9169-4f66-cb12-d1eb1a3d25d9"
      },
      "source": [
        "DF1.values"
      ],
      "execution_count": 59,
      "outputs": [
        {
          "output_type": "execute_result",
          "data": {
            "text/plain": [
              "array([['송태섭', '남자', 21, 3, '무', 'B', 179.1, 63.9],\n",
              "       ['최유정', '여자', 23, 1, '유', 'A', 177.1, 54.9],\n",
              "       ['이한나', '여자', 20, 1, '무', 'A', 167.9, 50.2],\n",
              "       ['김소혜', '여자', 23, 3, '무', 'O', 176.1, 53.5],\n",
              "       ['서태웅', '남자', 24, 4, '무', 'B', 176.1, 79.8],\n",
              "       ['정대만', '남자', 24, 2, '유', 'B', 175.2, 61.7],\n",
              "       ['이정환', '남자', 22, 4, '무', 'B', 169.1, 69.8],\n",
              "       ['채소연', '여자', 22, 2, '유', 'AB', 169.9, 52.7],\n",
              "       ['강백호', '남자', 23, 3, '무', 'O', 165.5, 68.5],\n",
              "       ['전소미', '여자', 22, 2, '유', 'O', 161.9, 52.3],\n",
              "       ['변덕규', '남자', 21, 1, '무', 'A', 163.2, 55.5],\n",
              "       ['정채연', '여자', 22, 2, '무', 'B', 157.8, 44.9],\n",
              "       ['권준호', '남자', 24, 4, '유', 'O', 166.9, 61.7],\n",
              "       ['채치수', '남자', 23, 3, '무', 'AB', 181.8, 85.9],\n",
              "       ['윤대협', '남자', 22, 2, '유', 'AB', 180.3, 76.2],\n",
              "       ['김세정', '여자', 21, 1, '무', 'O', 155.5, 44.9],\n",
              "       ['신준섭', '남자', 23, 1, '무', 'A', 168.9, 62.7]], dtype=object)"
            ]
          },
          "metadata": {
            "tags": []
          },
          "execution_count": 59
        }
      ]
    },
    {
      "cell_type": "code",
      "metadata": {
        "colab": {
          "base_uri": "https://localhost:8080/"
        },
        "id": "5Y0YD5uT4aJQ",
        "outputId": "6afcd2e5-830b-4398-f75c-d30717d9510b"
      },
      "source": [
        "DF1.info()"
      ],
      "execution_count": 60,
      "outputs": [
        {
          "output_type": "stream",
          "text": [
            "<class 'pandas.core.frame.DataFrame'>\n",
            "RangeIndex: 17 entries, 0 to 16\n",
            "Data columns (total 8 columns):\n",
            " #   Column     Non-Null Count  Dtype  \n",
            "---  ------     --------------  -----  \n",
            " 0   Name       17 non-null     object \n",
            " 1   Gender     17 non-null     object \n",
            " 2   Age        17 non-null     int64  \n",
            " 3   Grade      17 non-null     int64  \n",
            " 4   Picture    17 non-null     object \n",
            " 5   BloodType  17 non-null     object \n",
            " 6   Height     17 non-null     float64\n",
            " 7   Weight     17 non-null     float64\n",
            "dtypes: float64(2), int64(2), object(4)\n",
            "memory usage: 1.2+ KB\n"
          ],
          "name": "stdout"
        }
      ]
    },
    {
      "cell_type": "markdown",
      "metadata": {
        "id": "tDXoeFbI4fFB"
      },
      "source": [
        "> 4. Function"
      ]
    },
    {
      "cell_type": "code",
      "metadata": {
        "colab": {
          "base_uri": "https://localhost:8080/",
          "height": 194
        },
        "id": "W9ozk9I14cT1",
        "outputId": "0f8955d4-0b04-4feb-84bf-2d5e7892c128"
      },
      "source": [
        "DF1.head()"
      ],
      "execution_count": 61,
      "outputs": [
        {
          "output_type": "execute_result",
          "data": {
            "text/html": [
              "<div>\n",
              "<style scoped>\n",
              "    .dataframe tbody tr th:only-of-type {\n",
              "        vertical-align: middle;\n",
              "    }\n",
              "\n",
              "    .dataframe tbody tr th {\n",
              "        vertical-align: top;\n",
              "    }\n",
              "\n",
              "    .dataframe thead th {\n",
              "        text-align: right;\n",
              "    }\n",
              "</style>\n",
              "<table border=\"1\" class=\"dataframe\">\n",
              "  <thead>\n",
              "    <tr style=\"text-align: right;\">\n",
              "      <th></th>\n",
              "      <th>Name</th>\n",
              "      <th>Gender</th>\n",
              "      <th>Age</th>\n",
              "      <th>Grade</th>\n",
              "      <th>Picture</th>\n",
              "      <th>BloodType</th>\n",
              "      <th>Height</th>\n",
              "      <th>Weight</th>\n",
              "    </tr>\n",
              "  </thead>\n",
              "  <tbody>\n",
              "    <tr>\n",
              "      <th>0</th>\n",
              "      <td>송태섭</td>\n",
              "      <td>남자</td>\n",
              "      <td>21</td>\n",
              "      <td>3</td>\n",
              "      <td>무</td>\n",
              "      <td>B</td>\n",
              "      <td>179.1</td>\n",
              "      <td>63.9</td>\n",
              "    </tr>\n",
              "    <tr>\n",
              "      <th>1</th>\n",
              "      <td>최유정</td>\n",
              "      <td>여자</td>\n",
              "      <td>23</td>\n",
              "      <td>1</td>\n",
              "      <td>유</td>\n",
              "      <td>A</td>\n",
              "      <td>177.1</td>\n",
              "      <td>54.9</td>\n",
              "    </tr>\n",
              "    <tr>\n",
              "      <th>2</th>\n",
              "      <td>이한나</td>\n",
              "      <td>여자</td>\n",
              "      <td>20</td>\n",
              "      <td>1</td>\n",
              "      <td>무</td>\n",
              "      <td>A</td>\n",
              "      <td>167.9</td>\n",
              "      <td>50.2</td>\n",
              "    </tr>\n",
              "    <tr>\n",
              "      <th>3</th>\n",
              "      <td>김소혜</td>\n",
              "      <td>여자</td>\n",
              "      <td>23</td>\n",
              "      <td>3</td>\n",
              "      <td>무</td>\n",
              "      <td>O</td>\n",
              "      <td>176.1</td>\n",
              "      <td>53.5</td>\n",
              "    </tr>\n",
              "    <tr>\n",
              "      <th>4</th>\n",
              "      <td>서태웅</td>\n",
              "      <td>남자</td>\n",
              "      <td>24</td>\n",
              "      <td>4</td>\n",
              "      <td>무</td>\n",
              "      <td>B</td>\n",
              "      <td>176.1</td>\n",
              "      <td>79.8</td>\n",
              "    </tr>\n",
              "  </tbody>\n",
              "</table>\n",
              "</div>"
            ],
            "text/plain": [
              "  Name Gender  Age  Grade Picture BloodType  Height  Weight\n",
              "0  송태섭     남자   21      3       무         B   179.1    63.9\n",
              "1  최유정     여자   23      1       유         A   177.1    54.9\n",
              "2  이한나     여자   20      1       무         A   167.9    50.2\n",
              "3  김소혜     여자   23      3       무         O   176.1    53.5\n",
              "4  서태웅     남자   24      4       무         B   176.1    79.8"
            ]
          },
          "metadata": {
            "tags": []
          },
          "execution_count": 61
        }
      ]
    },
    {
      "cell_type": "code",
      "metadata": {
        "colab": {
          "base_uri": "https://localhost:8080/",
          "height": 194
        },
        "id": "S718BGIl4jHg",
        "outputId": "e0f38582-2ed4-4313-a295-671fa1c2fd75"
      },
      "source": [
        "DF1[0:5]"
      ],
      "execution_count": 62,
      "outputs": [
        {
          "output_type": "execute_result",
          "data": {
            "text/html": [
              "<div>\n",
              "<style scoped>\n",
              "    .dataframe tbody tr th:only-of-type {\n",
              "        vertical-align: middle;\n",
              "    }\n",
              "\n",
              "    .dataframe tbody tr th {\n",
              "        vertical-align: top;\n",
              "    }\n",
              "\n",
              "    .dataframe thead th {\n",
              "        text-align: right;\n",
              "    }\n",
              "</style>\n",
              "<table border=\"1\" class=\"dataframe\">\n",
              "  <thead>\n",
              "    <tr style=\"text-align: right;\">\n",
              "      <th></th>\n",
              "      <th>Name</th>\n",
              "      <th>Gender</th>\n",
              "      <th>Age</th>\n",
              "      <th>Grade</th>\n",
              "      <th>Picture</th>\n",
              "      <th>BloodType</th>\n",
              "      <th>Height</th>\n",
              "      <th>Weight</th>\n",
              "    </tr>\n",
              "  </thead>\n",
              "  <tbody>\n",
              "    <tr>\n",
              "      <th>0</th>\n",
              "      <td>송태섭</td>\n",
              "      <td>남자</td>\n",
              "      <td>21</td>\n",
              "      <td>3</td>\n",
              "      <td>무</td>\n",
              "      <td>B</td>\n",
              "      <td>179.1</td>\n",
              "      <td>63.9</td>\n",
              "    </tr>\n",
              "    <tr>\n",
              "      <th>1</th>\n",
              "      <td>최유정</td>\n",
              "      <td>여자</td>\n",
              "      <td>23</td>\n",
              "      <td>1</td>\n",
              "      <td>유</td>\n",
              "      <td>A</td>\n",
              "      <td>177.1</td>\n",
              "      <td>54.9</td>\n",
              "    </tr>\n",
              "    <tr>\n",
              "      <th>2</th>\n",
              "      <td>이한나</td>\n",
              "      <td>여자</td>\n",
              "      <td>20</td>\n",
              "      <td>1</td>\n",
              "      <td>무</td>\n",
              "      <td>A</td>\n",
              "      <td>167.9</td>\n",
              "      <td>50.2</td>\n",
              "    </tr>\n",
              "    <tr>\n",
              "      <th>3</th>\n",
              "      <td>김소혜</td>\n",
              "      <td>여자</td>\n",
              "      <td>23</td>\n",
              "      <td>3</td>\n",
              "      <td>무</td>\n",
              "      <td>O</td>\n",
              "      <td>176.1</td>\n",
              "      <td>53.5</td>\n",
              "    </tr>\n",
              "    <tr>\n",
              "      <th>4</th>\n",
              "      <td>서태웅</td>\n",
              "      <td>남자</td>\n",
              "      <td>24</td>\n",
              "      <td>4</td>\n",
              "      <td>무</td>\n",
              "      <td>B</td>\n",
              "      <td>176.1</td>\n",
              "      <td>79.8</td>\n",
              "    </tr>\n",
              "  </tbody>\n",
              "</table>\n",
              "</div>"
            ],
            "text/plain": [
              "  Name Gender  Age  Grade Picture BloodType  Height  Weight\n",
              "0  송태섭     남자   21      3       무         B   179.1    63.9\n",
              "1  최유정     여자   23      1       유         A   177.1    54.9\n",
              "2  이한나     여자   20      1       무         A   167.9    50.2\n",
              "3  김소혜     여자   23      3       무         O   176.1    53.5\n",
              "4  서태웅     남자   24      4       무         B   176.1    79.8"
            ]
          },
          "metadata": {
            "tags": []
          },
          "execution_count": 62
        }
      ]
    },
    {
      "cell_type": "code",
      "metadata": {
        "colab": {
          "base_uri": "https://localhost:8080/",
          "height": 135
        },
        "id": "UUIman-H4mQe",
        "outputId": "d83d5400-7278-46d5-c624-ef4e70bf0221"
      },
      "source": [
        "DF1.tail(3)"
      ],
      "execution_count": 63,
      "outputs": [
        {
          "output_type": "execute_result",
          "data": {
            "text/html": [
              "<div>\n",
              "<style scoped>\n",
              "    .dataframe tbody tr th:only-of-type {\n",
              "        vertical-align: middle;\n",
              "    }\n",
              "\n",
              "    .dataframe tbody tr th {\n",
              "        vertical-align: top;\n",
              "    }\n",
              "\n",
              "    .dataframe thead th {\n",
              "        text-align: right;\n",
              "    }\n",
              "</style>\n",
              "<table border=\"1\" class=\"dataframe\">\n",
              "  <thead>\n",
              "    <tr style=\"text-align: right;\">\n",
              "      <th></th>\n",
              "      <th>Name</th>\n",
              "      <th>Gender</th>\n",
              "      <th>Age</th>\n",
              "      <th>Grade</th>\n",
              "      <th>Picture</th>\n",
              "      <th>BloodType</th>\n",
              "      <th>Height</th>\n",
              "      <th>Weight</th>\n",
              "    </tr>\n",
              "  </thead>\n",
              "  <tbody>\n",
              "    <tr>\n",
              "      <th>14</th>\n",
              "      <td>윤대협</td>\n",
              "      <td>남자</td>\n",
              "      <td>22</td>\n",
              "      <td>2</td>\n",
              "      <td>유</td>\n",
              "      <td>AB</td>\n",
              "      <td>180.3</td>\n",
              "      <td>76.2</td>\n",
              "    </tr>\n",
              "    <tr>\n",
              "      <th>15</th>\n",
              "      <td>김세정</td>\n",
              "      <td>여자</td>\n",
              "      <td>21</td>\n",
              "      <td>1</td>\n",
              "      <td>무</td>\n",
              "      <td>O</td>\n",
              "      <td>155.5</td>\n",
              "      <td>44.9</td>\n",
              "    </tr>\n",
              "    <tr>\n",
              "      <th>16</th>\n",
              "      <td>신준섭</td>\n",
              "      <td>남자</td>\n",
              "      <td>23</td>\n",
              "      <td>1</td>\n",
              "      <td>무</td>\n",
              "      <td>A</td>\n",
              "      <td>168.9</td>\n",
              "      <td>62.7</td>\n",
              "    </tr>\n",
              "  </tbody>\n",
              "</table>\n",
              "</div>"
            ],
            "text/plain": [
              "   Name Gender  Age  Grade Picture BloodType  Height  Weight\n",
              "14  윤대협     남자   22      2       유        AB   180.3    76.2\n",
              "15  김세정     여자   21      1       무         O   155.5    44.9\n",
              "16  신준섭     남자   23      1       무         A   168.9    62.7"
            ]
          },
          "metadata": {
            "tags": []
          },
          "execution_count": 63
        }
      ]
    },
    {
      "cell_type": "code",
      "metadata": {
        "colab": {
          "base_uri": "https://localhost:8080/",
          "height": 135
        },
        "id": "0isFhj1j4q0R",
        "outputId": "aaf4f5e0-91b6-48f4-9216-b3c1d17f253d"
      },
      "source": [
        "DF1[-3:]"
      ],
      "execution_count": 64,
      "outputs": [
        {
          "output_type": "execute_result",
          "data": {
            "text/html": [
              "<div>\n",
              "<style scoped>\n",
              "    .dataframe tbody tr th:only-of-type {\n",
              "        vertical-align: middle;\n",
              "    }\n",
              "\n",
              "    .dataframe tbody tr th {\n",
              "        vertical-align: top;\n",
              "    }\n",
              "\n",
              "    .dataframe thead th {\n",
              "        text-align: right;\n",
              "    }\n",
              "</style>\n",
              "<table border=\"1\" class=\"dataframe\">\n",
              "  <thead>\n",
              "    <tr style=\"text-align: right;\">\n",
              "      <th></th>\n",
              "      <th>Name</th>\n",
              "      <th>Gender</th>\n",
              "      <th>Age</th>\n",
              "      <th>Grade</th>\n",
              "      <th>Picture</th>\n",
              "      <th>BloodType</th>\n",
              "      <th>Height</th>\n",
              "      <th>Weight</th>\n",
              "    </tr>\n",
              "  </thead>\n",
              "  <tbody>\n",
              "    <tr>\n",
              "      <th>14</th>\n",
              "      <td>윤대협</td>\n",
              "      <td>남자</td>\n",
              "      <td>22</td>\n",
              "      <td>2</td>\n",
              "      <td>유</td>\n",
              "      <td>AB</td>\n",
              "      <td>180.3</td>\n",
              "      <td>76.2</td>\n",
              "    </tr>\n",
              "    <tr>\n",
              "      <th>15</th>\n",
              "      <td>김세정</td>\n",
              "      <td>여자</td>\n",
              "      <td>21</td>\n",
              "      <td>1</td>\n",
              "      <td>무</td>\n",
              "      <td>O</td>\n",
              "      <td>155.5</td>\n",
              "      <td>44.9</td>\n",
              "    </tr>\n",
              "    <tr>\n",
              "      <th>16</th>\n",
              "      <td>신준섭</td>\n",
              "      <td>남자</td>\n",
              "      <td>23</td>\n",
              "      <td>1</td>\n",
              "      <td>무</td>\n",
              "      <td>A</td>\n",
              "      <td>168.9</td>\n",
              "      <td>62.7</td>\n",
              "    </tr>\n",
              "  </tbody>\n",
              "</table>\n",
              "</div>"
            ],
            "text/plain": [
              "   Name Gender  Age  Grade Picture BloodType  Height  Weight\n",
              "14  윤대협     남자   22      2       유        AB   180.3    76.2\n",
              "15  김세정     여자   21      1       무         O   155.5    44.9\n",
              "16  신준섭     남자   23      1       무         A   168.9    62.7"
            ]
          },
          "metadata": {
            "tags": []
          },
          "execution_count": 64
        }
      ]
    },
    {
      "cell_type": "code",
      "metadata": {
        "colab": {
          "base_uri": "https://localhost:8080/",
          "height": 282
        },
        "id": "WHUwthY35D0_",
        "outputId": "ddeb9a78-771a-408d-eafe-f358d849d7ca"
      },
      "source": [
        "DF1.describe()"
      ],
      "execution_count": 65,
      "outputs": [
        {
          "output_type": "execute_result",
          "data": {
            "text/html": [
              "<div>\n",
              "<style scoped>\n",
              "    .dataframe tbody tr th:only-of-type {\n",
              "        vertical-align: middle;\n",
              "    }\n",
              "\n",
              "    .dataframe tbody tr th {\n",
              "        vertical-align: top;\n",
              "    }\n",
              "\n",
              "    .dataframe thead th {\n",
              "        text-align: right;\n",
              "    }\n",
              "</style>\n",
              "<table border=\"1\" class=\"dataframe\">\n",
              "  <thead>\n",
              "    <tr style=\"text-align: right;\">\n",
              "      <th></th>\n",
              "      <th>Age</th>\n",
              "      <th>Grade</th>\n",
              "      <th>Height</th>\n",
              "      <th>Weight</th>\n",
              "    </tr>\n",
              "  </thead>\n",
              "  <tbody>\n",
              "    <tr>\n",
              "      <th>count</th>\n",
              "      <td>17.000000</td>\n",
              "      <td>17.000000</td>\n",
              "      <td>17.000000</td>\n",
              "      <td>17.000000</td>\n",
              "    </tr>\n",
              "    <tr>\n",
              "      <th>mean</th>\n",
              "      <td>22.352941</td>\n",
              "      <td>2.294118</td>\n",
              "      <td>170.135294</td>\n",
              "      <td>61.123529</td>\n",
              "    </tr>\n",
              "    <tr>\n",
              "      <th>std</th>\n",
              "      <td>1.169464</td>\n",
              "      <td>1.104802</td>\n",
              "      <td>7.853896</td>\n",
              "      <td>11.867894</td>\n",
              "    </tr>\n",
              "    <tr>\n",
              "      <th>min</th>\n",
              "      <td>20.000000</td>\n",
              "      <td>1.000000</td>\n",
              "      <td>155.500000</td>\n",
              "      <td>44.900000</td>\n",
              "    </tr>\n",
              "    <tr>\n",
              "      <th>25%</th>\n",
              "      <td>22.000000</td>\n",
              "      <td>1.000000</td>\n",
              "      <td>165.500000</td>\n",
              "      <td>52.700000</td>\n",
              "    </tr>\n",
              "    <tr>\n",
              "      <th>50%</th>\n",
              "      <td>22.000000</td>\n",
              "      <td>2.000000</td>\n",
              "      <td>169.100000</td>\n",
              "      <td>61.700000</td>\n",
              "    </tr>\n",
              "    <tr>\n",
              "      <th>75%</th>\n",
              "      <td>23.000000</td>\n",
              "      <td>3.000000</td>\n",
              "      <td>176.100000</td>\n",
              "      <td>68.500000</td>\n",
              "    </tr>\n",
              "    <tr>\n",
              "      <th>max</th>\n",
              "      <td>24.000000</td>\n",
              "      <td>4.000000</td>\n",
              "      <td>181.800000</td>\n",
              "      <td>85.900000</td>\n",
              "    </tr>\n",
              "  </tbody>\n",
              "</table>\n",
              "</div>"
            ],
            "text/plain": [
              "             Age      Grade      Height     Weight\n",
              "count  17.000000  17.000000   17.000000  17.000000\n",
              "mean   22.352941   2.294118  170.135294  61.123529\n",
              "std     1.169464   1.104802    7.853896  11.867894\n",
              "min    20.000000   1.000000  155.500000  44.900000\n",
              "25%    22.000000   1.000000  165.500000  52.700000\n",
              "50%    22.000000   2.000000  169.100000  61.700000\n",
              "75%    23.000000   3.000000  176.100000  68.500000\n",
              "max    24.000000   4.000000  181.800000  85.900000"
            ]
          },
          "metadata": {
            "tags": []
          },
          "execution_count": 65
        }
      ]
    },
    {
      "cell_type": "code",
      "metadata": {
        "colab": {
          "base_uri": "https://localhost:8080/"
        },
        "id": "LIE7c99B5Hg-",
        "outputId": "5933e35a-d7c5-449d-fd7c-1806cd32f837"
      },
      "source": [
        "DF1.mean()"
      ],
      "execution_count": 66,
      "outputs": [
        {
          "output_type": "execute_result",
          "data": {
            "text/plain": [
              "Age        22.352941\n",
              "Grade       2.294118\n",
              "Height    170.135294\n",
              "Weight     61.123529\n",
              "dtype: float64"
            ]
          },
          "metadata": {
            "tags": []
          },
          "execution_count": 66
        }
      ]
    },
    {
      "cell_type": "markdown",
      "metadata": {
        "id": "mChAXHDI5MCn"
      },
      "source": [
        "> 3) pandas - Series\r\n",
        "1. Information"
      ]
    },
    {
      "cell_type": "code",
      "metadata": {
        "colab": {
          "base_uri": "https://localhost:8080/"
        },
        "id": "9Dqw6nbD5KQL",
        "outputId": "63d5c069-db0d-483b-f635-207f8c5179bf"
      },
      "source": [
        "type(DF1['Height'])"
      ],
      "execution_count": 67,
      "outputs": [
        {
          "output_type": "execute_result",
          "data": {
            "text/plain": [
              "pandas.core.series.Series"
            ]
          },
          "metadata": {
            "tags": []
          },
          "execution_count": 67
        }
      ]
    },
    {
      "cell_type": "code",
      "metadata": {
        "colab": {
          "base_uri": "https://localhost:8080/",
          "height": 546
        },
        "id": "fzJFjjky5TNr",
        "outputId": "6819ff79-d6a5-412d-bb38-9241d641fa85"
      },
      "source": [
        "DF1[['Height','Age']]"
      ],
      "execution_count": 68,
      "outputs": [
        {
          "output_type": "execute_result",
          "data": {
            "text/html": [
              "<div>\n",
              "<style scoped>\n",
              "    .dataframe tbody tr th:only-of-type {\n",
              "        vertical-align: middle;\n",
              "    }\n",
              "\n",
              "    .dataframe tbody tr th {\n",
              "        vertical-align: top;\n",
              "    }\n",
              "\n",
              "    .dataframe thead th {\n",
              "        text-align: right;\n",
              "    }\n",
              "</style>\n",
              "<table border=\"1\" class=\"dataframe\">\n",
              "  <thead>\n",
              "    <tr style=\"text-align: right;\">\n",
              "      <th></th>\n",
              "      <th>Height</th>\n",
              "      <th>Age</th>\n",
              "    </tr>\n",
              "  </thead>\n",
              "  <tbody>\n",
              "    <tr>\n",
              "      <th>0</th>\n",
              "      <td>179.1</td>\n",
              "      <td>21</td>\n",
              "    </tr>\n",
              "    <tr>\n",
              "      <th>1</th>\n",
              "      <td>177.1</td>\n",
              "      <td>23</td>\n",
              "    </tr>\n",
              "    <tr>\n",
              "      <th>2</th>\n",
              "      <td>167.9</td>\n",
              "      <td>20</td>\n",
              "    </tr>\n",
              "    <tr>\n",
              "      <th>3</th>\n",
              "      <td>176.1</td>\n",
              "      <td>23</td>\n",
              "    </tr>\n",
              "    <tr>\n",
              "      <th>4</th>\n",
              "      <td>176.1</td>\n",
              "      <td>24</td>\n",
              "    </tr>\n",
              "    <tr>\n",
              "      <th>5</th>\n",
              "      <td>175.2</td>\n",
              "      <td>24</td>\n",
              "    </tr>\n",
              "    <tr>\n",
              "      <th>6</th>\n",
              "      <td>169.1</td>\n",
              "      <td>22</td>\n",
              "    </tr>\n",
              "    <tr>\n",
              "      <th>7</th>\n",
              "      <td>169.9</td>\n",
              "      <td>22</td>\n",
              "    </tr>\n",
              "    <tr>\n",
              "      <th>8</th>\n",
              "      <td>165.5</td>\n",
              "      <td>23</td>\n",
              "    </tr>\n",
              "    <tr>\n",
              "      <th>9</th>\n",
              "      <td>161.9</td>\n",
              "      <td>22</td>\n",
              "    </tr>\n",
              "    <tr>\n",
              "      <th>10</th>\n",
              "      <td>163.2</td>\n",
              "      <td>21</td>\n",
              "    </tr>\n",
              "    <tr>\n",
              "      <th>11</th>\n",
              "      <td>157.8</td>\n",
              "      <td>22</td>\n",
              "    </tr>\n",
              "    <tr>\n",
              "      <th>12</th>\n",
              "      <td>166.9</td>\n",
              "      <td>24</td>\n",
              "    </tr>\n",
              "    <tr>\n",
              "      <th>13</th>\n",
              "      <td>181.8</td>\n",
              "      <td>23</td>\n",
              "    </tr>\n",
              "    <tr>\n",
              "      <th>14</th>\n",
              "      <td>180.3</td>\n",
              "      <td>22</td>\n",
              "    </tr>\n",
              "    <tr>\n",
              "      <th>15</th>\n",
              "      <td>155.5</td>\n",
              "      <td>21</td>\n",
              "    </tr>\n",
              "    <tr>\n",
              "      <th>16</th>\n",
              "      <td>168.9</td>\n",
              "      <td>23</td>\n",
              "    </tr>\n",
              "  </tbody>\n",
              "</table>\n",
              "</div>"
            ],
            "text/plain": [
              "    Height  Age\n",
              "0    179.1   21\n",
              "1    177.1   23\n",
              "2    167.9   20\n",
              "3    176.1   23\n",
              "4    176.1   24\n",
              "5    175.2   24\n",
              "6    169.1   22\n",
              "7    169.9   22\n",
              "8    165.5   23\n",
              "9    161.9   22\n",
              "10   163.2   21\n",
              "11   157.8   22\n",
              "12   166.9   24\n",
              "13   181.8   23\n",
              "14   180.3   22\n",
              "15   155.5   21\n",
              "16   168.9   23"
            ]
          },
          "metadata": {
            "tags": []
          },
          "execution_count": 68
        }
      ]
    },
    {
      "cell_type": "code",
      "metadata": {
        "colab": {
          "base_uri": "https://localhost:8080/"
        },
        "id": "CFlhTwGL5Wcl",
        "outputId": "89a76cb0-0e7a-46c8-d8ce-42213bd1dbaa"
      },
      "source": [
        "DF1.Height"
      ],
      "execution_count": 69,
      "outputs": [
        {
          "output_type": "execute_result",
          "data": {
            "text/plain": [
              "0     179.1\n",
              "1     177.1\n",
              "2     167.9\n",
              "3     176.1\n",
              "4     176.1\n",
              "5     175.2\n",
              "6     169.1\n",
              "7     169.9\n",
              "8     165.5\n",
              "9     161.9\n",
              "10    163.2\n",
              "11    157.8\n",
              "12    166.9\n",
              "13    181.8\n",
              "14    180.3\n",
              "15    155.5\n",
              "16    168.9\n",
              "Name: Height, dtype: float64"
            ]
          },
          "metadata": {
            "tags": []
          },
          "execution_count": 69
        }
      ]
    },
    {
      "cell_type": "markdown",
      "metadata": {
        "id": "eQr5dlLS5ajO"
      },
      "source": [
        "> 2) Function"
      ]
    },
    {
      "cell_type": "code",
      "metadata": {
        "colab": {
          "base_uri": "https://localhost:8080/"
        },
        "id": "mzzSd2bW5ZAL",
        "outputId": "0b182e99-916c-4c10-f9a3-6c0f00ce04cb"
      },
      "source": [
        "DF1['Height'].sum()"
      ],
      "execution_count": 70,
      "outputs": [
        {
          "output_type": "execute_result",
          "data": {
            "text/plain": [
              "2892.2999999999997"
            ]
          },
          "metadata": {
            "tags": []
          },
          "execution_count": 70
        }
      ]
    },
    {
      "cell_type": "code",
      "metadata": {
        "colab": {
          "base_uri": "https://localhost:8080/"
        },
        "id": "IW0IJkax5hBw",
        "outputId": "ef662e44-9add-4605-ee1d-1043e22bb64a"
      },
      "source": [
        "DF1['Height'].mean()"
      ],
      "execution_count": 71,
      "outputs": [
        {
          "output_type": "execute_result",
          "data": {
            "text/plain": [
              "170.1352941176471"
            ]
          },
          "metadata": {
            "tags": []
          },
          "execution_count": 71
        }
      ]
    },
    {
      "cell_type": "code",
      "metadata": {
        "colab": {
          "base_uri": "https://localhost:8080/"
        },
        "id": "rCHozR665kaL",
        "outputId": "c911eec1-2112-4b86-9b7c-87d46a55b6f9"
      },
      "source": [
        "DF1['Height'].var()"
      ],
      "execution_count": 72,
      "outputs": [
        {
          "output_type": "execute_result",
          "data": {
            "text/plain": [
              "61.683676470588225"
            ]
          },
          "metadata": {
            "tags": []
          },
          "execution_count": 72
        }
      ]
    },
    {
      "cell_type": "code",
      "metadata": {
        "colab": {
          "base_uri": "https://localhost:8080/"
        },
        "id": "YdLHcdJ35nVy",
        "outputId": "64ac83eb-3d68-4afe-ac8f-1ffbeabae887"
      },
      "source": [
        "DF1['Height'].std()"
      ],
      "execution_count": 73,
      "outputs": [
        {
          "output_type": "execute_result",
          "data": {
            "text/plain": [
              "7.8538956238664275"
            ]
          },
          "metadata": {
            "tags": []
          },
          "execution_count": 73
        }
      ]
    },
    {
      "cell_type": "code",
      "metadata": {
        "colab": {
          "base_uri": "https://localhost:8080/"
        },
        "id": "8R8ZjboC5rB1",
        "outputId": "11aa20ca-d854-4bea-bb27-45d829d137d2"
      },
      "source": [
        "DF1.Height.min()"
      ],
      "execution_count": 74,
      "outputs": [
        {
          "output_type": "execute_result",
          "data": {
            "text/plain": [
              "155.5"
            ]
          },
          "metadata": {
            "tags": []
          },
          "execution_count": 74
        }
      ]
    },
    {
      "cell_type": "code",
      "metadata": {
        "colab": {
          "base_uri": "https://localhost:8080/"
        },
        "id": "_mhc3Q1a5wzA",
        "outputId": "3a682921-6b80-4eca-a11b-3e05bbc50ae0"
      },
      "source": [
        "DF1.Height.max()"
      ],
      "execution_count": 75,
      "outputs": [
        {
          "output_type": "execute_result",
          "data": {
            "text/plain": [
              "181.8"
            ]
          },
          "metadata": {
            "tags": []
          },
          "execution_count": 75
        }
      ]
    },
    {
      "cell_type": "code",
      "metadata": {
        "colab": {
          "base_uri": "https://localhost:8080/",
          "height": 194
        },
        "id": "xNb9tAGC5y8r",
        "outputId": "550a0fe9-3c03-4442-fe86-f3bfb82a1efb"
      },
      "source": [
        "DF1.groupby(['BloodType']).mean()"
      ],
      "execution_count": 76,
      "outputs": [
        {
          "output_type": "execute_result",
          "data": {
            "text/html": [
              "<div>\n",
              "<style scoped>\n",
              "    .dataframe tbody tr th:only-of-type {\n",
              "        vertical-align: middle;\n",
              "    }\n",
              "\n",
              "    .dataframe tbody tr th {\n",
              "        vertical-align: top;\n",
              "    }\n",
              "\n",
              "    .dataframe thead th {\n",
              "        text-align: right;\n",
              "    }\n",
              "</style>\n",
              "<table border=\"1\" class=\"dataframe\">\n",
              "  <thead>\n",
              "    <tr style=\"text-align: right;\">\n",
              "      <th></th>\n",
              "      <th>Age</th>\n",
              "      <th>Grade</th>\n",
              "      <th>Height</th>\n",
              "      <th>Weight</th>\n",
              "    </tr>\n",
              "    <tr>\n",
              "      <th>BloodType</th>\n",
              "      <th></th>\n",
              "      <th></th>\n",
              "      <th></th>\n",
              "      <th></th>\n",
              "    </tr>\n",
              "  </thead>\n",
              "  <tbody>\n",
              "    <tr>\n",
              "      <th>A</th>\n",
              "      <td>21.750000</td>\n",
              "      <td>1.000000</td>\n",
              "      <td>169.275000</td>\n",
              "      <td>55.825</td>\n",
              "    </tr>\n",
              "    <tr>\n",
              "      <th>AB</th>\n",
              "      <td>22.333333</td>\n",
              "      <td>2.333333</td>\n",
              "      <td>177.333333</td>\n",
              "      <td>71.600</td>\n",
              "    </tr>\n",
              "    <tr>\n",
              "      <th>B</th>\n",
              "      <td>22.600000</td>\n",
              "      <td>3.000000</td>\n",
              "      <td>171.460000</td>\n",
              "      <td>64.020</td>\n",
              "    </tr>\n",
              "    <tr>\n",
              "      <th>O</th>\n",
              "      <td>22.600000</td>\n",
              "      <td>2.600000</td>\n",
              "      <td>165.180000</td>\n",
              "      <td>56.180</td>\n",
              "    </tr>\n",
              "  </tbody>\n",
              "</table>\n",
              "</div>"
            ],
            "text/plain": [
              "                 Age     Grade      Height  Weight\n",
              "BloodType                                         \n",
              "A          21.750000  1.000000  169.275000  55.825\n",
              "AB         22.333333  2.333333  177.333333  71.600\n",
              "B          22.600000  3.000000  171.460000  64.020\n",
              "O          22.600000  2.600000  165.180000  56.180"
            ]
          },
          "metadata": {
            "tags": []
          },
          "execution_count": 76
        }
      ]
    },
    {
      "cell_type": "code",
      "metadata": {
        "colab": {
          "base_uri": "https://localhost:8080/"
        },
        "id": "4hBs6Ilg54FI",
        "outputId": "e0e20bdb-9109-405d-f0a3-10a9fd14b781"
      },
      "source": [
        "DF1.groupby(['BloodType'])['Height'].mean()"
      ],
      "execution_count": 77,
      "outputs": [
        {
          "output_type": "execute_result",
          "data": {
            "text/plain": [
              "BloodType\n",
              "A     169.275000\n",
              "AB    177.333333\n",
              "B     171.460000\n",
              "O     165.180000\n",
              "Name: Height, dtype: float64"
            ]
          },
          "metadata": {
            "tags": []
          },
          "execution_count": 77
        }
      ]
    },
    {
      "cell_type": "markdown",
      "metadata": {
        "id": "dZIIlzMl5_hl"
      },
      "source": [
        "> 3. Indexing & Slicing"
      ]
    },
    {
      "cell_type": "code",
      "metadata": {
        "colab": {
          "base_uri": "https://localhost:8080/"
        },
        "id": "LF0fdY4g5-q2",
        "outputId": "cbf10a94-7ba6-4ca8-950a-502143e09190"
      },
      "source": [
        "DF1.Height[16]"
      ],
      "execution_count": 78,
      "outputs": [
        {
          "output_type": "execute_result",
          "data": {
            "text/plain": [
              "168.9"
            ]
          },
          "metadata": {
            "tags": []
          },
          "execution_count": 78
        }
      ]
    },
    {
      "cell_type": "code",
      "metadata": {
        "colab": {
          "base_uri": "https://localhost:8080/"
        },
        "id": "stIDthth6I1O",
        "outputId": "dc5c1e38-68ab-4fcd-b413-450325bbc0aa"
      },
      "source": [
        "DF1.Height[0:5]"
      ],
      "execution_count": 79,
      "outputs": [
        {
          "output_type": "execute_result",
          "data": {
            "text/plain": [
              "0    179.1\n",
              "1    177.1\n",
              "2    167.9\n",
              "3    176.1\n",
              "4    176.1\n",
              "Name: Height, dtype: float64"
            ]
          },
          "metadata": {
            "tags": []
          },
          "execution_count": 79
        }
      ]
    },
    {
      "cell_type": "markdown",
      "metadata": {
        "id": "80BaunwK6OAi"
      },
      "source": [
        "> 4) pandas - Visualization\r\n",
        "1. 선 그래프"
      ]
    },
    {
      "cell_type": "code",
      "metadata": {
        "id": "tQo0YAF26MmQ",
        "colab": {
          "base_uri": "https://localhost:8080/",
          "height": 283
        },
        "outputId": "e7f21c9a-12d2-499a-d9a1-876f2e158f2b"
      },
      "source": [
        "DF1[['Height']].plot(kind = 'line', grid = True)"
      ],
      "execution_count": 80,
      "outputs": [
        {
          "output_type": "execute_result",
          "data": {
            "text/plain": [
              "<matplotlib.axes._subplots.AxesSubplot at 0x7fcc502cdb70>"
            ]
          },
          "metadata": {
            "tags": []
          },
          "execution_count": 80
        },
        {
          "output_type": "display_data",
          "data": {
            "image/png": "[encoded data removed]",
            "text/plain": [
              "<Figure size 432x288 with 1 Axes>"
            ]
          },
          "metadata": {
            "tags": [],
            "needs_background": "light"
          }
        }
      ]
    },
    {
      "cell_type": "markdown",
      "metadata": {
        "id": "1T0aR7FJhFZ9"
      },
      "source": [
        "> 2. 막대 그래프"
      ]
    },
    {
      "cell_type": "code",
      "metadata": {
        "colab": {
          "base_uri": "https://localhost:8080/",
          "height": 286
        },
        "id": "aShbmlIHg_5C",
        "outputId": "398b1a9d-ef7a-475e-856b-24effbfd3e2c"
      },
      "source": [
        "DF1[['Height', 'Weight']].plot(kind = 'bar')"
      ],
      "execution_count": 82,
      "outputs": [
        {
          "output_type": "execute_result",
          "data": {
            "text/plain": [
              "<matplotlib.axes._subplots.AxesSubplot at 0x7fcc4810ebe0>"
            ]
          },
          "metadata": {
            "tags": []
          },
          "execution_count": 82
        },
        {
          "output_type": "display_data",
          "data": {
            "image/png": "[encoded data removed]",
            "text/plain": [
              "<Figure size 432x288 with 1 Axes>"
            ]
          },
          "metadata": {
            "tags": [],
            "needs_background": "light"
          }
        }
      ]
    },
    {
      "cell_type": "markdown",
      "metadata": {
        "id": "GKxgZ_K6hZMD"
      },
      "source": [
        "> 3. 히스토그램"
      ]
    },
    {
      "cell_type": "code",
      "metadata": {
        "colab": {
          "base_uri": "https://localhost:8080/",
          "height": 283
        },
        "id": "uGw3iaKnhV5q",
        "outputId": "8b1c429a-5350-44e7-853f-b0c67b6faf1c"
      },
      "source": [
        "DF1['Height'].plot(kind = 'hist', bins = 5, alpha = 0.5)"
      ],
      "execution_count": 83,
      "outputs": [
        {
          "output_type": "execute_result",
          "data": {
            "text/plain": [
              "<matplotlib.axes._subplots.AxesSubplot at 0x7fcc47f65668>"
            ]
          },
          "metadata": {
            "tags": []
          },
          "execution_count": 83
        },
        {
          "output_type": "display_data",
          "data": {
            "image/png": "[encoded data removed]",
            "text/plain": [
              "<Figure size 432x288 with 1 Axes>"
            ]
          },
          "metadata": {
            "tags": [],
            "needs_background": "light"
          }
        }
      ]
    },
    {
      "cell_type": "markdown",
      "metadata": {
        "id": "7iC47Kv-hiAa"
      },
      "source": [
        "> 4. 상자 그래프"
      ]
    },
    {
      "cell_type": "code",
      "metadata": {
        "colab": {
          "base_uri": "https://localhost:8080/",
          "height": 283
        },
        "id": "1DxxDI2-hhD-",
        "outputId": "40b45d34-267d-4335-92d2-cb0b8bef14bf"
      },
      "source": [
        "DF1['Height'].plot(kind = 'box')"
      ],
      "execution_count": 84,
      "outputs": [
        {
          "output_type": "execute_result",
          "data": {
            "text/plain": [
              "<matplotlib.axes._subplots.AxesSubplot at 0x7fcc47ff2c50>"
            ]
          },
          "metadata": {
            "tags": []
          },
          "execution_count": 84
        },
        {
          "output_type": "display_data",
          "data": {
            "image/png": "[encoded data removed]",
            "text/plain": [
              "<Figure size 432x288 with 1 Axes>"
            ]
          },
          "metadata": {
            "tags": [],
            "needs_background": "light"
          }
        }
      ]
    },
    {
      "cell_type": "markdown",
      "metadata": {
        "id": "j1p5oCajhqGs"
      },
      "source": [
        "> 5. 산점도"
      ]
    },
    {
      "cell_type": "code",
      "metadata": {
        "colab": {
          "base_uri": "https://localhost:8080/",
          "height": 297
        },
        "id": "__JXY6Jbhnxe",
        "outputId": "97935eb4-de5c-4043-f2e1-52c8cfaf2099"
      },
      "source": [
        "DF1[['Height','Weight']].plot(kind = 'scatter', x = 'Height', y = 'Weight', s = 50)"
      ],
      "execution_count": 85,
      "outputs": [
        {
          "output_type": "execute_result",
          "data": {
            "text/plain": [
              "<matplotlib.axes._subplots.AxesSubplot at 0x7fcc47eb12b0>"
            ]
          },
          "metadata": {
            "tags": []
          },
          "execution_count": 85
        },
        {
          "output_type": "display_data",
          "data": {
            "image/png": "[encoded data removed]",
            "text/plain": [
              "<Figure size 432x288 with 1 Axes>"
            ]
          },
          "metadata": {
            "tags": [],
            "needs_background": "light"
          }
        }
      ]
    },
    {
      "cell_type": "markdown",
      "metadata": {
        "id": "vGskVLg2h07g"
      },
      "source": [
        "> 6. 파이 그래프"
      ]
    },
    {
      "cell_type": "code",
      "metadata": {
        "colab": {
          "base_uri": "https://localhost:8080/",
          "height": 266
        },
        "id": "ZyjSv71Dhz3D",
        "outputId": "923623ef-7eba-493f-f5f0-ab24928cfe74"
      },
      "source": [
        "DF1.BloodType.value_counts().plot(kind = 'pie')"
      ],
      "execution_count": 86,
      "outputs": [
        {
          "output_type": "execute_result",
          "data": {
            "text/plain": [
              "<matplotlib.axes._subplots.AxesSubplot at 0x7fcc47e255f8>"
            ]
          },
          "metadata": {
            "tags": []
          },
          "execution_count": 86
        },
        {
          "output_type": "display_data",
          "data": {
            "image/png": "[encoded data removed]",
            "text/plain": [
              "<Figure size 432x288 with 1 Axes>"
            ]
          },
          "metadata": {
            "tags": []
          }
        }
      ]
    },
    {
      "cell_type": "markdown",
      "metadata": {
        "id": "2ezhn8XRh9dH"
      },
      "source": [
        "## 3. matplotlib"
      ]
    },
    {
      "cell_type": "code",
      "metadata": {
        "id": "5RAoGRv1h6-b"
      },
      "source": [
        "import pandas as pd\r\n",
        "import matplotlib.pyplot as plt\r\n"
      ],
      "execution_count": 87,
      "outputs": []
    },
    {
      "cell_type": "code",
      "metadata": {
        "id": "IbY5cCb4iELQ"
      },
      "source": [
        "DF1 = pd.read_csv('PII.csv')"
      ],
      "execution_count": 88,
      "outputs": []
    },
    {
      "cell_type": "markdown",
      "metadata": {
        "id": "uTIR8GtsiILv"
      },
      "source": [
        "> 1) 선 그래프"
      ]
    },
    {
      "cell_type": "code",
      "metadata": {
        "colab": {
          "base_uri": "https://localhost:8080/",
          "height": 374
        },
        "id": "oM3SZcNHiG17",
        "outputId": "ed7890b8-4249-4407-b8ef-0a72ab863381"
      },
      "source": [
        "plt.figure(figsize = (9, 6))\r\n",
        "plt.plot(DF1.Height)\r\n",
        "plt.grid(True)\r\n",
        "plt.show()"
      ],
      "execution_count": 89,
      "outputs": [
        {
          "output_type": "display_data",
          "data": {
            "image/png": "[encoded data removed]",
            "text/plain": [
              "<Figure size 648x432 with 1 Axes>"
            ]
          },
          "metadata": {
            "tags": [],
            "needs_background": "light"
          }
        }
      ]
    },
    {
      "cell_type": "markdown",
      "metadata": {
        "id": "5NPR8EhWiS-D"
      },
      "source": [
        "> 2) 막대 그래프"
      ]
    },
    {
      "cell_type": "code",
      "metadata": {
        "colab": {
          "base_uri": "https://localhost:8080/",
          "height": 265
        },
        "id": "-xn7lqPCiR0T",
        "outputId": "02d58a4c-bf45-40d5-8531-9dbc153fc73e"
      },
      "source": [
        "plt.bar(DF1.index, DF1.Height, width = 0.3, color = 'g')\r\n",
        "plt.show()"
      ],
      "execution_count": 90,
      "outputs": [
        {
          "output_type": "display_data",
          "data": {
            "image/png": "[encoded data removed]",
            "text/plain": [
              "<Figure size 432x288 with 1 Axes>"
            ]
          },
          "metadata": {
            "tags": [],
            "needs_background": "light"
          }
        }
      ]
    },
    {
      "cell_type": "markdown",
      "metadata": {
        "id": "EI9_8mjvifR8"
      },
      "source": [
        "> 3) 히스토그램"
      ]
    },
    {
      "cell_type": "code",
      "metadata": {
        "colab": {
          "base_uri": "https://localhost:8080/",
          "height": 265
        },
        "id": "KJLlBF14idCj",
        "outputId": "3f553bf4-9320-426d-f3df-10cf80d817b6"
      },
      "source": [
        "plt.hist(DF1.Height, bins = 5, alpha = 0.5)\r\n",
        "plt.show()"
      ],
      "execution_count": 91,
      "outputs": [
        {
          "output_type": "display_data",
          "data": {
            "image/png": "[encoded data removed]",
            "text/plain": [
              "<Figure size 432x288 with 1 Axes>"
            ]
          },
          "metadata": {
            "tags": [],
            "needs_background": "light"
          }
        }
      ]
    },
    {
      "cell_type": "markdown",
      "metadata": {
        "id": "XPf7atfZioh-"
      },
      "source": [
        "> 4) 상자 그래프"
      ]
    },
    {
      "cell_type": "code",
      "metadata": {
        "colab": {
          "base_uri": "https://localhost:8080/",
          "height": 265
        },
        "id": "siCoZ8AXim_E",
        "outputId": "41751bb2-5b72-43e3-f1f0-b48769bbfe59"
      },
      "source": [
        "plt.boxplot(DF1.Height)\r\n",
        "plt.show()"
      ],
      "execution_count": 92,
      "outputs": [
        {
          "output_type": "display_data",
          "data": {
            "image/png": "[encoded data removed]",
            "text/plain": [
              "<Figure size 432x288 with 1 Axes>"
            ]
          },
          "metadata": {
            "tags": [],
            "needs_background": "light"
          }
        }
      ]
    },
    {
      "cell_type": "markdown",
      "metadata": {
        "id": "PLSFywgXiugL"
      },
      "source": [
        "> 5) 산점도"
      ]
    },
    {
      "cell_type": "code",
      "metadata": {
        "colab": {
          "base_uri": "https://localhost:8080/",
          "height": 265
        },
        "id": "8PN8CkOvithw",
        "outputId": "8497229a-8264-41e2-fb25-c137672c5223"
      },
      "source": [
        "plt.scatter(DF1.Height, DF1.Weight, s = 50)\r\n",
        "plt.show()"
      ],
      "execution_count": 93,
      "outputs": [
        {
          "output_type": "display_data",
          "data": {
            "image/png": "[encoded data removed]",
            "text/plain": [
              "<Figure size 432x288 with 1 Axes>"
            ]
          },
          "metadata": {
            "tags": [],
            "needs_background": "light"
          }
        }
      ]
    },
    {
      "cell_type": "markdown",
      "metadata": {
        "id": "DkG6hxDFi279"
      },
      "source": [
        "> 6) 파이 그래프"
      ]
    },
    {
      "cell_type": "code",
      "metadata": {
        "colab": {
          "base_uri": "https://localhost:8080/",
          "height": 248
        },
        "id": "olYekgXwi08a",
        "outputId": "e13163d8-4d5c-4645-a509-29141734f23d"
      },
      "source": [
        "plt.pie(DF1.BloodType.value_counts(), labels = DF1.BloodType.unique(), autopct = '%.1f%%')\r\n",
        "plt.show()"
      ],
      "execution_count": 95,
      "outputs": [
        {
          "output_type": "display_data",
          "data": {
            "image/png": "[encoded data removed]",
            "text/plain": [
              "<Figure size 432x288 with 1 Axes>"
            ]
          },
          "metadata": {
            "tags": []
          }
        }
      ]
    },
    {
      "cell_type": "markdown",
      "metadata": {
        "id": "gnlikOtDjKcY"
      },
      "source": [
        "## 4. seaborn\r\n",
        "> 1) 회귀선 그리기"
      ]
    },
    {
      "cell_type": "code",
      "metadata": {
        "id": "-tE8G4crjC6b"
      },
      "source": [
        "import matplotlib.pyplot as plt\r\n",
        "import seaborn as sns"
      ],
      "execution_count": 96,
      "outputs": []
    },
    {
      "cell_type": "code",
      "metadata": {
        "colab": {
          "base_uri": "https://localhost:8080/",
          "height": 279
        },
        "id": "MVBPwFc2jTyk",
        "outputId": "11e4e591-3968-47e4-8a1b-279e705e92b8"
      },
      "source": [
        "sns.regplot(DF1.Height, DF1.Weight)\r\n",
        "plt.show()"
      ],
      "execution_count": 97,
      "outputs": [
        {
          "output_type": "display_data",
          "data": {
            "image/png": "[encoded data removed]",
            "text/plain": [
              "<Figure size 432x288 with 1 Axes>"
            ]
          },
          "metadata": {
            "tags": [],
            "needs_background": "light"
          }
        }
      ]
    },
    {
      "cell_type": "markdown",
      "metadata": {
        "id": "DWn-aLjUja6N"
      },
      "source": [
        "> 2) 선 그래프"
      ]
    },
    {
      "cell_type": "code",
      "metadata": {
        "colab": {
          "base_uri": "https://localhost:8080/",
          "height": 265
        },
        "id": "S8jQuatzjY4u",
        "outputId": "90ae0555-8cfb-4c0f-bb19-5702d040592f"
      },
      "source": [
        "sns.lineplot(DF1.index, DF1.Height)\r\n",
        "plt.show()"
      ],
      "execution_count": 99,
      "outputs": [
        {
          "output_type": "display_data",
          "data": {
            "image/png": "[encoded data removed]",
            "text/plain": [
              "<Figure size 432x288 with 1 Axes>"
            ]
          },
          "metadata": {
            "tags": [],
            "needs_background": "light"
          }
        }
      ]
    },
    {
      "cell_type": "markdown",
      "metadata": {
        "id": "FY711ulejkxD"
      },
      "source": [
        "> 3) 막대 그래프-연속형"
      ]
    },
    {
      "cell_type": "code",
      "metadata": {
        "colab": {
          "base_uri": "https://localhost:8080/",
          "height": 265
        },
        "id": "IU48MT-ijg3X",
        "outputId": "1e699378-0a41-4f56-c799-2c6c6ecaf6fd"
      },
      "source": [
        "sns.barplot(x = DF1.index, y = DF1.Height)\r\n",
        "plt.show()"
      ],
      "execution_count": 100,
      "outputs": [
        {
          "output_type": "display_data",
          "data": {
            "image/png": "[encoded data removed]",
            "text/plain": [
              "<Figure size 432x288 with 1 Axes>"
            ]
          },
          "metadata": {
            "tags": [],
            "needs_background": "light"
          }
        }
      ]
    },
    {
      "cell_type": "markdown",
      "metadata": {
        "id": "5oVWqg3XjvXm"
      },
      "source": [
        "> 4) 막대 그래프-명목형"
      ]
    },
    {
      "cell_type": "code",
      "metadata": {
        "colab": {
          "base_uri": "https://localhost:8080/",
          "height": 279
        },
        "id": "r8pk9r7zjsbL",
        "outputId": "6adecca2-873b-4fa3-84d1-194085d71e1f"
      },
      "source": [
        "sns.countplot(DF1.BloodType)\r\n",
        "plt.show()"
      ],
      "execution_count": 101,
      "outputs": [
        {
          "output_type": "display_data",
          "data": {
            "image/png": "[encoded data removed]",
            "text/plain": [
              "<Figure size 432x288 with 1 Axes>"
            ]
          },
          "metadata": {
            "tags": [],
            "needs_background": "light"
          }
        }
      ]
    },
    {
      "cell_type": "markdown",
      "metadata": {
        "id": "N3zGPYSKj4lH"
      },
      "source": [
        "> 5) 히스토그램"
      ]
    },
    {
      "cell_type": "code",
      "metadata": {
        "colab": {
          "base_uri": "https://localhost:8080/",
          "height": 279
        },
        "id": "wuTZoAxWj3W-",
        "outputId": "b612b3a0-0e77-44fb-c966-8c63f28014ba"
      },
      "source": [
        "sns.distplot(DF1.Height)\r\n",
        "plt.show()"
      ],
      "execution_count": 102,
      "outputs": [
        {
          "output_type": "display_data",
          "data": {
            "image/png": "[encoded data removed]",
            "text/plain": [
              "<Figure size 432x288 with 1 Axes>"
            ]
          },
          "metadata": {
            "tags": [],
            "needs_background": "light"
          }
        }
      ]
    },
    {
      "cell_type": "markdown",
      "metadata": {
        "id": "ttLqWHNAkE05"
      },
      "source": [
        "> 6) 상자 그래프"
      ]
    },
    {
      "cell_type": "code",
      "metadata": {
        "colab": {
          "base_uri": "https://localhost:8080/",
          "height": 279
        },
        "id": "gIEnTbjYkCZm",
        "outputId": "0c3a208f-46aa-4aea-f5c9-28e59420c428"
      },
      "source": [
        "sns.boxplot(y = DF1.Height, x = DF1.Grade)\r\n",
        "plt.show()"
      ],
      "execution_count": 103,
      "outputs": [
        {
          "output_type": "display_data",
          "data": {
            "image/png": "[encoded data removed]",
            "text/plain": [
              "<Figure size 432x288 with 1 Axes>"
            ]
          },
          "metadata": {
            "tags": [],
            "needs_background": "light"
          }
        }
      ]
    },
    {
      "cell_type": "markdown",
      "metadata": {
        "id": "dezgYRFOkO9W"
      },
      "source": [
        "> 7) 산점도"
      ]
    },
    {
      "cell_type": "code",
      "metadata": {
        "colab": {
          "base_uri": "https://localhost:8080/",
          "height": 279
        },
        "id": "4RqjAQ0tkNDm",
        "outputId": "be4cbecc-dd10-4f10-faa6-8cde51420cc4"
      },
      "source": [
        "sns.scatterplot(DF1.Height, DF1.Weight, s = 50)\r\n",
        "plt.show()"
      ],
      "execution_count": 104,
      "outputs": [
        {
          "output_type": "display_data",
          "data": {
            "image/png": "[encoded data removed]",
            "text/plain": [
              "<Figure size 432x288 with 1 Axes>"
            ]
          },
          "metadata": {
            "tags": [],
            "needs_background": "light"
          }
        }
      ]
    },
    {
      "cell_type": "markdown",
      "metadata": {
        "id": "o8KRz_TIkaKb"
      },
      "source": [
        "본 내용은 2021/02/22~23(월,화) 학습한 내용입니다."
      ]
    }
  ]
}